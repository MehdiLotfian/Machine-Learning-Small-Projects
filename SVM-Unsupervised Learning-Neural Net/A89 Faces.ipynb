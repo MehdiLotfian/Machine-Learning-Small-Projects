{
  "nbformat": 4,
  "nbformat_minor": 0,
  "metadata": {
    "colab": {
      "provenance": []
    },
    "kernelspec": {
      "name": "python3",
      "display_name": "Python 3"
    },
    "language_info": {
      "name": "python"
    }
  },
  "cells": [
    {
      "cell_type": "markdown",
      "metadata": {
        "id": "b07eb33c"
      },
      "source": [
        "<div>\n",
        "<img src='https://upload.wikimedia.org/wikipedia/commons/6/64/Sharif_University_Logo.jpg' alt=\"SUT logo\" width=220 height=220 align=left class=\"saturate\">\n",
        "\n",
        "<br>\n",
        "<font face=\"Times New Roman\">\n",
        "<div dir=ltr align=center>\n",
        "<!-- <font color=0F5298 size=7> -->\n",
        "<font color=0F5298 size=6>\n",
        "    Introduction to Machine Learning <br> <br>\n",
        "<!-- <font color=2565AE size=5> -->\n",
        "<font size=5>\n",
        "    Computer Engineering Department <br>\n",
        "    Spring 2023 <br> <br>\n",
        "<font color=606060 size=5>\n",
        "    Homeworks 8 & 9 (Combined): Practical - Faces <br> <br>\n",
        "<font color=686880 size=4>\n",
        "    TAs: Arman Malekzadeh - Amirhossein Ramazani Bonab - Yalda Shabanzadeh\n",
        "    \n",
        "____"
      ]
    },
    {
      "cell_type": "markdown",
      "metadata": {
        "id": "f5a79508"
      },
      "source": [
        "### Full Name : Mehdi Lotfian\n",
        "### Student Number : 99105689\n",
        "### Colab Link: https://colab.research.google.com/drive/1y8Nbgfb1k0AdyDWuij8Yu71U-UNp3V0F?usp=sharing\n",
        "___"
      ]
    },
    {
      "cell_type": "markdown",
      "source": [
        "In this assignment, you'll be dealing with a dataset consisting of 400 faces, belonging to 40 people. Your main task is to train models capable of recognizing those faces.\n",
        "The faces are `jpg` images packed together as a zip file called `images.zip`, and the `meta.csv` determines from which person each image was taken."
      ],
      "metadata": {
        "id": "QCHy_MoXZJXG"
      }
    },
    {
      "cell_type": "code",
      "execution_count": 156,
      "metadata": {
        "id": "aZE1y9wJY1Ex",
        "colab": {
          "base_uri": "https://localhost:8080/"
        },
        "outputId": "31eec1b8-e227-4526-a065-8862f822b00c"
      },
      "outputs": [
        {
          "output_type": "stream",
          "name": "stdout",
          "text": [
            "--2023-06-27 20:22:16--  https://www.dropbox.com/s/wrias0bjyte3rr2/images.zip?dl=1\n",
            "Resolving www.dropbox.com (www.dropbox.com)... 162.125.8.18, 2620:100:601d:18::a27d:512\n",
            "Connecting to www.dropbox.com (www.dropbox.com)|162.125.8.18|:443... connected.\n",
            "HTTP request sent, awaiting response... 302 Found\n",
            "Location: /s/dl/wrias0bjyte3rr2/images.zip [following]\n",
            "--2023-06-27 20:22:16--  https://www.dropbox.com/s/dl/wrias0bjyte3rr2/images.zip\n",
            "Reusing existing connection to www.dropbox.com:443.\n",
            "HTTP request sent, awaiting response... 302 Found\n",
            "Location: https://uc4e7f5447f577fa7ca6bab01ee9.dl.dropboxusercontent.com/cd/0/get/B-wWPpgxVpEhXHmsjQaM7QjeHF1pgsN3OEYh2aipKbA4JQs41Aj-bVjqLgLrFxIqC4gXdly3uq0VCuy82gnMjhgLchl_KANN70JykqE2KWKyvUfwEhzUMqEIs7TKtewVALBUsG-fBbecslXj-bCIdXNY3CiQEn0kgqP7c72Rd7WEp9FkS3kWaGkpvyC-gbu5Hy0/file?dl=1# [following]\n",
            "--2023-06-27 20:22:17--  https://uc4e7f5447f577fa7ca6bab01ee9.dl.dropboxusercontent.com/cd/0/get/B-wWPpgxVpEhXHmsjQaM7QjeHF1pgsN3OEYh2aipKbA4JQs41Aj-bVjqLgLrFxIqC4gXdly3uq0VCuy82gnMjhgLchl_KANN70JykqE2KWKyvUfwEhzUMqEIs7TKtewVALBUsG-fBbecslXj-bCIdXNY3CiQEn0kgqP7c72Rd7WEp9FkS3kWaGkpvyC-gbu5Hy0/file?dl=1\n",
            "Resolving uc4e7f5447f577fa7ca6bab01ee9.dl.dropboxusercontent.com (uc4e7f5447f577fa7ca6bab01ee9.dl.dropboxusercontent.com)... 162.125.4.15, 2620:100:6018:15::a27d:30f\n",
            "Connecting to uc4e7f5447f577fa7ca6bab01ee9.dl.dropboxusercontent.com (uc4e7f5447f577fa7ca6bab01ee9.dl.dropboxusercontent.com)|162.125.4.15|:443... connected.\n",
            "HTTP request sent, awaiting response... 200 OK\n",
            "Length: 506158 (494K) [application/binary]\n",
            "Saving to: ‘images.zip’\n",
            "\n",
            "images.zip          100%[===================>] 494.29K  2.39MB/s    in 0.2s    \n",
            "\n",
            "2023-06-27 20:22:17 (2.39 MB/s) - ‘images.zip’ saved [506158/506158]\n",
            "\n",
            "--2023-06-27 20:22:17--  https://www.dropbox.com/s/vqt1v8sfmz18rcf/faces-metadata.csv?dl=1\n",
            "Resolving www.dropbox.com (www.dropbox.com)... 162.125.5.18, 2620:100:6018:18::a27d:312\n",
            "Connecting to www.dropbox.com (www.dropbox.com)|162.125.5.18|:443... connected.\n",
            "HTTP request sent, awaiting response... 302 Found\n",
            "Location: /s/dl/vqt1v8sfmz18rcf/faces-metadata.csv [following]\n",
            "--2023-06-27 20:22:18--  https://www.dropbox.com/s/dl/vqt1v8sfmz18rcf/faces-metadata.csv\n",
            "Reusing existing connection to www.dropbox.com:443.\n",
            "HTTP request sent, awaiting response... 302 Found\n",
            "Location: https://uce6ac7ce78a191b9b471ff36465.dl.dropboxusercontent.com/cd/0/get/B-weGpLN4K-6z7xURNZQI6xYIsRoyAY318Koj-J8s6k1nRJ8aYoOmWFB5eCm-YicXir9wSNPap5PBYCpSUmIqL129T_OO_qpqGMp-qrxa67J19SJG3SYN8ovrPzHc1TqfVHgrK0DxcA09_1b78C0FsQjQlhJPRLNjAuQ4n1Wf0kyOrXOSq2Pz-0Il16SrmM_744/file?dl=1# [following]\n",
            "--2023-06-27 20:22:18--  https://uce6ac7ce78a191b9b471ff36465.dl.dropboxusercontent.com/cd/0/get/B-weGpLN4K-6z7xURNZQI6xYIsRoyAY318Koj-J8s6k1nRJ8aYoOmWFB5eCm-YicXir9wSNPap5PBYCpSUmIqL129T_OO_qpqGMp-qrxa67J19SJG3SYN8ovrPzHc1TqfVHgrK0DxcA09_1b78C0FsQjQlhJPRLNjAuQ4n1Wf0kyOrXOSq2Pz-0Il16SrmM_744/file?dl=1\n",
            "Resolving uce6ac7ce78a191b9b471ff36465.dl.dropboxusercontent.com (uce6ac7ce78a191b9b471ff36465.dl.dropboxusercontent.com)... 162.125.8.15, 2620:100:601d:15::a27d:50f\n",
            "Connecting to uce6ac7ce78a191b9b471ff36465.dl.dropboxusercontent.com (uce6ac7ce78a191b9b471ff36465.dl.dropboxusercontent.com)|162.125.8.15|:443... connected.\n",
            "HTTP request sent, awaiting response... 200 OK\n",
            "Length: 5891 (5.8K) [application/binary]\n",
            "Saving to: ‘meta.csv’\n",
            "\n",
            "meta.csv            100%[===================>]   5.75K  --.-KB/s    in 0s      \n",
            "\n",
            "2023-06-27 20:22:18 (1.44 GB/s) - ‘meta.csv’ saved [5891/5891]\n",
            "\n"
          ]
        }
      ],
      "source": [
        "!wget -O images.zip https://www.dropbox.com/s/wrias0bjyte3rr2/images.zip?dl=1\n",
        "!wget -O meta.csv https://www.dropbox.com/s/vqt1v8sfmz18rcf/faces-metadata.csv?dl=1"
      ]
    },
    {
      "cell_type": "code",
      "source": [
        "# you can use the following packages\n",
        "from PIL import Image\n",
        "import numpy as np\n",
        "import pandas as pd\n",
        "from sklearn.preprocessing import LabelEncoder\n",
        "from sklearn.model_selection import train_test_split\n",
        "import tensorflow as tf\n",
        "from tensorflow import keras\n",
        "from tensorflow.keras import layers\n",
        "from sklearn.cluster import KMeans\n",
        "from sklearn.decomposition import TruncatedSVD\n",
        "import plotly.express as px"
      ],
      "metadata": {
        "id": "6_7895lFnun2"
      },
      "execution_count": 157,
      "outputs": []
    },
    {
      "cell_type": "markdown",
      "source": [
        "# Sec 1: Data Preparation"
      ],
      "metadata": {
        "id": "rOuCpoXVxYAc"
      }
    },
    {
      "cell_type": "markdown",
      "source": [
        "Load all images as a numpy array (called `x`) and the metadata as a dataframe **(P1-1: 25 points)**"
      ],
      "metadata": {
        "id": "D67J4M0lnD62"
      }
    },
    {
      "cell_type": "code",
      "source": [
        "from zipfile import ZipFile"
      ],
      "metadata": {
        "id": "XBKb4i8F5LmF"
      },
      "execution_count": 158,
      "outputs": []
    },
    {
      "cell_type": "code",
      "source": [
        "file_names = ['content/img-data/' + str(i) + '.jpg' for i in range(400)]\n",
        "x = []\n",
        "for file_name in file_names:\n",
        "    with ZipFile( \"images.zip\", \"r\") as zip_ref:\n",
        "        with zip_ref.open(file_name) as image_file:\n",
        "            img = np.array(Image.open(image_file))\n",
        "            x.append(img)\n",
        "x = np.array(x)\n",
        "x"
      ],
      "metadata": {
        "colab": {
          "base_uri": "https://localhost:8080/"
        },
        "id": "lrtNOTnohzsV",
        "outputId": "02ea2c80-9cfc-4c52-c870-3d98c8ab62ff"
      },
      "execution_count": 159,
      "outputs": [
        {
          "output_type": "execute_result",
          "data": {
            "text/plain": [
              "array([[[ 82,  96, 108, ...,  97,  87,  81],\n",
              "        [ 86, 100, 112, ...,  96,  84,  76],\n",
              "        [ 88, 101, 116, ...,  97,  81,  74],\n",
              "        ...,\n",
              "        [ 51,  49,  54, ...,  42,  41,  42],\n",
              "        [ 52,  50,  55, ...,  40,  39,  40],\n",
              "        [ 53,  51,  54, ...,  38,  37,  37]],\n",
              "\n",
              "       [[113, 121, 133, ...,  49,  52,  44],\n",
              "        [119, 123, 132, ...,  51,  55,  49],\n",
              "        [127, 128, 135, ...,  50,  54,  52],\n",
              "        ...,\n",
              "        [197, 198, 199, ...,  37,  37,  37],\n",
              "        [196, 198, 200, ...,  33,  33,  33],\n",
              "        [197, 199, 202, ...,  38,  38,  38]],\n",
              "\n",
              "       [[ 80, 105, 125, ..., 108,  92,  79],\n",
              "        [ 75,  98, 123, ..., 107,  91,  79],\n",
              "        [ 66,  88, 121, ..., 105,  90,  79],\n",
              "        ...,\n",
              "        [ 34,  18,  26, ...,  35,  35,  38],\n",
              "        [ 32,  17,  25, ...,  35,  36,  38],\n",
              "        [ 32,  17,  24, ...,  36,  36,  39]],\n",
              "\n",
              "       ...,\n",
              "\n",
              "       [[124, 138, 154, ...,  80,  57,  55],\n",
              "        [122, 137, 156, ...,  76,  52,  48],\n",
              "        [121, 137, 156, ...,  71,  50,  44],\n",
              "        ...,\n",
              "        [  6, 110, 141, ...,  43,  44,  44],\n",
              "        [ 47, 128, 135, ...,  43,  44,  44],\n",
              "        [108, 147, 123, ...,  43,  44,  44]],\n",
              "\n",
              "       [[ 52,  62,  53, ..., 182, 178, 179],\n",
              "        [ 51,  58,  52, ..., 180, 177, 178],\n",
              "        [ 52,  54,  51, ..., 178, 176, 177],\n",
              "        ...,\n",
              "        [ 68,  68,  68, ..., 137, 149, 153],\n",
              "        [ 68,  68,  68, ..., 144, 151, 153],\n",
              "        [ 68,  68,  68, ..., 145, 148, 150]],\n",
              "\n",
              "       [[126, 124,  68, ..., 141, 142, 151],\n",
              "        [131, 125,  69, ..., 144, 143, 148],\n",
              "        [129, 122,  74, ..., 149, 144, 144],\n",
              "        ...,\n",
              "        [100, 100, 101, ...,  88,  93,  98],\n",
              "        [ 99, 100, 100, ...,  87,  92,  97],\n",
              "        [ 99, 100, 100, ...,  86,  91,  99]]], dtype=uint8)"
            ]
          },
          "metadata": {},
          "execution_count": 159
        }
      ]
    },
    {
      "cell_type": "code",
      "source": [
        "df = pd.read_csv('meta.csv')\n",
        "df"
      ],
      "metadata": {
        "colab": {
          "base_uri": "https://localhost:8080/",
          "height": 424
        },
        "id": "Vp0mYAjq6c7N",
        "outputId": "3ccb0d0a-969d-47a1-885d-93dd4adb9ae9"
      },
      "execution_count": 160,
      "outputs": [
        {
          "output_type": "execute_result",
          "data": {
            "text/plain": [
              "        path  label\n",
              "0      0.jpg  jones\n",
              "1      1.jpg  jones\n",
              "2      2.jpg  jones\n",
              "3      3.jpg  jones\n",
              "4      4.jpg  jones\n",
              "..       ...    ...\n",
              "395  395.jpg   vaux\n",
              "396  396.jpg   vaux\n",
              "397  397.jpg   vaux\n",
              "398  398.jpg   vaux\n",
              "399  399.jpg   vaux\n",
              "\n",
              "[400 rows x 2 columns]"
            ],
            "text/html": [
              "\n",
              "  <div id=\"df-e8919654-b9cc-4655-b9f8-4f9abfd87d10\">\n",
              "    <div class=\"colab-df-container\">\n",
              "      <div>\n",
              "<style scoped>\n",
              "    .dataframe tbody tr th:only-of-type {\n",
              "        vertical-align: middle;\n",
              "    }\n",
              "\n",
              "    .dataframe tbody tr th {\n",
              "        vertical-align: top;\n",
              "    }\n",
              "\n",
              "    .dataframe thead th {\n",
              "        text-align: right;\n",
              "    }\n",
              "</style>\n",
              "<table border=\"1\" class=\"dataframe\">\n",
              "  <thead>\n",
              "    <tr style=\"text-align: right;\">\n",
              "      <th></th>\n",
              "      <th>path</th>\n",
              "      <th>label</th>\n",
              "    </tr>\n",
              "  </thead>\n",
              "  <tbody>\n",
              "    <tr>\n",
              "      <th>0</th>\n",
              "      <td>0.jpg</td>\n",
              "      <td>jones</td>\n",
              "    </tr>\n",
              "    <tr>\n",
              "      <th>1</th>\n",
              "      <td>1.jpg</td>\n",
              "      <td>jones</td>\n",
              "    </tr>\n",
              "    <tr>\n",
              "      <th>2</th>\n",
              "      <td>2.jpg</td>\n",
              "      <td>jones</td>\n",
              "    </tr>\n",
              "    <tr>\n",
              "      <th>3</th>\n",
              "      <td>3.jpg</td>\n",
              "      <td>jones</td>\n",
              "    </tr>\n",
              "    <tr>\n",
              "      <th>4</th>\n",
              "      <td>4.jpg</td>\n",
              "      <td>jones</td>\n",
              "    </tr>\n",
              "    <tr>\n",
              "      <th>...</th>\n",
              "      <td>...</td>\n",
              "      <td>...</td>\n",
              "    </tr>\n",
              "    <tr>\n",
              "      <th>395</th>\n",
              "      <td>395.jpg</td>\n",
              "      <td>vaux</td>\n",
              "    </tr>\n",
              "    <tr>\n",
              "      <th>396</th>\n",
              "      <td>396.jpg</td>\n",
              "      <td>vaux</td>\n",
              "    </tr>\n",
              "    <tr>\n",
              "      <th>397</th>\n",
              "      <td>397.jpg</td>\n",
              "      <td>vaux</td>\n",
              "    </tr>\n",
              "    <tr>\n",
              "      <th>398</th>\n",
              "      <td>398.jpg</td>\n",
              "      <td>vaux</td>\n",
              "    </tr>\n",
              "    <tr>\n",
              "      <th>399</th>\n",
              "      <td>399.jpg</td>\n",
              "      <td>vaux</td>\n",
              "    </tr>\n",
              "  </tbody>\n",
              "</table>\n",
              "<p>400 rows × 2 columns</p>\n",
              "</div>\n",
              "      <button class=\"colab-df-convert\" onclick=\"convertToInteractive('df-e8919654-b9cc-4655-b9f8-4f9abfd87d10')\"\n",
              "              title=\"Convert this dataframe to an interactive table.\"\n",
              "              style=\"display:none;\">\n",
              "        \n",
              "  <svg xmlns=\"http://www.w3.org/2000/svg\" height=\"24px\"viewBox=\"0 0 24 24\"\n",
              "       width=\"24px\">\n",
              "    <path d=\"M0 0h24v24H0V0z\" fill=\"none\"/>\n",
              "    <path d=\"M18.56 5.44l.94 2.06.94-2.06 2.06-.94-2.06-.94-.94-2.06-.94 2.06-2.06.94zm-11 1L8.5 8.5l.94-2.06 2.06-.94-2.06-.94L8.5 2.5l-.94 2.06-2.06.94zm10 10l.94 2.06.94-2.06 2.06-.94-2.06-.94-.94-2.06-.94 2.06-2.06.94z\"/><path d=\"M17.41 7.96l-1.37-1.37c-.4-.4-.92-.59-1.43-.59-.52 0-1.04.2-1.43.59L10.3 9.45l-7.72 7.72c-.78.78-.78 2.05 0 2.83L4 21.41c.39.39.9.59 1.41.59.51 0 1.02-.2 1.41-.59l7.78-7.78 2.81-2.81c.8-.78.8-2.07 0-2.86zM5.41 20L4 18.59l7.72-7.72 1.47 1.35L5.41 20z\"/>\n",
              "  </svg>\n",
              "      </button>\n",
              "      \n",
              "  <style>\n",
              "    .colab-df-container {\n",
              "      display:flex;\n",
              "      flex-wrap:wrap;\n",
              "      gap: 12px;\n",
              "    }\n",
              "\n",
              "    .colab-df-convert {\n",
              "      background-color: #E8F0FE;\n",
              "      border: none;\n",
              "      border-radius: 50%;\n",
              "      cursor: pointer;\n",
              "      display: none;\n",
              "      fill: #1967D2;\n",
              "      height: 32px;\n",
              "      padding: 0 0 0 0;\n",
              "      width: 32px;\n",
              "    }\n",
              "\n",
              "    .colab-df-convert:hover {\n",
              "      background-color: #E2EBFA;\n",
              "      box-shadow: 0px 1px 2px rgba(60, 64, 67, 0.3), 0px 1px 3px 1px rgba(60, 64, 67, 0.15);\n",
              "      fill: #174EA6;\n",
              "    }\n",
              "\n",
              "    [theme=dark] .colab-df-convert {\n",
              "      background-color: #3B4455;\n",
              "      fill: #D2E3FC;\n",
              "    }\n",
              "\n",
              "    [theme=dark] .colab-df-convert:hover {\n",
              "      background-color: #434B5C;\n",
              "      box-shadow: 0px 1px 3px 1px rgba(0, 0, 0, 0.15);\n",
              "      filter: drop-shadow(0px 1px 2px rgba(0, 0, 0, 0.3));\n",
              "      fill: #FFFFFF;\n",
              "    }\n",
              "  </style>\n",
              "\n",
              "      <script>\n",
              "        const buttonEl =\n",
              "          document.querySelector('#df-e8919654-b9cc-4655-b9f8-4f9abfd87d10 button.colab-df-convert');\n",
              "        buttonEl.style.display =\n",
              "          google.colab.kernel.accessAllowed ? 'block' : 'none';\n",
              "\n",
              "        async function convertToInteractive(key) {\n",
              "          const element = document.querySelector('#df-e8919654-b9cc-4655-b9f8-4f9abfd87d10');\n",
              "          const dataTable =\n",
              "            await google.colab.kernel.invokeFunction('convertToInteractive',\n",
              "                                                     [key], {});\n",
              "          if (!dataTable) return;\n",
              "\n",
              "          const docLinkHtml = 'Like what you see? Visit the ' +\n",
              "            '<a target=\"_blank\" href=https://colab.research.google.com/notebooks/data_table.ipynb>data table notebook</a>'\n",
              "            + ' to learn more about interactive tables.';\n",
              "          element.innerHTML = '';\n",
              "          dataTable['output_type'] = 'display_data';\n",
              "          await google.colab.output.renderOutput(dataTable, element);\n",
              "          const docLink = document.createElement('div');\n",
              "          docLink.innerHTML = docLinkHtml;\n",
              "          element.appendChild(docLink);\n",
              "        }\n",
              "      </script>\n",
              "    </div>\n",
              "  </div>\n",
              "  "
            ]
          },
          "metadata": {},
          "execution_count": 160
        }
      ]
    },
    {
      "cell_type": "markdown",
      "source": [
        "Flatten and normalize the images **(P1-2: 10 points)**\n",
        "\n",
        "Note: For this part, normalization only means dividing by 255."
      ],
      "metadata": {
        "id": "Bllz0xnSn6Gv"
      }
    },
    {
      "cell_type": "code",
      "source": [
        "x = x.reshape(x.shape[0], -1)\n",
        "x = x / 255.0\n",
        "x"
      ],
      "metadata": {
        "id": "mcAT92tIvMk_",
        "colab": {
          "base_uri": "https://localhost:8080/"
        },
        "outputId": "c5397389-59a7-45eb-f68d-6ae756bcc233"
      },
      "execution_count": 161,
      "outputs": [
        {
          "output_type": "execute_result",
          "data": {
            "text/plain": [
              "array([[0.32156863, 0.37647059, 0.42352941, ..., 0.14901961, 0.14509804,\n",
              "        0.14509804],\n",
              "       [0.44313725, 0.4745098 , 0.52156863, ..., 0.14901961, 0.14901961,\n",
              "        0.14901961],\n",
              "       [0.31372549, 0.41176471, 0.49019608, ..., 0.14117647, 0.14117647,\n",
              "        0.15294118],\n",
              "       ...,\n",
              "       [0.48627451, 0.54117647, 0.60392157, ..., 0.16862745, 0.17254902,\n",
              "        0.17254902],\n",
              "       [0.20392157, 0.24313725, 0.20784314, ..., 0.56862745, 0.58039216,\n",
              "        0.58823529],\n",
              "       [0.49411765, 0.48627451, 0.26666667, ..., 0.3372549 , 0.35686275,\n",
              "        0.38823529]])"
            ]
          },
          "metadata": {},
          "execution_count": 161
        }
      ]
    },
    {
      "cell_type": "markdown",
      "source": [
        "Encode the labels using `LabelEncoder` and save the result as a numpy array called `y` **(P1-3: 5 points)**"
      ],
      "metadata": {
        "id": "ZyXQqbNLuAJg"
      }
    },
    {
      "cell_type": "code",
      "source": [
        "le = LabelEncoder()\n",
        "y = le.fit_transform(df['label'])\n",
        "y"
      ],
      "metadata": {
        "id": "rz1_cg3ipHLE",
        "colab": {
          "base_uri": "https://localhost:8080/"
        },
        "outputId": "ab09a1bf-c25e-4731-b10c-4b711282ff3f"
      },
      "execution_count": 162,
      "outputs": [
        {
          "output_type": "execute_result",
          "data": {
            "text/plain": [
              "array([17, 17, 17, 17, 17, 17, 17, 17, 17, 17, 33, 33, 33, 33, 33, 33, 33,\n",
              "       33, 33, 33,  2,  2,  2,  2,  2,  2,  2,  2,  2,  2, 37, 37, 37, 37,\n",
              "       37, 37, 37, 37, 37, 37, 36, 36, 36, 36, 36, 36, 36, 36, 36, 36, 11,\n",
              "       11, 11, 11, 11, 11, 11, 11, 11, 11,  5,  5,  5,  5,  5,  5,  5,  5,\n",
              "        5,  5, 38, 38, 38, 38, 38, 38, 38, 38, 38, 38, 18, 18, 18, 18, 18,\n",
              "       18, 18, 18, 18, 18,  1,  1,  1,  1,  1,  1,  1,  1,  1,  1, 19, 19,\n",
              "       19, 19, 19, 19, 19, 19, 19, 19,  9,  9,  9,  9,  9,  9,  9,  9,  9,\n",
              "        9, 32, 32, 32, 32, 32, 32, 32, 32, 32, 32, 10, 10, 10, 10, 10, 10,\n",
              "       10, 10, 10, 10, 29, 29, 29, 29, 29, 29, 29, 29, 29, 29,  6,  6,  6,\n",
              "        6,  6,  6,  6,  6,  6,  6, 30, 30, 30, 30, 30, 30, 30, 30, 30, 30,\n",
              "        3,  3,  3,  3,  3,  3,  3,  3,  3,  3,  4,  4,  4,  4,  4,  4,  4,\n",
              "        4,  4,  4, 35, 35, 35, 35, 35, 35, 35, 35, 35, 35, 28, 28, 28, 28,\n",
              "       28, 28, 28, 28, 28, 28, 31, 31, 31, 31, 31, 31, 31, 31, 31, 31, 24,\n",
              "       24, 24, 24, 24, 24, 24, 24, 24, 24,  0,  0,  0,  0,  0,  0,  0,  0,\n",
              "        0,  0, 15, 15, 15, 15, 15, 15, 15, 15, 15, 15, 22, 22, 22, 22, 22,\n",
              "       22, 22, 22, 22, 22,  8,  8,  8,  8,  8,  8,  8,  8,  8,  8, 23, 23,\n",
              "       23, 23, 23, 23, 23, 23, 23, 23, 16, 16, 16, 16, 16, 16, 16, 16, 16,\n",
              "       16, 30, 30, 30, 30, 30, 30, 30, 30, 30, 30, 25, 25, 25, 25, 25, 25,\n",
              "       25, 25, 25, 25, 26, 26, 26, 26, 26, 26, 26, 26, 26, 26, 13, 13, 13,\n",
              "       13, 13, 13, 13, 13, 13, 13, 14, 14, 14, 14, 14, 14, 14, 14, 14, 14,\n",
              "       12, 12, 12, 12, 12, 12, 12, 12, 12, 12, 20, 20, 20, 20, 20, 20, 20,\n",
              "       20, 20, 20, 21, 21, 21, 21, 21, 21, 21, 21, 21, 21,  7,  7,  7,  7,\n",
              "        7,  7,  7,  7,  7,  7, 27, 27, 27, 27, 27, 27, 27, 27, 27, 27, 34,\n",
              "       34, 34, 34, 34, 34, 34, 34, 34, 34])"
            ]
          },
          "metadata": {},
          "execution_count": 162
        }
      ]
    },
    {
      "cell_type": "markdown",
      "source": [
        "Split the data into training (80%), validation (10%), and testing (10%) parts. **(P1-4: 10 points)**\n",
        "\n",
        "Note: The split procedure should maintain the class balance. This is sometimes called \"[stratified sampling](https://en.wikipedia.org/wiki/Stratified_sampling)\"."
      ],
      "metadata": {
        "id": "o4yGbT6HuDks"
      }
    },
    {
      "cell_type": "code",
      "source": [
        "x_train, x_test, y_train, y_test = train_test_split(x, y, test_size=0.1, stratify = y, random_state=1)\n",
        "x_train, x_val, y_train, y_val = train_test_split(x_train, y_train, test_size=0.11, stratify = y_train, random_state=1)"
      ],
      "metadata": {
        "id": "MtOoeS0ewOye"
      },
      "execution_count": 163,
      "outputs": []
    },
    {
      "cell_type": "code",
      "source": [
        "unique_values, counts = np.unique(y_train, return_counts=True)\n",
        "print(unique_values)\n",
        "print(counts)"
      ],
      "metadata": {
        "colab": {
          "base_uri": "https://localhost:8080/"
        },
        "id": "wzjp5Yii8_vK",
        "outputId": "07df5b27-7f24-40bf-ee50-d0944ea7cca9"
      },
      "execution_count": 164,
      "outputs": [
        {
          "output_type": "stream",
          "name": "stdout",
          "text": [
            "[ 0  1  2  3  4  5  6  7  8  9 10 11 12 13 14 15 16 17 18 19 20 21 22 23\n",
            " 24 25 26 27 28 29 30 31 32 33 34 35 36 37 38]\n",
            "[ 8  8  8  8  8  8  8  8  8  8  8  8  8  8  8  8  8  8  8  8  8  8  8  8\n",
            "  8  8  8  8  8  8 16  8  8  8  8  8  8  8  8]\n"
          ]
        }
      ]
    },
    {
      "cell_type": "markdown",
      "source": [
        "# Sec 2: SVM"
      ],
      "metadata": {
        "id": "G8YV5obFxgmr"
      }
    },
    {
      "cell_type": "markdown",
      "source": [
        "## Subsec 2.1."
      ],
      "metadata": {
        "id": "ZhlriGrP1T9q"
      }
    },
    {
      "cell_type": "markdown",
      "source": [
        "Train a SVM using `sklearn`. Note that the hyperparameter tuning should be done using the \"validation\" set. **(P2-1-1: 20 points)**"
      ],
      "metadata": {
        "id": "5n0SLDtE0vih"
      }
    },
    {
      "cell_type": "code",
      "source": [
        "from sklearn import svm\n",
        "from sklearn.metrics import accuracy_score, f1_score"
      ],
      "metadata": {
        "id": "LBA5UHB9_4Sr"
      },
      "execution_count": 165,
      "outputs": []
    },
    {
      "cell_type": "code",
      "source": [
        "C_values = [0.001, 0.01, 0.1, 1, 10]\n",
        "gamma_values = [0.001, 0.01, 0.1, 1, 10, \"scale\", \"auto\"]\n",
        "\n",
        "best_accuracy = 0.0\n",
        "best_gamma = 0\n",
        "best_C = 0\n",
        "for gamma in gamma_values:\n",
        "    for C in C_values:\n",
        "        svm_sklearn = svm.SVC(gamma=gamma, C=C)\n",
        "        svm_sklearn.fit(x_train, y_train)\n",
        "        val_predictions = svm_sklearn.predict(x_val)\n",
        "        val_accuracy = accuracy_score(y_val, val_predictions)\n",
        "        if val_accuracy > best_accuracy:\n",
        "            best_accuracy = val_accuracy\n",
        "            best_gamma = gamma\n",
        "            best_C = C"
      ],
      "metadata": {
        "id": "Xuf__Dn8aoNU"
      },
      "execution_count": 166,
      "outputs": []
    },
    {
      "cell_type": "code",
      "source": [
        "print(f\"Best Gamma: {best_gamma}, Best C: {best_C}, Best Accuracy: {best_accuracy}\")"
      ],
      "metadata": {
        "colab": {
          "base_uri": "https://localhost:8080/"
        },
        "id": "oj44bLN1viDH",
        "outputId": "d193e073-546a-4bd7-b414-09cbe3e1b23b"
      },
      "execution_count": 167,
      "outputs": [
        {
          "output_type": "stream",
          "name": "stdout",
          "text": [
            "Best Gamma: 0.001, Best C: 10, Best Accuracy: 0.925\n"
          ]
        }
      ]
    },
    {
      "cell_type": "markdown",
      "source": [
        "Report the accuracy and F1-score of the classifier on the testing set **(P2-1-2: 10 points)**"
      ],
      "metadata": {
        "id": "mP97Fgtq03I9"
      }
    },
    {
      "cell_type": "code",
      "source": [
        "svm_sklearn = svm.SVC(gamma=best_gamma, C=best_C)\n",
        "svm_sklearn.fit(x_train, y_train)\n",
        "y_pred_svm_sklearn = svm_sklearn.predict(x_test)"
      ],
      "metadata": {
        "id": "9hAz00vB1S8O"
      },
      "execution_count": 168,
      "outputs": []
    },
    {
      "cell_type": "code",
      "source": [
        "print(f\"Accuracy: {accuracy_score(y_pred_svm_sklearn, y_test)}, F1 score: {f1_score(y_pred_svm_sklearn, y_test, average='weighted')}\")"
      ],
      "metadata": {
        "colab": {
          "base_uri": "https://localhost:8080/"
        },
        "id": "aShD4L8SxPiX",
        "outputId": "9ae2282e-1c1c-4db8-f536-4e0e694915c3"
      },
      "execution_count": 169,
      "outputs": [
        {
          "output_type": "stream",
          "name": "stdout",
          "text": [
            "Accuracy: 0.975, F1 score: 0.985\n"
          ]
        }
      ]
    },
    {
      "cell_type": "markdown",
      "source": [
        "## Subsec 2.2."
      ],
      "metadata": {
        "id": "JsaU0aq71ctB"
      }
    },
    {
      "cell_type": "markdown",
      "source": [
        "Train a SVM from scratch using the following class **(P2-2-1: 40 points)**\n",
        "\n",
        "Note: For this part, you are not required to use the validation set for hyperparameter tuning. However, you might get better results if you do that."
      ],
      "metadata": {
        "id": "N-xU9teJ1gwq"
      }
    },
    {
      "cell_type": "code",
      "source": [
        "class SVM:\n",
        "    def __init__(self, C = 1.0):\n",
        "        self.C = C\n",
        "        self.w = 0\n",
        "        self.b = 0\n",
        "\n",
        "    def hingeloss(self, w, b, x, y):\n",
        "        reg = 0.5 * (w * w)\n",
        "\n",
        "        for i in range(x.shape[0]):\n",
        "            opt_term = y[i] * ((np.dot(w, x[i])) + b)\n",
        "\n",
        "            loss = reg + self.C * max(0, 1-opt_term)\n",
        "        return loss[0][0]\n",
        "\n",
        "    def fit(self, X, y, batch_size=100, learning_rate=0.001, epochs=1000):\n",
        "        \"\"\"Fit the SVM model to dataset X in one-vs-one manner.\n",
        "\n",
        "        Parameters\n",
        "        ----------\n",
        "        X : array-like of shape (n_samples, n_features)\n",
        "            Training data, where `n_samples` is the number of samples\n",
        "            and `n_features` is the number of features.\n",
        "\n",
        "        y : array-like of shape (n_samples,)\n",
        "            Training labels, where `n_samples` is the number of samples.\n",
        "\n",
        "        Returns\n",
        "        -------\n",
        "        self : object\n",
        "            Returns the instance itself.\n",
        "        \"\"\"\n",
        "\n",
        "        ############ Your Code ############\n",
        "        # STEPS (For each of the classifiers you would need to train)\n",
        "        # 1. Setup SVM objective function in QP form\n",
        "        # 2. Solve the QP problem and get the optimal lagrange multipliers\n",
        "        # 3. Get support vectors and calculate the weight vector\n",
        "\n",
        "        number_of_features = X.shape[1]\n",
        "        number_of_samples = X.shape[0]\n",
        "\n",
        "        c = self.C\n",
        "        ids = np.arange(number_of_samples)\n",
        "\n",
        "        np.random.shuffle(ids)\n",
        "        w = np.zeros((1, number_of_features))\n",
        "        b = 0\n",
        "        losses = []\n",
        "\n",
        "        for i in range(epochs):\n",
        "            l = self.hingeloss(w, b, X, y)\n",
        "\n",
        "            losses.append(l)\n",
        "\n",
        "            for batch_initial in range(0, number_of_samples, batch_size):\n",
        "                gradw = 0\n",
        "                gradb = 0\n",
        "\n",
        "                for j in range(batch_initial, batch_initial + batch_size):\n",
        "                    if j < number_of_samples:\n",
        "                        x = ids[j]\n",
        "                        ti = y[x] * (np.dot(w, X[x].T) + b)\n",
        "\n",
        "                        if ti > 1:\n",
        "                            gradw += 0\n",
        "                            gradb += 0\n",
        "                        else:\n",
        "                            gradw += c * y[x] * X[x]\n",
        "                            gradb += c * y[x]\n",
        "\n",
        "                w = w - learning_rate * w + learning_rate * gradw\n",
        "                b = b + learning_rate * gradb\n",
        "\n",
        "        self.w = w\n",
        "        self.b = b\n",
        "\n",
        "        return self.w, self.b, losses\n",
        "\n",
        "    def transform(self, X):\n",
        "        \"\"\"Fit the model with X and apply the dimensionality reduction on X.\n",
        "\n",
        "        Parameters\n",
        "        ----------\n",
        "        X : array-like of shape (n_samples, n_features)\n",
        "            Training data, where `n_samples` is the number of samples\n",
        "            and `n_features` is the number of features.\n",
        "\n",
        "        Returns\n",
        "        -------\n",
        "        y_pred : ndarray of shape (n_samples)\n",
        "            Your predictions for the class of each sample\n",
        "        \"\"\"\n",
        "\n",
        "        ############ Your Code ############\n",
        "        # Predict using each classifier and get votes for each class\n",
        "        prediction = np.dot(X, self.w[0]) + self.b\n",
        "        return np.sign(prediction)"
      ],
      "metadata": {
        "id": "rxOy4Ino1fHF"
      },
      "execution_count": 170,
      "outputs": []
    },
    {
      "cell_type": "code",
      "source": [
        "C_values = [0.001, 0.01, 0.1, 1, 10]\n",
        "\n",
        "best_accuracy_scratch = 0.0\n",
        "best_C_scratch = 0\n",
        "for C in C_values:\n",
        "    svm = SVM(C=C)\n",
        "    svm.fit(x_train, y_train)\n",
        "    val_predictions = svm_sklearn.predict(x_val)\n",
        "    val_accuracy = accuracy_score(y_val, val_predictions)\n",
        "    if val_accuracy > best_accuracy:\n",
        "        best_accuracy_scratch = val_accuracy\n",
        "        best_C_scratch = C"
      ],
      "metadata": {
        "id": "QVxpRF0O-Bfs"
      },
      "execution_count": 171,
      "outputs": []
    },
    {
      "cell_type": "code",
      "source": [
        "print(f\"Best C: {best_C_scratch}, Best Accuracy: {best_accuracy_scratch}\")"
      ],
      "metadata": {
        "colab": {
          "base_uri": "https://localhost:8080/"
        },
        "id": "Fr-2rMB1_M4P",
        "outputId": "b6eb3e55-7f5a-4696-ec7c-3e718a79fc83"
      },
      "execution_count": 172,
      "outputs": [
        {
          "output_type": "stream",
          "name": "stdout",
          "text": [
            "Best C: 0, Best Accuracy: 0.0\n"
          ]
        }
      ]
    },
    {
      "cell_type": "markdown",
      "source": [
        "Report the accuracy and F1-score of the classifier on the testing set **(P2-2-2: 10 points)**"
      ],
      "metadata": {
        "id": "j193U_4l2d6_"
      }
    },
    {
      "cell_type": "code",
      "source": [
        "svm = SVM(best_C)\n",
        "svm.fit(x_train, y_train)\n",
        "y_pred_svm = svm.transform(x_test)"
      ],
      "metadata": {
        "id": "M0bVjCwEAVnf"
      },
      "execution_count": 199,
      "outputs": []
    },
    {
      "cell_type": "code",
      "source": [
        "print(f\"Accuracy: {accuracy_score(y_pred_svm, y_test)}, F1 score: {f1_score(y_pred_svm, y_test, average='weighted')}\")"
      ],
      "metadata": {
        "colab": {
          "base_uri": "https://localhost:8080/"
        },
        "id": "kTvMMcfZ-TcV",
        "outputId": "9f2251f2-4d71-49db-bca4-076bbb619ef3"
      },
      "execution_count": 200,
      "outputs": [
        {
          "output_type": "stream",
          "name": "stdout",
          "text": [
            "Accuracy: 0.025, F1 score: 0.04878048780487806\n"
          ]
        }
      ]
    },
    {
      "cell_type": "markdown",
      "source": [
        "# Sec 3: PCA"
      ],
      "metadata": {
        "id": "rRmd_iUI1mn-"
      }
    },
    {
      "cell_type": "markdown",
      "source": [
        "Fetch all images taken from `jones`, `taylor`, `anderson` and `wilson` (use the `labelencoder` object). Perform PCA from scratch using the following `class` to reduce the dimension of those images to 3. Save the results as a `numpy` array of shape `(40, 3)`. **(P3-1: 30 points)**"
      ],
      "metadata": {
        "id": "rjYFWT1-2jNg"
      }
    },
    {
      "cell_type": "code",
      "source": [
        "label_encoder = LabelEncoder()\n",
        "y_encoded = label_encoder.fit_transform(df['label'])\n",
        "\n",
        "target_names = ['jones', 'taylor', 'anderson', 'wilson']\n",
        "target_indices = label_encoder.transform(target_names)\n",
        "\n",
        "filtered_images = x[np.isin(y, target_indices)]\n",
        "filtered_labels = y_encoded[np.isin(y, target_indices)]\n",
        "filtered_images = filtered_images.reshape(filtered_images.shape[0], -1)\n",
        "\n",
        "filtered_images.shape"
      ],
      "metadata": {
        "id": "aC32bpqpgtc-",
        "colab": {
          "base_uri": "https://localhost:8080/"
        },
        "outputId": "56729f72-caad-4db9-deaf-4598b04b2b72"
      },
      "execution_count": 175,
      "outputs": [
        {
          "output_type": "execute_result",
          "data": {
            "text/plain": [
              "(40, 4096)"
            ]
          },
          "metadata": {},
          "execution_count": 175
        }
      ]
    },
    {
      "cell_type": "code",
      "source": [
        "class PCA:\n",
        "    def __init__(self, n_components):\n",
        "        self.n_components = n_components\n",
        "        self.components_ = None\n",
        "\n",
        "    def fit(self, X):\n",
        "        \"\"\"Fit the model with X.\n",
        "\n",
        "        Parameters\n",
        "        ----------\n",
        "        X : array-like of shape (n_samples, n_features)\n",
        "            Training data, where `n_samples` is the number of samples\n",
        "            and `n_features` is the number of features.\n",
        "\n",
        "        Returns\n",
        "        -------\n",
        "        self : object\n",
        "            Returns the instance itself.\n",
        "        \"\"\"\n",
        "        ############ Your Code ############\n",
        "\n",
        "        X_meaned = X - np.mean(X , axis = 0)\n",
        "\n",
        "        cov_mat = np.cov(X_meaned , rowvar = False)\n",
        "\n",
        "        eigen_values , eigen_vectors = np.linalg.eigh(cov_mat)\n",
        "\n",
        "        sorted_index = np.argsort(eigen_values)[::-1]\n",
        "        sorted_eigenvalue = eigen_values[sorted_index]\n",
        "        self.components_ = eigen_vectors[:,sorted_index]\n",
        "\n",
        "        return self\n",
        "\n",
        "    def transform(self, X):\n",
        "        \"\"\"Fit the model with X and apply the dimensionality reduction on X.\n",
        "\n",
        "        Parameters\n",
        "        ----------\n",
        "        X : array-like of shape (n_samples, n_features)\n",
        "            Training data, where `n_samples` is the number of samples\n",
        "            and `n_features` is the number of features.\n",
        "\n",
        "        Returns\n",
        "        -------\n",
        "        X_new : ndarray of shape (n_samples, n_components)\n",
        "            Transformed values.\n",
        "        \"\"\"\n",
        "        assert self.components_ is not None\n",
        "\n",
        "        ############ Your Code ############\n",
        "\n",
        "        X_meaned = X - np.mean(X , axis = 0)\n",
        "\n",
        "        eigenvector_subset = self.components_[:,0:self.n_components]\n",
        "\n",
        "        X_reduced = np.dot(eigenvector_subset.transpose(), X_meaned.transpose()).transpose()\n",
        "\n",
        "        return X_reduced"
      ],
      "metadata": {
        "id": "nz8BZ31S2h7d"
      },
      "execution_count": 176,
      "outputs": []
    },
    {
      "cell_type": "code",
      "source": [
        "pca = PCA(n_components=3)\n",
        "pca.fit(filtered_images)"
      ],
      "metadata": {
        "colab": {
          "base_uri": "https://localhost:8080/"
        },
        "id": "VoSIEKk-LD1Z",
        "outputId": "917ca975-d1c1-43e5-c4cd-92a30a873ccc"
      },
      "execution_count": 177,
      "outputs": [
        {
          "output_type": "execute_result",
          "data": {
            "text/plain": [
              "<__main__.PCA at 0x7f0ea83d2260>"
            ]
          },
          "metadata": {},
          "execution_count": 177
        }
      ]
    },
    {
      "cell_type": "code",
      "source": [
        "pca_result = pca.transform(filtered_images)\n",
        "pca_result.shape"
      ],
      "metadata": {
        "colab": {
          "base_uri": "https://localhost:8080/"
        },
        "id": "sx56mdqu0wnf",
        "outputId": "ab7c2fd4-e152-439b-9ce9-8dbaf3c55556"
      },
      "execution_count": 178,
      "outputs": [
        {
          "output_type": "execute_result",
          "data": {
            "text/plain": [
              "(40, 3)"
            ]
          },
          "metadata": {},
          "execution_count": 178
        }
      ]
    },
    {
      "cell_type": "code",
      "source": [
        "df_pca = pd.DataFrame({'PC1': pca_result[:, 0], 'PC2': pca_result[:, 1], 'PC3': pca_result[:, 2], 'Label': filtered_labels})\n",
        "df_pca"
      ],
      "metadata": {
        "colab": {
          "base_uri": "https://localhost:8080/",
          "height": 1000
        },
        "id": "nPODGfJI01CJ",
        "outputId": "e896b278-9886-4cd6-ef3f-bcf83cdb0f1b"
      },
      "execution_count": 179,
      "outputs": [
        {
          "output_type": "execute_result",
          "data": {
            "text/plain": [
              "          PC1       PC2       PC3  Label\n",
              "0   -1.373084  6.218771  1.209337     17\n",
              "1    5.937131  1.932532  5.918058     17\n",
              "2   -0.608584  5.099506  2.205801     17\n",
              "3  -11.358136  1.001592 -3.626971     17\n",
              "4    0.973342  2.857534  5.820042     17\n",
              "5   -7.636008  2.714807 -2.381496     17\n",
              "6   -0.840795  6.072608 -0.739903     17\n",
              "7   -5.605536  4.230971  1.174613     17\n",
              "8   -2.886491  6.574297  0.532625     17\n",
              "9    0.401929  0.330127  6.234346     17\n",
              "10   2.007310  1.336045 -4.173073     33\n",
              "11   4.570727  1.831247 -2.943655     33\n",
              "12   3.618116  1.324572 -2.419896     33\n",
              "13   5.400073  0.664219 -2.722832     33\n",
              "14   3.644773  2.144947 -3.531353     33\n",
              "15   5.713601  0.882356 -2.487869     33\n",
              "16   2.403826 -1.172022 -3.431034     33\n",
              "17   3.696310  0.125613 -3.725098     33\n",
              "18   6.362088  0.560692 -2.646758     33\n",
              "19   2.461091  0.189156 -3.693660     33\n",
              "20   1.597851 -5.584500  2.895262      2\n",
              "21   2.695141 -5.469107  2.632767      2\n",
              "22   2.859170 -4.647489  2.624392      2\n",
              "23  -2.500542 -6.308599 -1.425092      2\n",
              "24  -3.683602 -5.637821 -1.967479      2\n",
              "25  -2.884964 -3.585607  1.662033      2\n",
              "26  -5.404853 -2.017427  2.116086      2\n",
              "27  -6.701556 -3.734724  0.631359      2\n",
              "28  -1.828731 -0.164755  3.924736      2\n",
              "29  -0.848872 -0.614241  4.545123      2\n",
              "30  -0.204861 -1.593424 -1.600617     37\n",
              "31   2.969089 -1.197672  0.148973     37\n",
              "32  -1.262785 -3.044844 -2.243140     37\n",
              "33  -0.563357  0.878990  1.433218     37\n",
              "34   1.719634  0.230348  2.785256     37\n",
              "35  -6.518671 -0.300808 -2.277929     37\n",
              "36  -2.024277  1.349417  0.785238     37\n",
              "37  -1.003143 -1.703930 -2.309318     37\n",
              "38   2.791007 -1.768223 -2.003666     37\n",
              "39   3.916640 -0.005153  3.071572     37"
            ],
            "text/html": [
              "\n",
              "  <div id=\"df-f3122998-4e83-4399-9430-5061d635ed70\">\n",
              "    <div class=\"colab-df-container\">\n",
              "      <div>\n",
              "<style scoped>\n",
              "    .dataframe tbody tr th:only-of-type {\n",
              "        vertical-align: middle;\n",
              "    }\n",
              "\n",
              "    .dataframe tbody tr th {\n",
              "        vertical-align: top;\n",
              "    }\n",
              "\n",
              "    .dataframe thead th {\n",
              "        text-align: right;\n",
              "    }\n",
              "</style>\n",
              "<table border=\"1\" class=\"dataframe\">\n",
              "  <thead>\n",
              "    <tr style=\"text-align: right;\">\n",
              "      <th></th>\n",
              "      <th>PC1</th>\n",
              "      <th>PC2</th>\n",
              "      <th>PC3</th>\n",
              "      <th>Label</th>\n",
              "    </tr>\n",
              "  </thead>\n",
              "  <tbody>\n",
              "    <tr>\n",
              "      <th>0</th>\n",
              "      <td>-1.373084</td>\n",
              "      <td>6.218771</td>\n",
              "      <td>1.209337</td>\n",
              "      <td>17</td>\n",
              "    </tr>\n",
              "    <tr>\n",
              "      <th>1</th>\n",
              "      <td>5.937131</td>\n",
              "      <td>1.932532</td>\n",
              "      <td>5.918058</td>\n",
              "      <td>17</td>\n",
              "    </tr>\n",
              "    <tr>\n",
              "      <th>2</th>\n",
              "      <td>-0.608584</td>\n",
              "      <td>5.099506</td>\n",
              "      <td>2.205801</td>\n",
              "      <td>17</td>\n",
              "    </tr>\n",
              "    <tr>\n",
              "      <th>3</th>\n",
              "      <td>-11.358136</td>\n",
              "      <td>1.001592</td>\n",
              "      <td>-3.626971</td>\n",
              "      <td>17</td>\n",
              "    </tr>\n",
              "    <tr>\n",
              "      <th>4</th>\n",
              "      <td>0.973342</td>\n",
              "      <td>2.857534</td>\n",
              "      <td>5.820042</td>\n",
              "      <td>17</td>\n",
              "    </tr>\n",
              "    <tr>\n",
              "      <th>5</th>\n",
              "      <td>-7.636008</td>\n",
              "      <td>2.714807</td>\n",
              "      <td>-2.381496</td>\n",
              "      <td>17</td>\n",
              "    </tr>\n",
              "    <tr>\n",
              "      <th>6</th>\n",
              "      <td>-0.840795</td>\n",
              "      <td>6.072608</td>\n",
              "      <td>-0.739903</td>\n",
              "      <td>17</td>\n",
              "    </tr>\n",
              "    <tr>\n",
              "      <th>7</th>\n",
              "      <td>-5.605536</td>\n",
              "      <td>4.230971</td>\n",
              "      <td>1.174613</td>\n",
              "      <td>17</td>\n",
              "    </tr>\n",
              "    <tr>\n",
              "      <th>8</th>\n",
              "      <td>-2.886491</td>\n",
              "      <td>6.574297</td>\n",
              "      <td>0.532625</td>\n",
              "      <td>17</td>\n",
              "    </tr>\n",
              "    <tr>\n",
              "      <th>9</th>\n",
              "      <td>0.401929</td>\n",
              "      <td>0.330127</td>\n",
              "      <td>6.234346</td>\n",
              "      <td>17</td>\n",
              "    </tr>\n",
              "    <tr>\n",
              "      <th>10</th>\n",
              "      <td>2.007310</td>\n",
              "      <td>1.336045</td>\n",
              "      <td>-4.173073</td>\n",
              "      <td>33</td>\n",
              "    </tr>\n",
              "    <tr>\n",
              "      <th>11</th>\n",
              "      <td>4.570727</td>\n",
              "      <td>1.831247</td>\n",
              "      <td>-2.943655</td>\n",
              "      <td>33</td>\n",
              "    </tr>\n",
              "    <tr>\n",
              "      <th>12</th>\n",
              "      <td>3.618116</td>\n",
              "      <td>1.324572</td>\n",
              "      <td>-2.419896</td>\n",
              "      <td>33</td>\n",
              "    </tr>\n",
              "    <tr>\n",
              "      <th>13</th>\n",
              "      <td>5.400073</td>\n",
              "      <td>0.664219</td>\n",
              "      <td>-2.722832</td>\n",
              "      <td>33</td>\n",
              "    </tr>\n",
              "    <tr>\n",
              "      <th>14</th>\n",
              "      <td>3.644773</td>\n",
              "      <td>2.144947</td>\n",
              "      <td>-3.531353</td>\n",
              "      <td>33</td>\n",
              "    </tr>\n",
              "    <tr>\n",
              "      <th>15</th>\n",
              "      <td>5.713601</td>\n",
              "      <td>0.882356</td>\n",
              "      <td>-2.487869</td>\n",
              "      <td>33</td>\n",
              "    </tr>\n",
              "    <tr>\n",
              "      <th>16</th>\n",
              "      <td>2.403826</td>\n",
              "      <td>-1.172022</td>\n",
              "      <td>-3.431034</td>\n",
              "      <td>33</td>\n",
              "    </tr>\n",
              "    <tr>\n",
              "      <th>17</th>\n",
              "      <td>3.696310</td>\n",
              "      <td>0.125613</td>\n",
              "      <td>-3.725098</td>\n",
              "      <td>33</td>\n",
              "    </tr>\n",
              "    <tr>\n",
              "      <th>18</th>\n",
              "      <td>6.362088</td>\n",
              "      <td>0.560692</td>\n",
              "      <td>-2.646758</td>\n",
              "      <td>33</td>\n",
              "    </tr>\n",
              "    <tr>\n",
              "      <th>19</th>\n",
              "      <td>2.461091</td>\n",
              "      <td>0.189156</td>\n",
              "      <td>-3.693660</td>\n",
              "      <td>33</td>\n",
              "    </tr>\n",
              "    <tr>\n",
              "      <th>20</th>\n",
              "      <td>1.597851</td>\n",
              "      <td>-5.584500</td>\n",
              "      <td>2.895262</td>\n",
              "      <td>2</td>\n",
              "    </tr>\n",
              "    <tr>\n",
              "      <th>21</th>\n",
              "      <td>2.695141</td>\n",
              "      <td>-5.469107</td>\n",
              "      <td>2.632767</td>\n",
              "      <td>2</td>\n",
              "    </tr>\n",
              "    <tr>\n",
              "      <th>22</th>\n",
              "      <td>2.859170</td>\n",
              "      <td>-4.647489</td>\n",
              "      <td>2.624392</td>\n",
              "      <td>2</td>\n",
              "    </tr>\n",
              "    <tr>\n",
              "      <th>23</th>\n",
              "      <td>-2.500542</td>\n",
              "      <td>-6.308599</td>\n",
              "      <td>-1.425092</td>\n",
              "      <td>2</td>\n",
              "    </tr>\n",
              "    <tr>\n",
              "      <th>24</th>\n",
              "      <td>-3.683602</td>\n",
              "      <td>-5.637821</td>\n",
              "      <td>-1.967479</td>\n",
              "      <td>2</td>\n",
              "    </tr>\n",
              "    <tr>\n",
              "      <th>25</th>\n",
              "      <td>-2.884964</td>\n",
              "      <td>-3.585607</td>\n",
              "      <td>1.662033</td>\n",
              "      <td>2</td>\n",
              "    </tr>\n",
              "    <tr>\n",
              "      <th>26</th>\n",
              "      <td>-5.404853</td>\n",
              "      <td>-2.017427</td>\n",
              "      <td>2.116086</td>\n",
              "      <td>2</td>\n",
              "    </tr>\n",
              "    <tr>\n",
              "      <th>27</th>\n",
              "      <td>-6.701556</td>\n",
              "      <td>-3.734724</td>\n",
              "      <td>0.631359</td>\n",
              "      <td>2</td>\n",
              "    </tr>\n",
              "    <tr>\n",
              "      <th>28</th>\n",
              "      <td>-1.828731</td>\n",
              "      <td>-0.164755</td>\n",
              "      <td>3.924736</td>\n",
              "      <td>2</td>\n",
              "    </tr>\n",
              "    <tr>\n",
              "      <th>29</th>\n",
              "      <td>-0.848872</td>\n",
              "      <td>-0.614241</td>\n",
              "      <td>4.545123</td>\n",
              "      <td>2</td>\n",
              "    </tr>\n",
              "    <tr>\n",
              "      <th>30</th>\n",
              "      <td>-0.204861</td>\n",
              "      <td>-1.593424</td>\n",
              "      <td>-1.600617</td>\n",
              "      <td>37</td>\n",
              "    </tr>\n",
              "    <tr>\n",
              "      <th>31</th>\n",
              "      <td>2.969089</td>\n",
              "      <td>-1.197672</td>\n",
              "      <td>0.148973</td>\n",
              "      <td>37</td>\n",
              "    </tr>\n",
              "    <tr>\n",
              "      <th>32</th>\n",
              "      <td>-1.262785</td>\n",
              "      <td>-3.044844</td>\n",
              "      <td>-2.243140</td>\n",
              "      <td>37</td>\n",
              "    </tr>\n",
              "    <tr>\n",
              "      <th>33</th>\n",
              "      <td>-0.563357</td>\n",
              "      <td>0.878990</td>\n",
              "      <td>1.433218</td>\n",
              "      <td>37</td>\n",
              "    </tr>\n",
              "    <tr>\n",
              "      <th>34</th>\n",
              "      <td>1.719634</td>\n",
              "      <td>0.230348</td>\n",
              "      <td>2.785256</td>\n",
              "      <td>37</td>\n",
              "    </tr>\n",
              "    <tr>\n",
              "      <th>35</th>\n",
              "      <td>-6.518671</td>\n",
              "      <td>-0.300808</td>\n",
              "      <td>-2.277929</td>\n",
              "      <td>37</td>\n",
              "    </tr>\n",
              "    <tr>\n",
              "      <th>36</th>\n",
              "      <td>-2.024277</td>\n",
              "      <td>1.349417</td>\n",
              "      <td>0.785238</td>\n",
              "      <td>37</td>\n",
              "    </tr>\n",
              "    <tr>\n",
              "      <th>37</th>\n",
              "      <td>-1.003143</td>\n",
              "      <td>-1.703930</td>\n",
              "      <td>-2.309318</td>\n",
              "      <td>37</td>\n",
              "    </tr>\n",
              "    <tr>\n",
              "      <th>38</th>\n",
              "      <td>2.791007</td>\n",
              "      <td>-1.768223</td>\n",
              "      <td>-2.003666</td>\n",
              "      <td>37</td>\n",
              "    </tr>\n",
              "    <tr>\n",
              "      <th>39</th>\n",
              "      <td>3.916640</td>\n",
              "      <td>-0.005153</td>\n",
              "      <td>3.071572</td>\n",
              "      <td>37</td>\n",
              "    </tr>\n",
              "  </tbody>\n",
              "</table>\n",
              "</div>\n",
              "      <button class=\"colab-df-convert\" onclick=\"convertToInteractive('df-f3122998-4e83-4399-9430-5061d635ed70')\"\n",
              "              title=\"Convert this dataframe to an interactive table.\"\n",
              "              style=\"display:none;\">\n",
              "        \n",
              "  <svg xmlns=\"http://www.w3.org/2000/svg\" height=\"24px\"viewBox=\"0 0 24 24\"\n",
              "       width=\"24px\">\n",
              "    <path d=\"M0 0h24v24H0V0z\" fill=\"none\"/>\n",
              "    <path d=\"M18.56 5.44l.94 2.06.94-2.06 2.06-.94-2.06-.94-.94-2.06-.94 2.06-2.06.94zm-11 1L8.5 8.5l.94-2.06 2.06-.94-2.06-.94L8.5 2.5l-.94 2.06-2.06.94zm10 10l.94 2.06.94-2.06 2.06-.94-2.06-.94-.94-2.06-.94 2.06-2.06.94z\"/><path d=\"M17.41 7.96l-1.37-1.37c-.4-.4-.92-.59-1.43-.59-.52 0-1.04.2-1.43.59L10.3 9.45l-7.72 7.72c-.78.78-.78 2.05 0 2.83L4 21.41c.39.39.9.59 1.41.59.51 0 1.02-.2 1.41-.59l7.78-7.78 2.81-2.81c.8-.78.8-2.07 0-2.86zM5.41 20L4 18.59l7.72-7.72 1.47 1.35L5.41 20z\"/>\n",
              "  </svg>\n",
              "      </button>\n",
              "      \n",
              "  <style>\n",
              "    .colab-df-container {\n",
              "      display:flex;\n",
              "      flex-wrap:wrap;\n",
              "      gap: 12px;\n",
              "    }\n",
              "\n",
              "    .colab-df-convert {\n",
              "      background-color: #E8F0FE;\n",
              "      border: none;\n",
              "      border-radius: 50%;\n",
              "      cursor: pointer;\n",
              "      display: none;\n",
              "      fill: #1967D2;\n",
              "      height: 32px;\n",
              "      padding: 0 0 0 0;\n",
              "      width: 32px;\n",
              "    }\n",
              "\n",
              "    .colab-df-convert:hover {\n",
              "      background-color: #E2EBFA;\n",
              "      box-shadow: 0px 1px 2px rgba(60, 64, 67, 0.3), 0px 1px 3px 1px rgba(60, 64, 67, 0.15);\n",
              "      fill: #174EA6;\n",
              "    }\n",
              "\n",
              "    [theme=dark] .colab-df-convert {\n",
              "      background-color: #3B4455;\n",
              "      fill: #D2E3FC;\n",
              "    }\n",
              "\n",
              "    [theme=dark] .colab-df-convert:hover {\n",
              "      background-color: #434B5C;\n",
              "      box-shadow: 0px 1px 3px 1px rgba(0, 0, 0, 0.15);\n",
              "      filter: drop-shadow(0px 1px 2px rgba(0, 0, 0, 0.3));\n",
              "      fill: #FFFFFF;\n",
              "    }\n",
              "  </style>\n",
              "\n",
              "      <script>\n",
              "        const buttonEl =\n",
              "          document.querySelector('#df-f3122998-4e83-4399-9430-5061d635ed70 button.colab-df-convert');\n",
              "        buttonEl.style.display =\n",
              "          google.colab.kernel.accessAllowed ? 'block' : 'none';\n",
              "\n",
              "        async function convertToInteractive(key) {\n",
              "          const element = document.querySelector('#df-f3122998-4e83-4399-9430-5061d635ed70');\n",
              "          const dataTable =\n",
              "            await google.colab.kernel.invokeFunction('convertToInteractive',\n",
              "                                                     [key], {});\n",
              "          if (!dataTable) return;\n",
              "\n",
              "          const docLinkHtml = 'Like what you see? Visit the ' +\n",
              "            '<a target=\"_blank\" href=https://colab.research.google.com/notebooks/data_table.ipynb>data table notebook</a>'\n",
              "            + ' to learn more about interactive tables.';\n",
              "          element.innerHTML = '';\n",
              "          dataTable['output_type'] = 'display_data';\n",
              "          await google.colab.output.renderOutput(dataTable, element);\n",
              "          const docLink = document.createElement('div');\n",
              "          docLink.innerHTML = docLinkHtml;\n",
              "          element.appendChild(docLink);\n",
              "        }\n",
              "      </script>\n",
              "    </div>\n",
              "  </div>\n",
              "  "
            ]
          },
          "metadata": {},
          "execution_count": 179
        }
      ]
    },
    {
      "cell_type": "markdown",
      "source": [
        "Use `plotly` to plot these 3D samples. You should use their labels as the determiner of their color. **(P3-2: 10 points)**"
      ],
      "metadata": {
        "id": "XpkXp5u83EPx"
      }
    },
    {
      "cell_type": "code",
      "source": [
        "fig = px.scatter_3d(df_pca, x='PC1', y='PC2', z='PC3', color='Label', symbol='Label', hover_data=['Label'])\n",
        "fig.show()"
      ],
      "metadata": {
        "colab": {
          "base_uri": "https://localhost:8080/",
          "height": 542
        },
        "id": "jkIlyllLPzQe",
        "outputId": "ca127aab-c618-4c19-d4ba-2456fe991a3e"
      },
      "execution_count": 180,
      "outputs": [
        {
          "output_type": "display_data",
          "data": {
            "text/html": [
              "<html>\n",
              "<head><meta charset=\"utf-8\" /></head>\n",
              "<body>\n",
              "    <div>            <script src=\"https://cdnjs.cloudflare.com/ajax/libs/mathjax/2.7.5/MathJax.js?config=TeX-AMS-MML_SVG\"></script><script type=\"text/javascript\">if (window.MathJax && window.MathJax.Hub && window.MathJax.Hub.Config) {window.MathJax.Hub.Config({SVG: {font: \"STIX-Web\"}});}</script>                <script type=\"text/javascript\">window.PlotlyConfig = {MathJaxConfig: 'local'};</script>\n",
              "        <script src=\"https://cdn.plot.ly/plotly-2.18.2.min.js\"></script>                <div id=\"51e06e10-c69b-4623-9cb1-05434adcf719\" class=\"plotly-graph-div\" style=\"height:525px; width:100%;\"></div>            <script type=\"text/javascript\">                                    window.PLOTLYENV=window.PLOTLYENV || {};                                    if (document.getElementById(\"51e06e10-c69b-4623-9cb1-05434adcf719\")) {                    Plotly.newPlot(                        \"51e06e10-c69b-4623-9cb1-05434adcf719\",                        [{\"customdata\":[[17],[17],[17],[17],[17],[17],[17],[17],[17],[17]],\"hovertemplate\":\"Label=%{marker.color}<br>PC1=%{x}<br>PC2=%{y}<br>PC3=%{z}<extra></extra>\",\"legendgroup\":\"17\",\"marker\":{\"color\":[17,17,17,17,17,17,17,17,17,17],\"coloraxis\":\"coloraxis\",\"symbol\":\"circle\"},\"mode\":\"markers\",\"name\":\"17\",\"scene\":\"scene\",\"showlegend\":true,\"x\":[-1.373083723063782,5.937131179901277,-0.6085841381048354,-11.35813630566193,0.9733415043250566,-7.636008198735947,-0.8407952948197653,-5.605535714423589,-2.8864913348174865,0.4019289019719642],\"y\":[6.218770574574518,1.9325320033524573,5.0995059886432115,1.0015920390883617,2.85753378812138,2.7148066052703195,6.072608473867172,4.230971092563131,6.574297088821662,0.33012657497848086],\"z\":[1.2093366343388328,5.918058071286754,2.2058006330087045,-3.6269713999094755,5.820041643933362,-2.3814955244568714,-0.7399026132324025,1.1746134718134489,0.5326249837786906,6.234345936100183],\"type\":\"scatter3d\"},{\"customdata\":[[33],[33],[33],[33],[33],[33],[33],[33],[33],[33]],\"hovertemplate\":\"Label=%{marker.color}<br>PC1=%{x}<br>PC2=%{y}<br>PC3=%{z}<extra></extra>\",\"legendgroup\":\"33\",\"marker\":{\"color\":[33,33,33,33,33,33,33,33,33,33],\"coloraxis\":\"coloraxis\",\"symbol\":\"diamond\"},\"mode\":\"markers\",\"name\":\"33\",\"scene\":\"scene\",\"showlegend\":true,\"x\":[2.0073095063009188,4.570726899488744,3.6181161547823444,5.400072566804906,3.644772900608526,5.713601191879628,2.4038259608771946,3.6963097235372993,6.362088080200888,2.4610912882571436],\"y\":[1.3360448244897833,1.8312472981024213,1.3245720639463325,0.6642191790758118,2.1449472768422817,0.8823557624588759,-1.1720222489218635,0.12561347620763172,0.5606916175831738,0.18915638097274065],\"z\":[-4.1730732394419565,-2.9436549612293503,-2.4198963143380436,-2.7228315891154535,-3.531352809560864,-2.4878685176720468,-3.43103372790031,-3.7250982742940693,-2.646757962395081,-3.693659731697973],\"type\":\"scatter3d\"},{\"customdata\":[[2],[2],[2],[2],[2],[2],[2],[2],[2],[2]],\"hovertemplate\":\"Label=%{marker.color}<br>PC1=%{x}<br>PC2=%{y}<br>PC3=%{z}<extra></extra>\",\"legendgroup\":\"2\",\"marker\":{\"color\":[2,2,2,2,2,2,2,2,2,2],\"coloraxis\":\"coloraxis\",\"symbol\":\"square\"},\"mode\":\"markers\",\"name\":\"2\",\"scene\":\"scene\",\"showlegend\":true,\"x\":[1.5978510298864823,2.695140870258049,2.859170288511672,-2.5005420056163947,-3.683602214179004,-2.8849636363755167,-5.404853094854187,-6.701555671438864,-1.8287309019674887,-0.8488716120003287],\"y\":[-5.584499960643071,-5.469106556373181,-4.647488693443216,-6.308598542659322,-5.637820765337459,-3.5856068553508678,-2.0174270643267396,-3.734724364759402,-0.16475533063090572,-0.6142414855600744],\"z\":[2.8952624611042785,2.6327667808948534,2.624392307011431,-1.4250917328358843,-1.9674794868666405,1.6620329782284247,2.116086473817804,0.6313585185185852,3.924736497952602,4.545122665434311],\"type\":\"scatter3d\"},{\"customdata\":[[37],[37],[37],[37],[37],[37],[37],[37],[37],[37]],\"hovertemplate\":\"Label=%{marker.color}<br>PC1=%{x}<br>PC2=%{y}<br>PC3=%{z}<extra></extra>\",\"legendgroup\":\"37\",\"marker\":{\"color\":[37,37,37,37,37,37,37,37,37,37],\"coloraxis\":\"coloraxis\",\"symbol\":\"x\"},\"mode\":\"markers\",\"name\":\"37\",\"scene\":\"scene\",\"showlegend\":true,\"x\":[-0.2048614174914936,2.9690886052295173,-1.2627848111387387,-0.5633573036599226,1.7196344965476713,-6.51867053598424,-2.024276908447493,-1.0031432393199284,2.791006910752254,3.9166400019794505],\"y\":[-1.5934235444705243,-1.1976722813699634,-3.044844352953076,0.8789898989242987,0.2303478105911536,-0.300808256530467,1.3494165790461157,-1.7039303113801958,-1.7682232672989535,-0.0051525155122190275],\"z\":[-1.6006166354399212,0.14897337412676082,-2.2431404375615385,1.4332183812567658,2.7852559708336324,-2.2779292258256203,0.7852380798124272,-2.3093177979053436,-2.0036655416499056,3.071571660076736],\"type\":\"scatter3d\"}],                        {\"template\":{\"data\":{\"histogram2dcontour\":[{\"type\":\"histogram2dcontour\",\"colorbar\":{\"outlinewidth\":0,\"ticks\":\"\"},\"colorscale\":[[0.0,\"#0d0887\"],[0.1111111111111111,\"#46039f\"],[0.2222222222222222,\"#7201a8\"],[0.3333333333333333,\"#9c179e\"],[0.4444444444444444,\"#bd3786\"],[0.5555555555555556,\"#d8576b\"],[0.6666666666666666,\"#ed7953\"],[0.7777777777777778,\"#fb9f3a\"],[0.8888888888888888,\"#fdca26\"],[1.0,\"#f0f921\"]]}],\"choropleth\":[{\"type\":\"choropleth\",\"colorbar\":{\"outlinewidth\":0,\"ticks\":\"\"}}],\"histogram2d\":[{\"type\":\"histogram2d\",\"colorbar\":{\"outlinewidth\":0,\"ticks\":\"\"},\"colorscale\":[[0.0,\"#0d0887\"],[0.1111111111111111,\"#46039f\"],[0.2222222222222222,\"#7201a8\"],[0.3333333333333333,\"#9c179e\"],[0.4444444444444444,\"#bd3786\"],[0.5555555555555556,\"#d8576b\"],[0.6666666666666666,\"#ed7953\"],[0.7777777777777778,\"#fb9f3a\"],[0.8888888888888888,\"#fdca26\"],[1.0,\"#f0f921\"]]}],\"heatmap\":[{\"type\":\"heatmap\",\"colorbar\":{\"outlinewidth\":0,\"ticks\":\"\"},\"colorscale\":[[0.0,\"#0d0887\"],[0.1111111111111111,\"#46039f\"],[0.2222222222222222,\"#7201a8\"],[0.3333333333333333,\"#9c179e\"],[0.4444444444444444,\"#bd3786\"],[0.5555555555555556,\"#d8576b\"],[0.6666666666666666,\"#ed7953\"],[0.7777777777777778,\"#fb9f3a\"],[0.8888888888888888,\"#fdca26\"],[1.0,\"#f0f921\"]]}],\"heatmapgl\":[{\"type\":\"heatmapgl\",\"colorbar\":{\"outlinewidth\":0,\"ticks\":\"\"},\"colorscale\":[[0.0,\"#0d0887\"],[0.1111111111111111,\"#46039f\"],[0.2222222222222222,\"#7201a8\"],[0.3333333333333333,\"#9c179e\"],[0.4444444444444444,\"#bd3786\"],[0.5555555555555556,\"#d8576b\"],[0.6666666666666666,\"#ed7953\"],[0.7777777777777778,\"#fb9f3a\"],[0.8888888888888888,\"#fdca26\"],[1.0,\"#f0f921\"]]}],\"contourcarpet\":[{\"type\":\"contourcarpet\",\"colorbar\":{\"outlinewidth\":0,\"ticks\":\"\"}}],\"contour\":[{\"type\":\"contour\",\"colorbar\":{\"outlinewidth\":0,\"ticks\":\"\"},\"colorscale\":[[0.0,\"#0d0887\"],[0.1111111111111111,\"#46039f\"],[0.2222222222222222,\"#7201a8\"],[0.3333333333333333,\"#9c179e\"],[0.4444444444444444,\"#bd3786\"],[0.5555555555555556,\"#d8576b\"],[0.6666666666666666,\"#ed7953\"],[0.7777777777777778,\"#fb9f3a\"],[0.8888888888888888,\"#fdca26\"],[1.0,\"#f0f921\"]]}],\"surface\":[{\"type\":\"surface\",\"colorbar\":{\"outlinewidth\":0,\"ticks\":\"\"},\"colorscale\":[[0.0,\"#0d0887\"],[0.1111111111111111,\"#46039f\"],[0.2222222222222222,\"#7201a8\"],[0.3333333333333333,\"#9c179e\"],[0.4444444444444444,\"#bd3786\"],[0.5555555555555556,\"#d8576b\"],[0.6666666666666666,\"#ed7953\"],[0.7777777777777778,\"#fb9f3a\"],[0.8888888888888888,\"#fdca26\"],[1.0,\"#f0f921\"]]}],\"mesh3d\":[{\"type\":\"mesh3d\",\"colorbar\":{\"outlinewidth\":0,\"ticks\":\"\"}}],\"scatter\":[{\"fillpattern\":{\"fillmode\":\"overlay\",\"size\":10,\"solidity\":0.2},\"type\":\"scatter\"}],\"parcoords\":[{\"type\":\"parcoords\",\"line\":{\"colorbar\":{\"outlinewidth\":0,\"ticks\":\"\"}}}],\"scatterpolargl\":[{\"type\":\"scatterpolargl\",\"marker\":{\"colorbar\":{\"outlinewidth\":0,\"ticks\":\"\"}}}],\"bar\":[{\"error_x\":{\"color\":\"#2a3f5f\"},\"error_y\":{\"color\":\"#2a3f5f\"},\"marker\":{\"line\":{\"color\":\"#E5ECF6\",\"width\":0.5},\"pattern\":{\"fillmode\":\"overlay\",\"size\":10,\"solidity\":0.2}},\"type\":\"bar\"}],\"scattergeo\":[{\"type\":\"scattergeo\",\"marker\":{\"colorbar\":{\"outlinewidth\":0,\"ticks\":\"\"}}}],\"scatterpolar\":[{\"type\":\"scatterpolar\",\"marker\":{\"colorbar\":{\"outlinewidth\":0,\"ticks\":\"\"}}}],\"histogram\":[{\"marker\":{\"pattern\":{\"fillmode\":\"overlay\",\"size\":10,\"solidity\":0.2}},\"type\":\"histogram\"}],\"scattergl\":[{\"type\":\"scattergl\",\"marker\":{\"colorbar\":{\"outlinewidth\":0,\"ticks\":\"\"}}}],\"scatter3d\":[{\"type\":\"scatter3d\",\"line\":{\"colorbar\":{\"outlinewidth\":0,\"ticks\":\"\"}},\"marker\":{\"colorbar\":{\"outlinewidth\":0,\"ticks\":\"\"}}}],\"scattermapbox\":[{\"type\":\"scattermapbox\",\"marker\":{\"colorbar\":{\"outlinewidth\":0,\"ticks\":\"\"}}}],\"scatterternary\":[{\"type\":\"scatterternary\",\"marker\":{\"colorbar\":{\"outlinewidth\":0,\"ticks\":\"\"}}}],\"scattercarpet\":[{\"type\":\"scattercarpet\",\"marker\":{\"colorbar\":{\"outlinewidth\":0,\"ticks\":\"\"}}}],\"carpet\":[{\"aaxis\":{\"endlinecolor\":\"#2a3f5f\",\"gridcolor\":\"white\",\"linecolor\":\"white\",\"minorgridcolor\":\"white\",\"startlinecolor\":\"#2a3f5f\"},\"baxis\":{\"endlinecolor\":\"#2a3f5f\",\"gridcolor\":\"white\",\"linecolor\":\"white\",\"minorgridcolor\":\"white\",\"startlinecolor\":\"#2a3f5f\"},\"type\":\"carpet\"}],\"table\":[{\"cells\":{\"fill\":{\"color\":\"#EBF0F8\"},\"line\":{\"color\":\"white\"}},\"header\":{\"fill\":{\"color\":\"#C8D4E3\"},\"line\":{\"color\":\"white\"}},\"type\":\"table\"}],\"barpolar\":[{\"marker\":{\"line\":{\"color\":\"#E5ECF6\",\"width\":0.5},\"pattern\":{\"fillmode\":\"overlay\",\"size\":10,\"solidity\":0.2}},\"type\":\"barpolar\"}],\"pie\":[{\"automargin\":true,\"type\":\"pie\"}]},\"layout\":{\"autotypenumbers\":\"strict\",\"colorway\":[\"#636efa\",\"#EF553B\",\"#00cc96\",\"#ab63fa\",\"#FFA15A\",\"#19d3f3\",\"#FF6692\",\"#B6E880\",\"#FF97FF\",\"#FECB52\"],\"font\":{\"color\":\"#2a3f5f\"},\"hovermode\":\"closest\",\"hoverlabel\":{\"align\":\"left\"},\"paper_bgcolor\":\"white\",\"plot_bgcolor\":\"#E5ECF6\",\"polar\":{\"bgcolor\":\"#E5ECF6\",\"angularaxis\":{\"gridcolor\":\"white\",\"linecolor\":\"white\",\"ticks\":\"\"},\"radialaxis\":{\"gridcolor\":\"white\",\"linecolor\":\"white\",\"ticks\":\"\"}},\"ternary\":{\"bgcolor\":\"#E5ECF6\",\"aaxis\":{\"gridcolor\":\"white\",\"linecolor\":\"white\",\"ticks\":\"\"},\"baxis\":{\"gridcolor\":\"white\",\"linecolor\":\"white\",\"ticks\":\"\"},\"caxis\":{\"gridcolor\":\"white\",\"linecolor\":\"white\",\"ticks\":\"\"}},\"coloraxis\":{\"colorbar\":{\"outlinewidth\":0,\"ticks\":\"\"}},\"colorscale\":{\"sequential\":[[0.0,\"#0d0887\"],[0.1111111111111111,\"#46039f\"],[0.2222222222222222,\"#7201a8\"],[0.3333333333333333,\"#9c179e\"],[0.4444444444444444,\"#bd3786\"],[0.5555555555555556,\"#d8576b\"],[0.6666666666666666,\"#ed7953\"],[0.7777777777777778,\"#fb9f3a\"],[0.8888888888888888,\"#fdca26\"],[1.0,\"#f0f921\"]],\"sequentialminus\":[[0.0,\"#0d0887\"],[0.1111111111111111,\"#46039f\"],[0.2222222222222222,\"#7201a8\"],[0.3333333333333333,\"#9c179e\"],[0.4444444444444444,\"#bd3786\"],[0.5555555555555556,\"#d8576b\"],[0.6666666666666666,\"#ed7953\"],[0.7777777777777778,\"#fb9f3a\"],[0.8888888888888888,\"#fdca26\"],[1.0,\"#f0f921\"]],\"diverging\":[[0,\"#8e0152\"],[0.1,\"#c51b7d\"],[0.2,\"#de77ae\"],[0.3,\"#f1b6da\"],[0.4,\"#fde0ef\"],[0.5,\"#f7f7f7\"],[0.6,\"#e6f5d0\"],[0.7,\"#b8e186\"],[0.8,\"#7fbc41\"],[0.9,\"#4d9221\"],[1,\"#276419\"]]},\"xaxis\":{\"gridcolor\":\"white\",\"linecolor\":\"white\",\"ticks\":\"\",\"title\":{\"standoff\":15},\"zerolinecolor\":\"white\",\"automargin\":true,\"zerolinewidth\":2},\"yaxis\":{\"gridcolor\":\"white\",\"linecolor\":\"white\",\"ticks\":\"\",\"title\":{\"standoff\":15},\"zerolinecolor\":\"white\",\"automargin\":true,\"zerolinewidth\":2},\"scene\":{\"xaxis\":{\"backgroundcolor\":\"#E5ECF6\",\"gridcolor\":\"white\",\"linecolor\":\"white\",\"showbackground\":true,\"ticks\":\"\",\"zerolinecolor\":\"white\",\"gridwidth\":2},\"yaxis\":{\"backgroundcolor\":\"#E5ECF6\",\"gridcolor\":\"white\",\"linecolor\":\"white\",\"showbackground\":true,\"ticks\":\"\",\"zerolinecolor\":\"white\",\"gridwidth\":2},\"zaxis\":{\"backgroundcolor\":\"#E5ECF6\",\"gridcolor\":\"white\",\"linecolor\":\"white\",\"showbackground\":true,\"ticks\":\"\",\"zerolinecolor\":\"white\",\"gridwidth\":2}},\"shapedefaults\":{\"line\":{\"color\":\"#2a3f5f\"}},\"annotationdefaults\":{\"arrowcolor\":\"#2a3f5f\",\"arrowhead\":0,\"arrowwidth\":1},\"geo\":{\"bgcolor\":\"white\",\"landcolor\":\"#E5ECF6\",\"subunitcolor\":\"white\",\"showland\":true,\"showlakes\":true,\"lakecolor\":\"white\"},\"title\":{\"x\":0.05},\"mapbox\":{\"style\":\"light\"}}},\"scene\":{\"domain\":{\"x\":[0.0,1.0],\"y\":[0.0,1.0]},\"xaxis\":{\"title\":{\"text\":\"PC1\"}},\"yaxis\":{\"title\":{\"text\":\"PC2\"}},\"zaxis\":{\"title\":{\"text\":\"PC3\"}}},\"coloraxis\":{\"colorbar\":{\"title\":{\"text\":\"Label\"}},\"colorscale\":[[0.0,\"#0d0887\"],[0.1111111111111111,\"#46039f\"],[0.2222222222222222,\"#7201a8\"],[0.3333333333333333,\"#9c179e\"],[0.4444444444444444,\"#bd3786\"],[0.5555555555555556,\"#d8576b\"],[0.6666666666666666,\"#ed7953\"],[0.7777777777777778,\"#fb9f3a\"],[0.8888888888888888,\"#fdca26\"],[1.0,\"#f0f921\"]]},\"legend\":{\"title\":{\"text\":\"Label\"},\"tracegroupgap\":0},\"margin\":{\"t\":60}},                        {\"responsive\": true}                    ).then(function(){\n",
              "                            \n",
              "var gd = document.getElementById('51e06e10-c69b-4623-9cb1-05434adcf719');\n",
              "var x = new MutationObserver(function (mutations, observer) {{\n",
              "        var display = window.getComputedStyle(gd).display;\n",
              "        if (!display || display === 'none') {{\n",
              "            console.log([gd, 'removed!']);\n",
              "            Plotly.purge(gd);\n",
              "            observer.disconnect();\n",
              "        }}\n",
              "}});\n",
              "\n",
              "// Listen for the removal of the full notebook cells\n",
              "var notebookContainer = gd.closest('#notebook-container');\n",
              "if (notebookContainer) {{\n",
              "    x.observe(notebookContainer, {childList: true});\n",
              "}}\n",
              "\n",
              "// Listen for the clearing of the current output cell\n",
              "var outputEl = gd.closest('.output');\n",
              "if (outputEl) {{\n",
              "    x.observe(outputEl, {childList: true});\n",
              "}}\n",
              "\n",
              "                        })                };                            </script>        </div>\n",
              "</body>\n",
              "</html>"
            ]
          },
          "metadata": {}
        }
      ]
    },
    {
      "cell_type": "markdown",
      "source": [
        "# Sec 4: K-Means"
      ],
      "metadata": {
        "id": "05G8GNkq3ySI"
      }
    },
    {
      "cell_type": "markdown",
      "source": [
        "Using K-means, we want to perform clustering on the 3D samples. Consider 4 clusters. After running the K-means algorithm on the data, determine to which cluster each sample belongs. Then, use `plotly` to plot the 3D samples colored with respect to their clusters. **(P4-1: 15 points)**"
      ],
      "metadata": {
        "id": "99sy2kUTNKAB"
      }
    },
    {
      "cell_type": "code",
      "source": [
        "class KMeans:\n",
        "    \"\"\"\n",
        "    Fits it on data, then uses predict to get cluster labels.\n",
        "    \"\"\"\n",
        "\n",
        "    def __init__(self, n_clusters=8):\n",
        "        \"\"\"\n",
        "        YOUR CODE (IF NECESSARY)\n",
        "        \"\"\"\n",
        "        self.n_clusters = n_clusters\n",
        "\n",
        "    def fit(self, X):\n",
        "        \"\"\"Fits the training data\n",
        "        Parameters\n",
        "        ----------\n",
        "        x : array-like, shape = [n_samples, n_features]\n",
        "            Training samples\n",
        "        y : array-like, shape = [n_samples, n_target_values]\n",
        "            Target values\n",
        "        Returns\n",
        "        -------\n",
        "        self : object\n",
        "        \"\"\"\n",
        "\n",
        "        n_samples, n_features = x.shape\n",
        "        \"\"\"\n",
        "        YOUR CODE\n",
        "        \"\"\"\n",
        "        self.centroids = X[np.random.choice(X.shape[0], self.n_clusters, replace=False)]\n",
        "        while True:\n",
        "            distances = np.sqrt(((X - self.centroids[:, np.newaxis])**2).sum(axis=2))\n",
        "            labels = distances.argmin(axis=0)\n",
        "            new_centroids = np.array([X[labels == i].mean(axis=0) for i in range(self.n_clusters)])\n",
        "            if np.allclose(new_centroids, self.centroids):\n",
        "                break\n",
        "            self.centroids = new_centroids\n",
        "\n",
        "        return labels\n",
        "\n",
        "    def predict(self, X):\n",
        "        \"\"\" Predicts the cluster label\n",
        "        Parameters\n",
        "        ----------\n",
        "        x : array-like, shape = [n_samples, n_features]\n",
        "            Test samples\n",
        "        Returns\n",
        "        -------\n",
        "        Predicted cluster label\n",
        "        \"\"\"\n",
        "\n",
        "        y_pred = []\n",
        "        \"\"\"\n",
        "        YOUR CODE\n",
        "        \"\"\"\n",
        "        distances = np.sqrt(((X - self.centroids[:, np.newaxis])**2).sum(axis=2))\n",
        "        y_pred = argmin(axis=0)\n",
        "        return y_pred"
      ],
      "metadata": {
        "id": "1csR3sFNXza4"
      },
      "execution_count": 181,
      "outputs": []
    },
    {
      "cell_type": "code",
      "source": [
        "kmeans_model = KMeans(4)\n",
        "kmeans_labels = kmeans_model.fit(pca_result)\n",
        "kmeans_labels"
      ],
      "metadata": {
        "id": "spAwNfSITeT8",
        "colab": {
          "base_uri": "https://localhost:8080/"
        },
        "outputId": "13ff590d-ca55-4e8d-918d-ea7c40835944"
      },
      "execution_count": 182,
      "outputs": [
        {
          "output_type": "execute_result",
          "data": {
            "text/plain": [
              "array([1, 3, 1, 2, 1, 2, 1, 1, 1, 1, 0, 0, 0, 0, 0, 0, 0, 0, 0, 0, 3, 3,\n",
              "       3, 2, 2, 2, 2, 2, 1, 1, 2, 3, 2, 1, 3, 2, 1, 2, 0, 3])"
            ]
          },
          "metadata": {},
          "execution_count": 182
        }
      ]
    },
    {
      "cell_type": "code",
      "source": [
        "df_kmeans = pd.DataFrame({'PC1': pca_result[:, 0], 'PC2': pca_result[:, 1], 'PC3': pca_result[:, 2], 'Label': kmeans_labels})\n",
        "df_kmeans"
      ],
      "metadata": {
        "colab": {
          "base_uri": "https://localhost:8080/",
          "height": 1000
        },
        "id": "5ijok-WQZMl9",
        "outputId": "bfdbc155-a41f-40fb-a692-934f8a4fb149"
      },
      "execution_count": 183,
      "outputs": [
        {
          "output_type": "execute_result",
          "data": {
            "text/plain": [
              "          PC1       PC2       PC3  Label\n",
              "0   -1.373084  6.218771  1.209337      1\n",
              "1    5.937131  1.932532  5.918058      3\n",
              "2   -0.608584  5.099506  2.205801      1\n",
              "3  -11.358136  1.001592 -3.626971      2\n",
              "4    0.973342  2.857534  5.820042      1\n",
              "5   -7.636008  2.714807 -2.381496      2\n",
              "6   -0.840795  6.072608 -0.739903      1\n",
              "7   -5.605536  4.230971  1.174613      1\n",
              "8   -2.886491  6.574297  0.532625      1\n",
              "9    0.401929  0.330127  6.234346      1\n",
              "10   2.007310  1.336045 -4.173073      0\n",
              "11   4.570727  1.831247 -2.943655      0\n",
              "12   3.618116  1.324572 -2.419896      0\n",
              "13   5.400073  0.664219 -2.722832      0\n",
              "14   3.644773  2.144947 -3.531353      0\n",
              "15   5.713601  0.882356 -2.487869      0\n",
              "16   2.403826 -1.172022 -3.431034      0\n",
              "17   3.696310  0.125613 -3.725098      0\n",
              "18   6.362088  0.560692 -2.646758      0\n",
              "19   2.461091  0.189156 -3.693660      0\n",
              "20   1.597851 -5.584500  2.895262      3\n",
              "21   2.695141 -5.469107  2.632767      3\n",
              "22   2.859170 -4.647489  2.624392      3\n",
              "23  -2.500542 -6.308599 -1.425092      2\n",
              "24  -3.683602 -5.637821 -1.967479      2\n",
              "25  -2.884964 -3.585607  1.662033      2\n",
              "26  -5.404853 -2.017427  2.116086      2\n",
              "27  -6.701556 -3.734724  0.631359      2\n",
              "28  -1.828731 -0.164755  3.924736      1\n",
              "29  -0.848872 -0.614241  4.545123      1\n",
              "30  -0.204861 -1.593424 -1.600617      2\n",
              "31   2.969089 -1.197672  0.148973      3\n",
              "32  -1.262785 -3.044844 -2.243140      2\n",
              "33  -0.563357  0.878990  1.433218      1\n",
              "34   1.719634  0.230348  2.785256      3\n",
              "35  -6.518671 -0.300808 -2.277929      2\n",
              "36  -2.024277  1.349417  0.785238      1\n",
              "37  -1.003143 -1.703930 -2.309318      2\n",
              "38   2.791007 -1.768223 -2.003666      0\n",
              "39   3.916640 -0.005153  3.071572      3"
            ],
            "text/html": [
              "\n",
              "  <div id=\"df-ad1a5247-bbe7-4092-b477-72cd237058e5\">\n",
              "    <div class=\"colab-df-container\">\n",
              "      <div>\n",
              "<style scoped>\n",
              "    .dataframe tbody tr th:only-of-type {\n",
              "        vertical-align: middle;\n",
              "    }\n",
              "\n",
              "    .dataframe tbody tr th {\n",
              "        vertical-align: top;\n",
              "    }\n",
              "\n",
              "    .dataframe thead th {\n",
              "        text-align: right;\n",
              "    }\n",
              "</style>\n",
              "<table border=\"1\" class=\"dataframe\">\n",
              "  <thead>\n",
              "    <tr style=\"text-align: right;\">\n",
              "      <th></th>\n",
              "      <th>PC1</th>\n",
              "      <th>PC2</th>\n",
              "      <th>PC3</th>\n",
              "      <th>Label</th>\n",
              "    </tr>\n",
              "  </thead>\n",
              "  <tbody>\n",
              "    <tr>\n",
              "      <th>0</th>\n",
              "      <td>-1.373084</td>\n",
              "      <td>6.218771</td>\n",
              "      <td>1.209337</td>\n",
              "      <td>1</td>\n",
              "    </tr>\n",
              "    <tr>\n",
              "      <th>1</th>\n",
              "      <td>5.937131</td>\n",
              "      <td>1.932532</td>\n",
              "      <td>5.918058</td>\n",
              "      <td>3</td>\n",
              "    </tr>\n",
              "    <tr>\n",
              "      <th>2</th>\n",
              "      <td>-0.608584</td>\n",
              "      <td>5.099506</td>\n",
              "      <td>2.205801</td>\n",
              "      <td>1</td>\n",
              "    </tr>\n",
              "    <tr>\n",
              "      <th>3</th>\n",
              "      <td>-11.358136</td>\n",
              "      <td>1.001592</td>\n",
              "      <td>-3.626971</td>\n",
              "      <td>2</td>\n",
              "    </tr>\n",
              "    <tr>\n",
              "      <th>4</th>\n",
              "      <td>0.973342</td>\n",
              "      <td>2.857534</td>\n",
              "      <td>5.820042</td>\n",
              "      <td>1</td>\n",
              "    </tr>\n",
              "    <tr>\n",
              "      <th>5</th>\n",
              "      <td>-7.636008</td>\n",
              "      <td>2.714807</td>\n",
              "      <td>-2.381496</td>\n",
              "      <td>2</td>\n",
              "    </tr>\n",
              "    <tr>\n",
              "      <th>6</th>\n",
              "      <td>-0.840795</td>\n",
              "      <td>6.072608</td>\n",
              "      <td>-0.739903</td>\n",
              "      <td>1</td>\n",
              "    </tr>\n",
              "    <tr>\n",
              "      <th>7</th>\n",
              "      <td>-5.605536</td>\n",
              "      <td>4.230971</td>\n",
              "      <td>1.174613</td>\n",
              "      <td>1</td>\n",
              "    </tr>\n",
              "    <tr>\n",
              "      <th>8</th>\n",
              "      <td>-2.886491</td>\n",
              "      <td>6.574297</td>\n",
              "      <td>0.532625</td>\n",
              "      <td>1</td>\n",
              "    </tr>\n",
              "    <tr>\n",
              "      <th>9</th>\n",
              "      <td>0.401929</td>\n",
              "      <td>0.330127</td>\n",
              "      <td>6.234346</td>\n",
              "      <td>1</td>\n",
              "    </tr>\n",
              "    <tr>\n",
              "      <th>10</th>\n",
              "      <td>2.007310</td>\n",
              "      <td>1.336045</td>\n",
              "      <td>-4.173073</td>\n",
              "      <td>0</td>\n",
              "    </tr>\n",
              "    <tr>\n",
              "      <th>11</th>\n",
              "      <td>4.570727</td>\n",
              "      <td>1.831247</td>\n",
              "      <td>-2.943655</td>\n",
              "      <td>0</td>\n",
              "    </tr>\n",
              "    <tr>\n",
              "      <th>12</th>\n",
              "      <td>3.618116</td>\n",
              "      <td>1.324572</td>\n",
              "      <td>-2.419896</td>\n",
              "      <td>0</td>\n",
              "    </tr>\n",
              "    <tr>\n",
              "      <th>13</th>\n",
              "      <td>5.400073</td>\n",
              "      <td>0.664219</td>\n",
              "      <td>-2.722832</td>\n",
              "      <td>0</td>\n",
              "    </tr>\n",
              "    <tr>\n",
              "      <th>14</th>\n",
              "      <td>3.644773</td>\n",
              "      <td>2.144947</td>\n",
              "      <td>-3.531353</td>\n",
              "      <td>0</td>\n",
              "    </tr>\n",
              "    <tr>\n",
              "      <th>15</th>\n",
              "      <td>5.713601</td>\n",
              "      <td>0.882356</td>\n",
              "      <td>-2.487869</td>\n",
              "      <td>0</td>\n",
              "    </tr>\n",
              "    <tr>\n",
              "      <th>16</th>\n",
              "      <td>2.403826</td>\n",
              "      <td>-1.172022</td>\n",
              "      <td>-3.431034</td>\n",
              "      <td>0</td>\n",
              "    </tr>\n",
              "    <tr>\n",
              "      <th>17</th>\n",
              "      <td>3.696310</td>\n",
              "      <td>0.125613</td>\n",
              "      <td>-3.725098</td>\n",
              "      <td>0</td>\n",
              "    </tr>\n",
              "    <tr>\n",
              "      <th>18</th>\n",
              "      <td>6.362088</td>\n",
              "      <td>0.560692</td>\n",
              "      <td>-2.646758</td>\n",
              "      <td>0</td>\n",
              "    </tr>\n",
              "    <tr>\n",
              "      <th>19</th>\n",
              "      <td>2.461091</td>\n",
              "      <td>0.189156</td>\n",
              "      <td>-3.693660</td>\n",
              "      <td>0</td>\n",
              "    </tr>\n",
              "    <tr>\n",
              "      <th>20</th>\n",
              "      <td>1.597851</td>\n",
              "      <td>-5.584500</td>\n",
              "      <td>2.895262</td>\n",
              "      <td>3</td>\n",
              "    </tr>\n",
              "    <tr>\n",
              "      <th>21</th>\n",
              "      <td>2.695141</td>\n",
              "      <td>-5.469107</td>\n",
              "      <td>2.632767</td>\n",
              "      <td>3</td>\n",
              "    </tr>\n",
              "    <tr>\n",
              "      <th>22</th>\n",
              "      <td>2.859170</td>\n",
              "      <td>-4.647489</td>\n",
              "      <td>2.624392</td>\n",
              "      <td>3</td>\n",
              "    </tr>\n",
              "    <tr>\n",
              "      <th>23</th>\n",
              "      <td>-2.500542</td>\n",
              "      <td>-6.308599</td>\n",
              "      <td>-1.425092</td>\n",
              "      <td>2</td>\n",
              "    </tr>\n",
              "    <tr>\n",
              "      <th>24</th>\n",
              "      <td>-3.683602</td>\n",
              "      <td>-5.637821</td>\n",
              "      <td>-1.967479</td>\n",
              "      <td>2</td>\n",
              "    </tr>\n",
              "    <tr>\n",
              "      <th>25</th>\n",
              "      <td>-2.884964</td>\n",
              "      <td>-3.585607</td>\n",
              "      <td>1.662033</td>\n",
              "      <td>2</td>\n",
              "    </tr>\n",
              "    <tr>\n",
              "      <th>26</th>\n",
              "      <td>-5.404853</td>\n",
              "      <td>-2.017427</td>\n",
              "      <td>2.116086</td>\n",
              "      <td>2</td>\n",
              "    </tr>\n",
              "    <tr>\n",
              "      <th>27</th>\n",
              "      <td>-6.701556</td>\n",
              "      <td>-3.734724</td>\n",
              "      <td>0.631359</td>\n",
              "      <td>2</td>\n",
              "    </tr>\n",
              "    <tr>\n",
              "      <th>28</th>\n",
              "      <td>-1.828731</td>\n",
              "      <td>-0.164755</td>\n",
              "      <td>3.924736</td>\n",
              "      <td>1</td>\n",
              "    </tr>\n",
              "    <tr>\n",
              "      <th>29</th>\n",
              "      <td>-0.848872</td>\n",
              "      <td>-0.614241</td>\n",
              "      <td>4.545123</td>\n",
              "      <td>1</td>\n",
              "    </tr>\n",
              "    <tr>\n",
              "      <th>30</th>\n",
              "      <td>-0.204861</td>\n",
              "      <td>-1.593424</td>\n",
              "      <td>-1.600617</td>\n",
              "      <td>2</td>\n",
              "    </tr>\n",
              "    <tr>\n",
              "      <th>31</th>\n",
              "      <td>2.969089</td>\n",
              "      <td>-1.197672</td>\n",
              "      <td>0.148973</td>\n",
              "      <td>3</td>\n",
              "    </tr>\n",
              "    <tr>\n",
              "      <th>32</th>\n",
              "      <td>-1.262785</td>\n",
              "      <td>-3.044844</td>\n",
              "      <td>-2.243140</td>\n",
              "      <td>2</td>\n",
              "    </tr>\n",
              "    <tr>\n",
              "      <th>33</th>\n",
              "      <td>-0.563357</td>\n",
              "      <td>0.878990</td>\n",
              "      <td>1.433218</td>\n",
              "      <td>1</td>\n",
              "    </tr>\n",
              "    <tr>\n",
              "      <th>34</th>\n",
              "      <td>1.719634</td>\n",
              "      <td>0.230348</td>\n",
              "      <td>2.785256</td>\n",
              "      <td>3</td>\n",
              "    </tr>\n",
              "    <tr>\n",
              "      <th>35</th>\n",
              "      <td>-6.518671</td>\n",
              "      <td>-0.300808</td>\n",
              "      <td>-2.277929</td>\n",
              "      <td>2</td>\n",
              "    </tr>\n",
              "    <tr>\n",
              "      <th>36</th>\n",
              "      <td>-2.024277</td>\n",
              "      <td>1.349417</td>\n",
              "      <td>0.785238</td>\n",
              "      <td>1</td>\n",
              "    </tr>\n",
              "    <tr>\n",
              "      <th>37</th>\n",
              "      <td>-1.003143</td>\n",
              "      <td>-1.703930</td>\n",
              "      <td>-2.309318</td>\n",
              "      <td>2</td>\n",
              "    </tr>\n",
              "    <tr>\n",
              "      <th>38</th>\n",
              "      <td>2.791007</td>\n",
              "      <td>-1.768223</td>\n",
              "      <td>-2.003666</td>\n",
              "      <td>0</td>\n",
              "    </tr>\n",
              "    <tr>\n",
              "      <th>39</th>\n",
              "      <td>3.916640</td>\n",
              "      <td>-0.005153</td>\n",
              "      <td>3.071572</td>\n",
              "      <td>3</td>\n",
              "    </tr>\n",
              "  </tbody>\n",
              "</table>\n",
              "</div>\n",
              "      <button class=\"colab-df-convert\" onclick=\"convertToInteractive('df-ad1a5247-bbe7-4092-b477-72cd237058e5')\"\n",
              "              title=\"Convert this dataframe to an interactive table.\"\n",
              "              style=\"display:none;\">\n",
              "        \n",
              "  <svg xmlns=\"http://www.w3.org/2000/svg\" height=\"24px\"viewBox=\"0 0 24 24\"\n",
              "       width=\"24px\">\n",
              "    <path d=\"M0 0h24v24H0V0z\" fill=\"none\"/>\n",
              "    <path d=\"M18.56 5.44l.94 2.06.94-2.06 2.06-.94-2.06-.94-.94-2.06-.94 2.06-2.06.94zm-11 1L8.5 8.5l.94-2.06 2.06-.94-2.06-.94L8.5 2.5l-.94 2.06-2.06.94zm10 10l.94 2.06.94-2.06 2.06-.94-2.06-.94-.94-2.06-.94 2.06-2.06.94z\"/><path d=\"M17.41 7.96l-1.37-1.37c-.4-.4-.92-.59-1.43-.59-.52 0-1.04.2-1.43.59L10.3 9.45l-7.72 7.72c-.78.78-.78 2.05 0 2.83L4 21.41c.39.39.9.59 1.41.59.51 0 1.02-.2 1.41-.59l7.78-7.78 2.81-2.81c.8-.78.8-2.07 0-2.86zM5.41 20L4 18.59l7.72-7.72 1.47 1.35L5.41 20z\"/>\n",
              "  </svg>\n",
              "      </button>\n",
              "      \n",
              "  <style>\n",
              "    .colab-df-container {\n",
              "      display:flex;\n",
              "      flex-wrap:wrap;\n",
              "      gap: 12px;\n",
              "    }\n",
              "\n",
              "    .colab-df-convert {\n",
              "      background-color: #E8F0FE;\n",
              "      border: none;\n",
              "      border-radius: 50%;\n",
              "      cursor: pointer;\n",
              "      display: none;\n",
              "      fill: #1967D2;\n",
              "      height: 32px;\n",
              "      padding: 0 0 0 0;\n",
              "      width: 32px;\n",
              "    }\n",
              "\n",
              "    .colab-df-convert:hover {\n",
              "      background-color: #E2EBFA;\n",
              "      box-shadow: 0px 1px 2px rgba(60, 64, 67, 0.3), 0px 1px 3px 1px rgba(60, 64, 67, 0.15);\n",
              "      fill: #174EA6;\n",
              "    }\n",
              "\n",
              "    [theme=dark] .colab-df-convert {\n",
              "      background-color: #3B4455;\n",
              "      fill: #D2E3FC;\n",
              "    }\n",
              "\n",
              "    [theme=dark] .colab-df-convert:hover {\n",
              "      background-color: #434B5C;\n",
              "      box-shadow: 0px 1px 3px 1px rgba(0, 0, 0, 0.15);\n",
              "      filter: drop-shadow(0px 1px 2px rgba(0, 0, 0, 0.3));\n",
              "      fill: #FFFFFF;\n",
              "    }\n",
              "  </style>\n",
              "\n",
              "      <script>\n",
              "        const buttonEl =\n",
              "          document.querySelector('#df-ad1a5247-bbe7-4092-b477-72cd237058e5 button.colab-df-convert');\n",
              "        buttonEl.style.display =\n",
              "          google.colab.kernel.accessAllowed ? 'block' : 'none';\n",
              "\n",
              "        async function convertToInteractive(key) {\n",
              "          const element = document.querySelector('#df-ad1a5247-bbe7-4092-b477-72cd237058e5');\n",
              "          const dataTable =\n",
              "            await google.colab.kernel.invokeFunction('convertToInteractive',\n",
              "                                                     [key], {});\n",
              "          if (!dataTable) return;\n",
              "\n",
              "          const docLinkHtml = 'Like what you see? Visit the ' +\n",
              "            '<a target=\"_blank\" href=https://colab.research.google.com/notebooks/data_table.ipynb>data table notebook</a>'\n",
              "            + ' to learn more about interactive tables.';\n",
              "          element.innerHTML = '';\n",
              "          dataTable['output_type'] = 'display_data';\n",
              "          await google.colab.output.renderOutput(dataTable, element);\n",
              "          const docLink = document.createElement('div');\n",
              "          docLink.innerHTML = docLinkHtml;\n",
              "          element.appendChild(docLink);\n",
              "        }\n",
              "      </script>\n",
              "    </div>\n",
              "  </div>\n",
              "  "
            ]
          },
          "metadata": {},
          "execution_count": 183
        }
      ]
    },
    {
      "cell_type": "code",
      "source": [
        "fig = px.scatter_3d(df_kmeans, x='PC1', y='PC2', z='PC3', color='Label', symbol='Label', hover_data=['Label'])\n",
        "fig.show()"
      ],
      "metadata": {
        "colab": {
          "base_uri": "https://localhost:8080/",
          "height": 542
        },
        "id": "4GLLZ2PfZZ5K",
        "outputId": "856911d1-c987-4f33-8fe1-7cf88dac94a5"
      },
      "execution_count": 184,
      "outputs": [
        {
          "output_type": "display_data",
          "data": {
            "text/html": [
              "<html>\n",
              "<head><meta charset=\"utf-8\" /></head>\n",
              "<body>\n",
              "    <div>            <script src=\"https://cdnjs.cloudflare.com/ajax/libs/mathjax/2.7.5/MathJax.js?config=TeX-AMS-MML_SVG\"></script><script type=\"text/javascript\">if (window.MathJax && window.MathJax.Hub && window.MathJax.Hub.Config) {window.MathJax.Hub.Config({SVG: {font: \"STIX-Web\"}});}</script>                <script type=\"text/javascript\">window.PlotlyConfig = {MathJaxConfig: 'local'};</script>\n",
              "        <script src=\"https://cdn.plot.ly/plotly-2.18.2.min.js\"></script>                <div id=\"9dff72c7-47f9-4574-9b1c-d0afe443ff8d\" class=\"plotly-graph-div\" style=\"height:525px; width:100%;\"></div>            <script type=\"text/javascript\">                                    window.PLOTLYENV=window.PLOTLYENV || {};                                    if (document.getElementById(\"9dff72c7-47f9-4574-9b1c-d0afe443ff8d\")) {                    Plotly.newPlot(                        \"9dff72c7-47f9-4574-9b1c-d0afe443ff8d\",                        [{\"customdata\":[[1],[1],[1],[1],[1],[1],[1],[1],[1],[1],[1]],\"hovertemplate\":\"Label=%{marker.color}<br>PC1=%{x}<br>PC2=%{y}<br>PC3=%{z}<extra></extra>\",\"legendgroup\":\"1\",\"marker\":{\"color\":[1,1,1,1,1,1,1,1,1,1,1],\"coloraxis\":\"coloraxis\",\"symbol\":\"circle\"},\"mode\":\"markers\",\"name\":\"1\",\"scene\":\"scene\",\"showlegend\":true,\"x\":[-1.373083723063782,-0.6085841381048354,0.9733415043250566,-0.8407952948197653,-5.605535714423589,-2.8864913348174865,0.4019289019719642,-1.8287309019674887,-0.8488716120003287,-0.5633573036599226,-2.024276908447493],\"y\":[6.218770574574518,5.0995059886432115,2.85753378812138,6.072608473867172,4.230971092563131,6.574297088821662,0.33012657497848086,-0.16475533063090572,-0.6142414855600744,0.8789898989242987,1.3494165790461157],\"z\":[1.2093366343388328,2.2058006330087045,5.820041643933362,-0.7399026132324025,1.1746134718134489,0.5326249837786906,6.234345936100183,3.924736497952602,4.545122665434311,1.4332183812567658,0.7852380798124272],\"type\":\"scatter3d\"},{\"customdata\":[[3],[3],[3],[3],[3],[3],[3]],\"hovertemplate\":\"Label=%{marker.color}<br>PC1=%{x}<br>PC2=%{y}<br>PC3=%{z}<extra></extra>\",\"legendgroup\":\"3\",\"marker\":{\"color\":[3,3,3,3,3,3,3],\"coloraxis\":\"coloraxis\",\"symbol\":\"diamond\"},\"mode\":\"markers\",\"name\":\"3\",\"scene\":\"scene\",\"showlegend\":true,\"x\":[5.937131179901277,1.5978510298864823,2.695140870258049,2.859170288511672,2.9690886052295173,1.7196344965476713,3.9166400019794505],\"y\":[1.9325320033524573,-5.584499960643071,-5.469106556373181,-4.647488693443216,-1.1976722813699634,0.2303478105911536,-0.0051525155122190275],\"z\":[5.918058071286754,2.8952624611042785,2.6327667808948534,2.624392307011431,0.14897337412676082,2.7852559708336324,3.071571660076736],\"type\":\"scatter3d\"},{\"customdata\":[[2],[2],[2],[2],[2],[2],[2],[2],[2],[2],[2]],\"hovertemplate\":\"Label=%{marker.color}<br>PC1=%{x}<br>PC2=%{y}<br>PC3=%{z}<extra></extra>\",\"legendgroup\":\"2\",\"marker\":{\"color\":[2,2,2,2,2,2,2,2,2,2,2],\"coloraxis\":\"coloraxis\",\"symbol\":\"square\"},\"mode\":\"markers\",\"name\":\"2\",\"scene\":\"scene\",\"showlegend\":true,\"x\":[-11.35813630566193,-7.636008198735947,-2.5005420056163947,-3.683602214179004,-2.8849636363755167,-5.404853094854187,-6.701555671438864,-0.2048614174914936,-1.2627848111387387,-6.51867053598424,-1.0031432393199284],\"y\":[1.0015920390883617,2.7148066052703195,-6.308598542659322,-5.637820765337459,-3.5856068553508678,-2.0174270643267396,-3.734724364759402,-1.5934235444705243,-3.044844352953076,-0.300808256530467,-1.7039303113801958],\"z\":[-3.6269713999094755,-2.3814955244568714,-1.4250917328358843,-1.9674794868666405,1.6620329782284247,2.116086473817804,0.6313585185185852,-1.6006166354399212,-2.2431404375615385,-2.2779292258256203,-2.3093177979053436],\"type\":\"scatter3d\"},{\"customdata\":[[0],[0],[0],[0],[0],[0],[0],[0],[0],[0],[0]],\"hovertemplate\":\"Label=%{marker.color}<br>PC1=%{x}<br>PC2=%{y}<br>PC3=%{z}<extra></extra>\",\"legendgroup\":\"0\",\"marker\":{\"color\":[0,0,0,0,0,0,0,0,0,0,0],\"coloraxis\":\"coloraxis\",\"symbol\":\"x\"},\"mode\":\"markers\",\"name\":\"0\",\"scene\":\"scene\",\"showlegend\":true,\"x\":[2.0073095063009188,4.570726899488744,3.6181161547823444,5.400072566804906,3.644772900608526,5.713601191879628,2.4038259608771946,3.6963097235372993,6.362088080200888,2.4610912882571436,2.791006910752254],\"y\":[1.3360448244897833,1.8312472981024213,1.3245720639463325,0.6642191790758118,2.1449472768422817,0.8823557624588759,-1.1720222489218635,0.12561347620763172,0.5606916175831738,0.18915638097274065,-1.7682232672989535],\"z\":[-4.1730732394419565,-2.9436549612293503,-2.4198963143380436,-2.7228315891154535,-3.531352809560864,-2.4878685176720468,-3.43103372790031,-3.7250982742940693,-2.646757962395081,-3.693659731697973,-2.0036655416499056],\"type\":\"scatter3d\"}],                        {\"template\":{\"data\":{\"histogram2dcontour\":[{\"type\":\"histogram2dcontour\",\"colorbar\":{\"outlinewidth\":0,\"ticks\":\"\"},\"colorscale\":[[0.0,\"#0d0887\"],[0.1111111111111111,\"#46039f\"],[0.2222222222222222,\"#7201a8\"],[0.3333333333333333,\"#9c179e\"],[0.4444444444444444,\"#bd3786\"],[0.5555555555555556,\"#d8576b\"],[0.6666666666666666,\"#ed7953\"],[0.7777777777777778,\"#fb9f3a\"],[0.8888888888888888,\"#fdca26\"],[1.0,\"#f0f921\"]]}],\"choropleth\":[{\"type\":\"choropleth\",\"colorbar\":{\"outlinewidth\":0,\"ticks\":\"\"}}],\"histogram2d\":[{\"type\":\"histogram2d\",\"colorbar\":{\"outlinewidth\":0,\"ticks\":\"\"},\"colorscale\":[[0.0,\"#0d0887\"],[0.1111111111111111,\"#46039f\"],[0.2222222222222222,\"#7201a8\"],[0.3333333333333333,\"#9c179e\"],[0.4444444444444444,\"#bd3786\"],[0.5555555555555556,\"#d8576b\"],[0.6666666666666666,\"#ed7953\"],[0.7777777777777778,\"#fb9f3a\"],[0.8888888888888888,\"#fdca26\"],[1.0,\"#f0f921\"]]}],\"heatmap\":[{\"type\":\"heatmap\",\"colorbar\":{\"outlinewidth\":0,\"ticks\":\"\"},\"colorscale\":[[0.0,\"#0d0887\"],[0.1111111111111111,\"#46039f\"],[0.2222222222222222,\"#7201a8\"],[0.3333333333333333,\"#9c179e\"],[0.4444444444444444,\"#bd3786\"],[0.5555555555555556,\"#d8576b\"],[0.6666666666666666,\"#ed7953\"],[0.7777777777777778,\"#fb9f3a\"],[0.8888888888888888,\"#fdca26\"],[1.0,\"#f0f921\"]]}],\"heatmapgl\":[{\"type\":\"heatmapgl\",\"colorbar\":{\"outlinewidth\":0,\"ticks\":\"\"},\"colorscale\":[[0.0,\"#0d0887\"],[0.1111111111111111,\"#46039f\"],[0.2222222222222222,\"#7201a8\"],[0.3333333333333333,\"#9c179e\"],[0.4444444444444444,\"#bd3786\"],[0.5555555555555556,\"#d8576b\"],[0.6666666666666666,\"#ed7953\"],[0.7777777777777778,\"#fb9f3a\"],[0.8888888888888888,\"#fdca26\"],[1.0,\"#f0f921\"]]}],\"contourcarpet\":[{\"type\":\"contourcarpet\",\"colorbar\":{\"outlinewidth\":0,\"ticks\":\"\"}}],\"contour\":[{\"type\":\"contour\",\"colorbar\":{\"outlinewidth\":0,\"ticks\":\"\"},\"colorscale\":[[0.0,\"#0d0887\"],[0.1111111111111111,\"#46039f\"],[0.2222222222222222,\"#7201a8\"],[0.3333333333333333,\"#9c179e\"],[0.4444444444444444,\"#bd3786\"],[0.5555555555555556,\"#d8576b\"],[0.6666666666666666,\"#ed7953\"],[0.7777777777777778,\"#fb9f3a\"],[0.8888888888888888,\"#fdca26\"],[1.0,\"#f0f921\"]]}],\"surface\":[{\"type\":\"surface\",\"colorbar\":{\"outlinewidth\":0,\"ticks\":\"\"},\"colorscale\":[[0.0,\"#0d0887\"],[0.1111111111111111,\"#46039f\"],[0.2222222222222222,\"#7201a8\"],[0.3333333333333333,\"#9c179e\"],[0.4444444444444444,\"#bd3786\"],[0.5555555555555556,\"#d8576b\"],[0.6666666666666666,\"#ed7953\"],[0.7777777777777778,\"#fb9f3a\"],[0.8888888888888888,\"#fdca26\"],[1.0,\"#f0f921\"]]}],\"mesh3d\":[{\"type\":\"mesh3d\",\"colorbar\":{\"outlinewidth\":0,\"ticks\":\"\"}}],\"scatter\":[{\"fillpattern\":{\"fillmode\":\"overlay\",\"size\":10,\"solidity\":0.2},\"type\":\"scatter\"}],\"parcoords\":[{\"type\":\"parcoords\",\"line\":{\"colorbar\":{\"outlinewidth\":0,\"ticks\":\"\"}}}],\"scatterpolargl\":[{\"type\":\"scatterpolargl\",\"marker\":{\"colorbar\":{\"outlinewidth\":0,\"ticks\":\"\"}}}],\"bar\":[{\"error_x\":{\"color\":\"#2a3f5f\"},\"error_y\":{\"color\":\"#2a3f5f\"},\"marker\":{\"line\":{\"color\":\"#E5ECF6\",\"width\":0.5},\"pattern\":{\"fillmode\":\"overlay\",\"size\":10,\"solidity\":0.2}},\"type\":\"bar\"}],\"scattergeo\":[{\"type\":\"scattergeo\",\"marker\":{\"colorbar\":{\"outlinewidth\":0,\"ticks\":\"\"}}}],\"scatterpolar\":[{\"type\":\"scatterpolar\",\"marker\":{\"colorbar\":{\"outlinewidth\":0,\"ticks\":\"\"}}}],\"histogram\":[{\"marker\":{\"pattern\":{\"fillmode\":\"overlay\",\"size\":10,\"solidity\":0.2}},\"type\":\"histogram\"}],\"scattergl\":[{\"type\":\"scattergl\",\"marker\":{\"colorbar\":{\"outlinewidth\":0,\"ticks\":\"\"}}}],\"scatter3d\":[{\"type\":\"scatter3d\",\"line\":{\"colorbar\":{\"outlinewidth\":0,\"ticks\":\"\"}},\"marker\":{\"colorbar\":{\"outlinewidth\":0,\"ticks\":\"\"}}}],\"scattermapbox\":[{\"type\":\"scattermapbox\",\"marker\":{\"colorbar\":{\"outlinewidth\":0,\"ticks\":\"\"}}}],\"scatterternary\":[{\"type\":\"scatterternary\",\"marker\":{\"colorbar\":{\"outlinewidth\":0,\"ticks\":\"\"}}}],\"scattercarpet\":[{\"type\":\"scattercarpet\",\"marker\":{\"colorbar\":{\"outlinewidth\":0,\"ticks\":\"\"}}}],\"carpet\":[{\"aaxis\":{\"endlinecolor\":\"#2a3f5f\",\"gridcolor\":\"white\",\"linecolor\":\"white\",\"minorgridcolor\":\"white\",\"startlinecolor\":\"#2a3f5f\"},\"baxis\":{\"endlinecolor\":\"#2a3f5f\",\"gridcolor\":\"white\",\"linecolor\":\"white\",\"minorgridcolor\":\"white\",\"startlinecolor\":\"#2a3f5f\"},\"type\":\"carpet\"}],\"table\":[{\"cells\":{\"fill\":{\"color\":\"#EBF0F8\"},\"line\":{\"color\":\"white\"}},\"header\":{\"fill\":{\"color\":\"#C8D4E3\"},\"line\":{\"color\":\"white\"}},\"type\":\"table\"}],\"barpolar\":[{\"marker\":{\"line\":{\"color\":\"#E5ECF6\",\"width\":0.5},\"pattern\":{\"fillmode\":\"overlay\",\"size\":10,\"solidity\":0.2}},\"type\":\"barpolar\"}],\"pie\":[{\"automargin\":true,\"type\":\"pie\"}]},\"layout\":{\"autotypenumbers\":\"strict\",\"colorway\":[\"#636efa\",\"#EF553B\",\"#00cc96\",\"#ab63fa\",\"#FFA15A\",\"#19d3f3\",\"#FF6692\",\"#B6E880\",\"#FF97FF\",\"#FECB52\"],\"font\":{\"color\":\"#2a3f5f\"},\"hovermode\":\"closest\",\"hoverlabel\":{\"align\":\"left\"},\"paper_bgcolor\":\"white\",\"plot_bgcolor\":\"#E5ECF6\",\"polar\":{\"bgcolor\":\"#E5ECF6\",\"angularaxis\":{\"gridcolor\":\"white\",\"linecolor\":\"white\",\"ticks\":\"\"},\"radialaxis\":{\"gridcolor\":\"white\",\"linecolor\":\"white\",\"ticks\":\"\"}},\"ternary\":{\"bgcolor\":\"#E5ECF6\",\"aaxis\":{\"gridcolor\":\"white\",\"linecolor\":\"white\",\"ticks\":\"\"},\"baxis\":{\"gridcolor\":\"white\",\"linecolor\":\"white\",\"ticks\":\"\"},\"caxis\":{\"gridcolor\":\"white\",\"linecolor\":\"white\",\"ticks\":\"\"}},\"coloraxis\":{\"colorbar\":{\"outlinewidth\":0,\"ticks\":\"\"}},\"colorscale\":{\"sequential\":[[0.0,\"#0d0887\"],[0.1111111111111111,\"#46039f\"],[0.2222222222222222,\"#7201a8\"],[0.3333333333333333,\"#9c179e\"],[0.4444444444444444,\"#bd3786\"],[0.5555555555555556,\"#d8576b\"],[0.6666666666666666,\"#ed7953\"],[0.7777777777777778,\"#fb9f3a\"],[0.8888888888888888,\"#fdca26\"],[1.0,\"#f0f921\"]],\"sequentialminus\":[[0.0,\"#0d0887\"],[0.1111111111111111,\"#46039f\"],[0.2222222222222222,\"#7201a8\"],[0.3333333333333333,\"#9c179e\"],[0.4444444444444444,\"#bd3786\"],[0.5555555555555556,\"#d8576b\"],[0.6666666666666666,\"#ed7953\"],[0.7777777777777778,\"#fb9f3a\"],[0.8888888888888888,\"#fdca26\"],[1.0,\"#f0f921\"]],\"diverging\":[[0,\"#8e0152\"],[0.1,\"#c51b7d\"],[0.2,\"#de77ae\"],[0.3,\"#f1b6da\"],[0.4,\"#fde0ef\"],[0.5,\"#f7f7f7\"],[0.6,\"#e6f5d0\"],[0.7,\"#b8e186\"],[0.8,\"#7fbc41\"],[0.9,\"#4d9221\"],[1,\"#276419\"]]},\"xaxis\":{\"gridcolor\":\"white\",\"linecolor\":\"white\",\"ticks\":\"\",\"title\":{\"standoff\":15},\"zerolinecolor\":\"white\",\"automargin\":true,\"zerolinewidth\":2},\"yaxis\":{\"gridcolor\":\"white\",\"linecolor\":\"white\",\"ticks\":\"\",\"title\":{\"standoff\":15},\"zerolinecolor\":\"white\",\"automargin\":true,\"zerolinewidth\":2},\"scene\":{\"xaxis\":{\"backgroundcolor\":\"#E5ECF6\",\"gridcolor\":\"white\",\"linecolor\":\"white\",\"showbackground\":true,\"ticks\":\"\",\"zerolinecolor\":\"white\",\"gridwidth\":2},\"yaxis\":{\"backgroundcolor\":\"#E5ECF6\",\"gridcolor\":\"white\",\"linecolor\":\"white\",\"showbackground\":true,\"ticks\":\"\",\"zerolinecolor\":\"white\",\"gridwidth\":2},\"zaxis\":{\"backgroundcolor\":\"#E5ECF6\",\"gridcolor\":\"white\",\"linecolor\":\"white\",\"showbackground\":true,\"ticks\":\"\",\"zerolinecolor\":\"white\",\"gridwidth\":2}},\"shapedefaults\":{\"line\":{\"color\":\"#2a3f5f\"}},\"annotationdefaults\":{\"arrowcolor\":\"#2a3f5f\",\"arrowhead\":0,\"arrowwidth\":1},\"geo\":{\"bgcolor\":\"white\",\"landcolor\":\"#E5ECF6\",\"subunitcolor\":\"white\",\"showland\":true,\"showlakes\":true,\"lakecolor\":\"white\"},\"title\":{\"x\":0.05},\"mapbox\":{\"style\":\"light\"}}},\"scene\":{\"domain\":{\"x\":[0.0,1.0],\"y\":[0.0,1.0]},\"xaxis\":{\"title\":{\"text\":\"PC1\"}},\"yaxis\":{\"title\":{\"text\":\"PC2\"}},\"zaxis\":{\"title\":{\"text\":\"PC3\"}}},\"coloraxis\":{\"colorbar\":{\"title\":{\"text\":\"Label\"}},\"colorscale\":[[0.0,\"#0d0887\"],[0.1111111111111111,\"#46039f\"],[0.2222222222222222,\"#7201a8\"],[0.3333333333333333,\"#9c179e\"],[0.4444444444444444,\"#bd3786\"],[0.5555555555555556,\"#d8576b\"],[0.6666666666666666,\"#ed7953\"],[0.7777777777777778,\"#fb9f3a\"],[0.8888888888888888,\"#fdca26\"],[1.0,\"#f0f921\"]]},\"legend\":{\"title\":{\"text\":\"Label\"},\"tracegroupgap\":0},\"margin\":{\"t\":60}},                        {\"responsive\": true}                    ).then(function(){\n",
              "                            \n",
              "var gd = document.getElementById('9dff72c7-47f9-4574-9b1c-d0afe443ff8d');\n",
              "var x = new MutationObserver(function (mutations, observer) {{\n",
              "        var display = window.getComputedStyle(gd).display;\n",
              "        if (!display || display === 'none') {{\n",
              "            console.log([gd, 'removed!']);\n",
              "            Plotly.purge(gd);\n",
              "            observer.disconnect();\n",
              "        }}\n",
              "}});\n",
              "\n",
              "// Listen for the removal of the full notebook cells\n",
              "var notebookContainer = gd.closest('#notebook-container');\n",
              "if (notebookContainer) {{\n",
              "    x.observe(notebookContainer, {childList: true});\n",
              "}}\n",
              "\n",
              "// Listen for the clearing of the current output cell\n",
              "var outputEl = gd.closest('.output');\n",
              "if (outputEl) {{\n",
              "    x.observe(outputEl, {childList: true});\n",
              "}}\n",
              "\n",
              "                        })                };                            </script>        </div>\n",
              "</body>\n",
              "</html>"
            ]
          },
          "metadata": {}
        }
      ]
    },
    {
      "cell_type": "markdown",
      "source": [
        "Measure the quality of the clustering using \"silhoutte score\" **(P4-2: 5 points)**\n",
        "\n",
        "Note: You can use `sklearn` or other packages to calculate the score."
      ],
      "metadata": {
        "id": "8J5FN-HIOOqJ"
      }
    },
    {
      "cell_type": "code",
      "source": [
        "from sklearn.metrics import silhouette_score"
      ],
      "metadata": {
        "id": "c2xylkjKY2Df"
      },
      "execution_count": 185,
      "outputs": []
    },
    {
      "cell_type": "code",
      "source": [
        "silhouette_score = silhouette_score(pca_result, kmeans_labels)\n",
        "silhouette_score"
      ],
      "metadata": {
        "id": "1zdNLJ_9OYxO",
        "colab": {
          "base_uri": "https://localhost:8080/"
        },
        "outputId": "4d11dcf4-7146-499d-866c-773a52ca2be5"
      },
      "execution_count": 186,
      "outputs": [
        {
          "output_type": "execute_result",
          "data": {
            "text/plain": [
              "0.3519694605133452"
            ]
          },
          "metadata": {},
          "execution_count": 186
        }
      ]
    },
    {
      "cell_type": "markdown",
      "source": [
        "Compare the result of the clustering with the original labels. To be more precise, in this part, you should clearly answer the following questions with details:<br>\n",
        "\n",
        "- Does each cluster represent a true label?\n",
        "- What is your conclusion?\n",
        "\n",
        "**(P4-3: 10 points)**"
      ],
      "metadata": {
        "id": "znohK44UQ5s7"
      }
    },
    {
      "cell_type": "code",
      "source": [
        "from sklearn.metrics.cluster import adjusted_rand_score, normalized_mutual_info_score\n",
        "\n",
        "ari = adjusted_rand_score(filtered_labels, kmeans_labels)\n",
        "nmi = normalized_mutual_info_score(filtered_labels, kmeans_labels)\n",
        "\n",
        "print(f\"Adjusted Rand Index: {ari:.2f}\")\n",
        "print(f\"Normalized Mutual Information: {nmi:.2f}\")"
      ],
      "metadata": {
        "id": "DDfOcVckRboQ",
        "colab": {
          "base_uri": "https://localhost:8080/"
        },
        "outputId": "055acc26-ad9a-43ea-a87e-578b1e27408d"
      },
      "execution_count": 187,
      "outputs": [
        {
          "output_type": "stream",
          "name": "stdout",
          "text": [
            "Adjusted Rand Index: 0.34\n",
            "Normalized Mutual Information: 0.43\n"
          ]
        }
      ]
    },
    {
      "cell_type": "code",
      "source": [
        "df_labels = pd.DataFrame({'Cluster': kmeans_labels, 'Label': filtered_labels})\n",
        "cross_tab = pd.crosstab(df_labels['Cluster'], df_labels['Label'])\n",
        "cross_tab"
      ],
      "metadata": {
        "colab": {
          "base_uri": "https://localhost:8080/",
          "height": 206
        },
        "id": "XmkBJfRClpw7",
        "outputId": "96e325f5-5f13-4da2-a441-492019c73b78"
      },
      "execution_count": 188,
      "outputs": [
        {
          "output_type": "execute_result",
          "data": {
            "text/plain": [
              "Label    2   17  33  37\n",
              "Cluster                \n",
              "0         0   0  10   1\n",
              "1         2   7   0   2\n",
              "2         5   2   0   4\n",
              "3         3   1   0   3"
            ],
            "text/html": [
              "\n",
              "  <div id=\"df-08e03471-e854-427c-9fc2-2c23d5224b51\">\n",
              "    <div class=\"colab-df-container\">\n",
              "      <div>\n",
              "<style scoped>\n",
              "    .dataframe tbody tr th:only-of-type {\n",
              "        vertical-align: middle;\n",
              "    }\n",
              "\n",
              "    .dataframe tbody tr th {\n",
              "        vertical-align: top;\n",
              "    }\n",
              "\n",
              "    .dataframe thead th {\n",
              "        text-align: right;\n",
              "    }\n",
              "</style>\n",
              "<table border=\"1\" class=\"dataframe\">\n",
              "  <thead>\n",
              "    <tr style=\"text-align: right;\">\n",
              "      <th>Label</th>\n",
              "      <th>2</th>\n",
              "      <th>17</th>\n",
              "      <th>33</th>\n",
              "      <th>37</th>\n",
              "    </tr>\n",
              "    <tr>\n",
              "      <th>Cluster</th>\n",
              "      <th></th>\n",
              "      <th></th>\n",
              "      <th></th>\n",
              "      <th></th>\n",
              "    </tr>\n",
              "  </thead>\n",
              "  <tbody>\n",
              "    <tr>\n",
              "      <th>0</th>\n",
              "      <td>0</td>\n",
              "      <td>0</td>\n",
              "      <td>10</td>\n",
              "      <td>1</td>\n",
              "    </tr>\n",
              "    <tr>\n",
              "      <th>1</th>\n",
              "      <td>2</td>\n",
              "      <td>7</td>\n",
              "      <td>0</td>\n",
              "      <td>2</td>\n",
              "    </tr>\n",
              "    <tr>\n",
              "      <th>2</th>\n",
              "      <td>5</td>\n",
              "      <td>2</td>\n",
              "      <td>0</td>\n",
              "      <td>4</td>\n",
              "    </tr>\n",
              "    <tr>\n",
              "      <th>3</th>\n",
              "      <td>3</td>\n",
              "      <td>1</td>\n",
              "      <td>0</td>\n",
              "      <td>3</td>\n",
              "    </tr>\n",
              "  </tbody>\n",
              "</table>\n",
              "</div>\n",
              "      <button class=\"colab-df-convert\" onclick=\"convertToInteractive('df-08e03471-e854-427c-9fc2-2c23d5224b51')\"\n",
              "              title=\"Convert this dataframe to an interactive table.\"\n",
              "              style=\"display:none;\">\n",
              "        \n",
              "  <svg xmlns=\"http://www.w3.org/2000/svg\" height=\"24px\"viewBox=\"0 0 24 24\"\n",
              "       width=\"24px\">\n",
              "    <path d=\"M0 0h24v24H0V0z\" fill=\"none\"/>\n",
              "    <path d=\"M18.56 5.44l.94 2.06.94-2.06 2.06-.94-2.06-.94-.94-2.06-.94 2.06-2.06.94zm-11 1L8.5 8.5l.94-2.06 2.06-.94-2.06-.94L8.5 2.5l-.94 2.06-2.06.94zm10 10l.94 2.06.94-2.06 2.06-.94-2.06-.94-.94-2.06-.94 2.06-2.06.94z\"/><path d=\"M17.41 7.96l-1.37-1.37c-.4-.4-.92-.59-1.43-.59-.52 0-1.04.2-1.43.59L10.3 9.45l-7.72 7.72c-.78.78-.78 2.05 0 2.83L4 21.41c.39.39.9.59 1.41.59.51 0 1.02-.2 1.41-.59l7.78-7.78 2.81-2.81c.8-.78.8-2.07 0-2.86zM5.41 20L4 18.59l7.72-7.72 1.47 1.35L5.41 20z\"/>\n",
              "  </svg>\n",
              "      </button>\n",
              "      \n",
              "  <style>\n",
              "    .colab-df-container {\n",
              "      display:flex;\n",
              "      flex-wrap:wrap;\n",
              "      gap: 12px;\n",
              "    }\n",
              "\n",
              "    .colab-df-convert {\n",
              "      background-color: #E8F0FE;\n",
              "      border: none;\n",
              "      border-radius: 50%;\n",
              "      cursor: pointer;\n",
              "      display: none;\n",
              "      fill: #1967D2;\n",
              "      height: 32px;\n",
              "      padding: 0 0 0 0;\n",
              "      width: 32px;\n",
              "    }\n",
              "\n",
              "    .colab-df-convert:hover {\n",
              "      background-color: #E2EBFA;\n",
              "      box-shadow: 0px 1px 2px rgba(60, 64, 67, 0.3), 0px 1px 3px 1px rgba(60, 64, 67, 0.15);\n",
              "      fill: #174EA6;\n",
              "    }\n",
              "\n",
              "    [theme=dark] .colab-df-convert {\n",
              "      background-color: #3B4455;\n",
              "      fill: #D2E3FC;\n",
              "    }\n",
              "\n",
              "    [theme=dark] .colab-df-convert:hover {\n",
              "      background-color: #434B5C;\n",
              "      box-shadow: 0px 1px 3px 1px rgba(0, 0, 0, 0.15);\n",
              "      filter: drop-shadow(0px 1px 2px rgba(0, 0, 0, 0.3));\n",
              "      fill: #FFFFFF;\n",
              "    }\n",
              "  </style>\n",
              "\n",
              "      <script>\n",
              "        const buttonEl =\n",
              "          document.querySelector('#df-08e03471-e854-427c-9fc2-2c23d5224b51 button.colab-df-convert');\n",
              "        buttonEl.style.display =\n",
              "          google.colab.kernel.accessAllowed ? 'block' : 'none';\n",
              "\n",
              "        async function convertToInteractive(key) {\n",
              "          const element = document.querySelector('#df-08e03471-e854-427c-9fc2-2c23d5224b51');\n",
              "          const dataTable =\n",
              "            await google.colab.kernel.invokeFunction('convertToInteractive',\n",
              "                                                     [key], {});\n",
              "          if (!dataTable) return;\n",
              "\n",
              "          const docLinkHtml = 'Like what you see? Visit the ' +\n",
              "            '<a target=\"_blank\" href=https://colab.research.google.com/notebooks/data_table.ipynb>data table notebook</a>'\n",
              "            + ' to learn more about interactive tables.';\n",
              "          element.innerHTML = '';\n",
              "          dataTable['output_type'] = 'display_data';\n",
              "          await google.colab.output.renderOutput(dataTable, element);\n",
              "          const docLink = document.createElement('div');\n",
              "          docLink.innerHTML = docLinkHtml;\n",
              "          element.appendChild(docLink);\n",
              "        }\n",
              "      </script>\n",
              "    </div>\n",
              "  </div>\n",
              "  "
            ]
          },
          "metadata": {},
          "execution_count": 188
        }
      ]
    },
    {
      "cell_type": "markdown",
      "source": [
        "As we know, k-means clusterring, cluster data due to their distances from center of each cluster. By looking to the first plot we can see that the data for labels 37 and 17 are not close to each other which can not be captured by k-means as it can be seen in the cross tab. but labels like 33 which their samples are close together can easily be captured. Overall according to cross tab, Normalized mutal information, and adjusted rand index clusters can't present labels in this data."
      ],
      "metadata": {
        "id": "4wahvYt4l0ma"
      }
    },
    {
      "cell_type": "markdown",
      "source": [
        "# Sec 5: Neural Net (Optional with Bonus Points)"
      ],
      "metadata": {
        "id": "l2rNsjun2MYm"
      }
    },
    {
      "cell_type": "markdown",
      "source": [
        "Reshape the images so that they become of shape `64x64` **(P5-1: 5 points)**"
      ],
      "metadata": {
        "id": "kHrNE4gp2-AW"
      }
    },
    {
      "cell_type": "code",
      "source": [
        "file_names = ['content/img-data/' + str(i) + '.jpg' for i in range(400)]\n",
        "images_r = []\n",
        "for file_name in file_names:\n",
        "    with ZipFile( \"images.zip\", \"r\") as zip_ref:\n",
        "        with zip_ref.open(file_name) as image_file:\n",
        "            img = Image.open(image_file)\n",
        "            img = img.resize((64, 64))\n",
        "            img = np.array(img)\n",
        "            images_r.append(img)\n",
        "images_r = np.array(images_r)\n",
        "images_r.shape"
      ],
      "metadata": {
        "colab": {
          "base_uri": "https://localhost:8080/"
        },
        "id": "FdoTBOxRrmCw",
        "outputId": "19f85720-17e8-4dfa-be09-260203268627"
      },
      "execution_count": 189,
      "outputs": [
        {
          "output_type": "execute_result",
          "data": {
            "text/plain": [
              "(400, 64, 64)"
            ]
          },
          "metadata": {},
          "execution_count": 189
        }
      ]
    },
    {
      "cell_type": "code",
      "source": [
        "x_train_r, x_test_r, y_train_r, y_test_r = train_test_split(images_r, y, test_size=0.1, stratify = y, random_state=1)\n",
        "x_train_r, x_val_r, y_train_r, y_val_r = train_test_split(x_train_r, y_train_r, test_size=0.11, stratify = y_train_r, random_state=1)"
      ],
      "metadata": {
        "id": "ROKxun1is-yx"
      },
      "execution_count": 190,
      "outputs": []
    },
    {
      "cell_type": "markdown",
      "source": [
        "Use different types of augmentation techniques (such as Random Flipping, Random Rotation, etc.) to increase the size of the training dataset. **(P5-2: 10 points)**"
      ],
      "metadata": {
        "id": "PC0kN0MPOcak"
      }
    },
    {
      "cell_type": "code",
      "source": [
        "from keras.preprocessing.image import ImageDataGenerator"
      ],
      "metadata": {
        "id": "8LUny7L-cIzl"
      },
      "execution_count": 191,
      "outputs": []
    },
    {
      "cell_type": "code",
      "source": [
        "datagen = ImageDataGenerator(\n",
        "    rotation_range=20,\n",
        "    horizontal_flip=True,\n",
        "    vertical_flip=True,\n",
        ")\n",
        "\n",
        "x_train_r = np.expand_dims(x_train_r, axis=-1)\n",
        "datagen.fit(x_train_r)\n",
        "\n",
        "batch_size = 32\n",
        "x_augmented = []\n",
        "\n",
        "for i in range(10):\n",
        "    batch = x_train_r[i*batch_size:(i+1)*batch_size]\n",
        "    augmented_batch = datagen.flow(batch, batch_size=batch_size, shuffle=False)\n",
        "    x_augmented.append(augmented_batch[0])\n",
        "\n",
        "x_augmented = np.squeeze(x_augmented, axis=-1)\n",
        "x_augmented = np.reshape(x_augmented, (x_augmented.shape[0]*x_augmented.shape[1], x_augmented.shape[2], x_augmented.shape[3]))\n",
        "x_augmented = np.expand_dims(x_augmented, axis=-1)\n",
        "\n",
        "x_train_r = np.concatenate([x_train_r, x_augmented])\n",
        "y_train_r = np.concatenate([y_train_r, y_train_r])"
      ],
      "metadata": {
        "id": "6Jeb4ZQebujk"
      },
      "execution_count": 192,
      "outputs": []
    },
    {
      "cell_type": "markdown",
      "source": [
        "Using the augmented training set, train a neural network consisting of 2D convolutional layers. The exact architecture of the network is arbitrary. However, the last layer should have the \"softmax\" function as its activation. Also, using \"max pooling\" layers after convolutional ones is advised.\n",
        "\n",
        "Note: Don't get frustrated if your network does not appear to be a good one. Give it some time to be trained. For instance, you might need to train it for 100 epochs. Make sure to try that out before quitting!\n",
        "\n",
        "**(P5-3: 20 points)**"
      ],
      "metadata": {
        "id": "uXVXHAIgOp_F"
      }
    },
    {
      "cell_type": "code",
      "source": [
        "model = tf.keras.Sequential()\n",
        "model.add(layers.Conv2D(32, (2, 2), input_shape=(64, 64, 1)))\n",
        "model.add(layers.Activation('relu'))\n",
        "model.add(layers.MaxPooling2D(pool_size=(2, 2)))\n",
        "\n",
        "model.add(layers.Conv2D(32, (2, 2)))\n",
        "model.add(layers.Activation('relu'))\n",
        "model.add(layers.MaxPooling2D(pool_size=(2, 2)))\n",
        "\n",
        "model.add(layers.Conv2D(64, (2, 2)))\n",
        "model.add(layers.Activation('relu'))\n",
        "model.add(layers.MaxPooling2D(pool_size=(2, 2)))\n",
        "\n",
        "model.add(layers.Flatten())\n",
        "model.add(layers.Dense(64))\n",
        "model.add(layers.Activation('relu'))\n",
        "model.add(layers.Dense(1))\n",
        "model.add(layers.Activation('sigmoid'))"
      ],
      "metadata": {
        "id": "WgODL6JyPdY4"
      },
      "execution_count": 193,
      "outputs": []
    },
    {
      "cell_type": "code",
      "source": [
        "model.compile(loss=tf.keras.losses.BinaryCrossentropy(),\n",
        "              optimizer='rmsprop',\n",
        "              metrics=['accuracy'])"
      ],
      "metadata": {
        "id": "5BqkLirTG6dy"
      },
      "execution_count": 194,
      "outputs": []
    },
    {
      "cell_type": "code",
      "source": [
        "history = model.fit(np.array(x_train_r), y_train_r, epochs=10, validation_data=(x_val_r, y_val_r))"
      ],
      "metadata": {
        "colab": {
          "base_uri": "https://localhost:8080/"
        },
        "id": "ZX6QWOpI1b2t",
        "outputId": "509f5f98-72f5-4869-abd9-e784c8ee30e5"
      },
      "execution_count": 195,
      "outputs": [
        {
          "output_type": "stream",
          "name": "stdout",
          "text": [
            "Epoch 1/10\n",
            "20/20 [==============================] - 3s 140ms/step - loss: -1834225.6250 - accuracy: 0.0250 - val_loss: -8223101.0000 - val_accuracy: 0.0250\n",
            "Epoch 2/10\n",
            "20/20 [==============================] - 3s 135ms/step - loss: -30848106.0000 - accuracy: 0.0250 - val_loss: -71906464.0000 - val_accuracy: 0.0250\n",
            "Epoch 3/10\n",
            "20/20 [==============================] - 2s 83ms/step - loss: -154014592.0000 - accuracy: 0.0250 - val_loss: -279053344.0000 - val_accuracy: 0.0250\n",
            "Epoch 4/10\n",
            "20/20 [==============================] - 2s 97ms/step - loss: -471152992.0000 - accuracy: 0.0250 - val_loss: -744136320.0000 - val_accuracy: 0.0250\n",
            "Epoch 5/10\n",
            "20/20 [==============================] - 2s 76ms/step - loss: -1106149120.0000 - accuracy: 0.0250 - val_loss: -1608061696.0000 - val_accuracy: 0.0250\n",
            "Epoch 6/10\n",
            "20/20 [==============================] - 1s 74ms/step - loss: -2255572736.0000 - accuracy: 0.0250 - val_loss: -3113979648.0000 - val_accuracy: 0.0250\n",
            "Epoch 7/10\n",
            "20/20 [==============================] - 1s 69ms/step - loss: -4106187520.0000 - accuracy: 0.0250 - val_loss: -5433173504.0000 - val_accuracy: 0.0250\n",
            "Epoch 8/10\n",
            "20/20 [==============================] - 1s 68ms/step - loss: -6976640000.0000 - accuracy: 0.0250 - val_loss: -8947674112.0000 - val_accuracy: 0.0250\n",
            "Epoch 9/10\n",
            "20/20 [==============================] - 1s 68ms/step - loss: -11082161152.0000 - accuracy: 0.0250 - val_loss: -13849880576.0000 - val_accuracy: 0.0250\n",
            "Epoch 10/10\n",
            "20/20 [==============================] - 1s 68ms/step - loss: -16879981568.0000 - accuracy: 0.0250 - val_loss: -20761120768.0000 - val_accuracy: 0.0250\n"
          ]
        }
      ]
    },
    {
      "cell_type": "markdown",
      "source": [
        "Measure the accuracy of the network on the validation and testing datasets **(P5-4: 5 points)**"
      ],
      "metadata": {
        "id": "PgZFoeHPPdqF"
      }
    },
    {
      "cell_type": "code",
      "source": [
        "print('Validation')\n",
        "val_loss, val_accuracy = model.evaluate(x_val_r, y_val_r)\n",
        "print('Test')\n",
        "test_loss, test_accuracy = model.evaluate(x_test_r, y_test_r)"
      ],
      "metadata": {
        "id": "7VSZe8RdPkLU",
        "colab": {
          "base_uri": "https://localhost:8080/"
        },
        "outputId": "8ccc24e0-b99f-4372-d025-e124d99fa423"
      },
      "execution_count": 196,
      "outputs": [
        {
          "output_type": "stream",
          "name": "stdout",
          "text": [
            "Validation\n",
            "2/2 [==============================] - 0s 14ms/step - loss: -20761120768.0000 - accuracy: 0.0250\n",
            "Test\n",
            "2/2 [==============================] - 0s 14ms/step - loss: -20791128064.0000 - accuracy: 0.0250\n"
          ]
        }
      ]
    }
  ]
}