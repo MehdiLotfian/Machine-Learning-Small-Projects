{
  "metadata": {
    "kernelspec": {
      "language": "python",
      "display_name": "Python 3",
      "name": "python3"
    },
    "language_info": {
      "name": "python",
      "version": "3.10.10",
      "mimetype": "text/x-python",
      "codemirror_mode": {
        "name": "ipython",
        "version": 3
      },
      "pygments_lexer": "ipython3",
      "nbconvert_exporter": "python",
      "file_extension": ".py"
    },
    "colab": {
      "provenance": []
    }
  },
  "nbformat_minor": 0,
  "nbformat": 4,
  "cells": [
    {
      "cell_type": "markdown",
      "metadata": {
        "id": "b07eb33c"
      },
      "source": [
        "<div>\n",
        "<img src='https://upload.wikimedia.org/wikipedia/commons/6/64/Sharif_University_Logo.jpg' alt=\"SUT logo\" width=220 height=220 align=left class=\"saturate\">\n",
        "\n",
        "<br>\n",
        "<font face=\"Times New Roman\">\n",
        "<div dir=ltr align=center> \n",
        "<!-- <font color=0F5298 size=7> -->\n",
        "<font color=0F5298 size=6>\n",
        "    Introduction to Machine Learning <br> <br>\n",
        "<!-- <font color=2565AE size=5> -->\n",
        "<font size=5>\n",
        "    Computer Engineering Department <br>\n",
        "    Spring 2023 <br> <br>\n",
        "<font color=606060 size=5>\n",
        "    Homework 7: Practical - Decision Tree and Ensembles <br> <br>\n",
        "<font color=686880 size=4>\n",
        "    TAs: Amirhossein Ramazani Bonab - Arman Malekzadeh\n",
        "    \n",
        "____"
      ]
    },
    {
      "cell_type": "markdown",
      "metadata": {
        "id": "f5a79508"
      },
      "source": [
        "### Full Name : Mehdi Lotfian\n",
        "### Student Number : 99105689\n",
        "### Colab Link: https://colab.research.google.com/drive/16sSFvfMhC2d95fQ3FNB-LumWDGTPgfyC?usp=sharing\n",
        "___"
      ]
    },
    {
      "cell_type": "markdown",
      "source": [
        "**About the Dataset:**\n",
        "\n",
        "\n",
        "Measurements of geometrical properties of kernels belonging to three different varieties of wheat.\n",
        "\n",
        "A soft X-ray technique and GRAINS package were used to construct all seven, real-valued attributes.\n",
        "\n",
        "**Data Set Information:**\n",
        "\n",
        "\n",
        "The examined group comprised kernels belonging to three different varieties of wheat: Kama, Rosa and Canadian, 70 elements each, randomly selected for\n",
        "the experiment. High quality visualization of the internal kernel structure was detected using a soft X-ray technique. It is non-destructive and considerably cheaper than other more sophisticated imaging techniques like scanning microscopy or laser technology. The images were recorded on 13x18 cm X-ray KODAK plates. Studies were conducted using combine harvested wheat grain originating from experimental fields, explored at the Institute of Agrophysics of the Polish Academy of Sciences in Lublin.\n",
        "\n",
        "To construct the data, seven geometric parameters of wheat kernels were measured:\n",
        "\n",
        "- area A,\n",
        "- perimeter P,\n",
        "- compactness C = 4piA/P^2,\n",
        "- length of kernel,\n",
        "- width of kernel,\n",
        "- asymmetry coefficient\n",
        "- length of kernel groove.\n",
        "\n",
        "The target column is \"Type\".\n",
        "\n",
        "The data set can be used for the tasks of classification and cluster analysis.\n",
        "\n",
        "https://archive.ics.uci.edu/ml/datasets/seeds"
      ],
      "metadata": {
        "id": "8R9A8RKJa07c"
      }
    },
    {
      "cell_type": "code",
      "source": [
        "# you can use the following packages\n",
        "\n",
        "import pandas as pd\n",
        "import numpy as np\n",
        "\n",
        "import matplotlib.pyplot as plt\n",
        "%matplotlib inline\n",
        "import seaborn as sns\n",
        "\n",
        "from sklearn.model_selection import train_test_split\n",
        "from sklearn.tree import DecisionTreeClassifier\n",
        "\n",
        "from random import choices\n",
        "import math"
      ],
      "metadata": {
        "execution": {
          "iopub.status.busy": "2023-05-24T07:40:35.643418Z",
          "iopub.execute_input": "2023-05-24T07:40:35.643859Z",
          "iopub.status.idle": "2023-05-24T07:40:35.652079Z",
          "shell.execute_reply.started": "2023-05-24T07:40:35.643823Z",
          "shell.execute_reply": "2023-05-24T07:40:35.650632Z"
        },
        "trusted": true,
        "id": "_s9VlwRcUmDE"
      },
      "execution_count": 666,
      "outputs": []
    },
    {
      "cell_type": "markdown",
      "source": [
        "## P1: Explore the Dataset"
      ],
      "metadata": {
        "id": "pXav8LQyUmDG"
      }
    },
    {
      "cell_type": "code",
      "source": [
        "!wget -O dataset.csv https://www.dropbox.com/s/xc1tbfju2mn59yj/seeds%20%281%29.csv?dl=1"
      ],
      "metadata": {
        "id": "Qp8d_3l88cOp",
        "colab": {
          "base_uri": "https://localhost:8080/"
        },
        "outputId": "1f09160d-c3f1-42fd-ad25-746001e155a6"
      },
      "execution_count": 667,
      "outputs": [
        {
          "output_type": "stream",
          "name": "stdout",
          "text": [
            "--2023-06-05 21:14:54--  https://www.dropbox.com/s/xc1tbfju2mn59yj/seeds%20%281%29.csv?dl=1\n",
            "Resolving www.dropbox.com (www.dropbox.com)... 162.125.1.18, 2620:100:6016:18::a27d:112\n",
            "Connecting to www.dropbox.com (www.dropbox.com)|162.125.1.18|:443... connected.\n",
            "HTTP request sent, awaiting response... 302 Found\n",
            "Location: /s/dl/xc1tbfju2mn59yj/seeds%20%281%29.csv [following]\n",
            "--2023-06-05 21:14:54--  https://www.dropbox.com/s/dl/xc1tbfju2mn59yj/seeds%20%281%29.csv\n",
            "Reusing existing connection to www.dropbox.com:443.\n",
            "HTTP request sent, awaiting response... 302 Found\n",
            "Location: https://uc42a682a9fb578bd440eefee9e2.dl.dropboxusercontent.com/cd/0/get/B9ZTTvUzgUJRbS6hc-GGyqCzBAGW9ELZHi0Kmq5Mi71oLNhq0D_XsSXSyRDU7LNj6gTeD70uXEUiWWbCYA1zNBcvphLZWDaUo9sroovWcE5JdYu6XXkQHmHvX4N7ks0pXgEbyqKwsaq6ZXfYPx2ldqEjyy6sIae-WqozLe_nLANBSRg1nmUQV14LEDwtNvpG9jU/file?dl=1# [following]\n",
            "--2023-06-05 21:14:54--  https://uc42a682a9fb578bd440eefee9e2.dl.dropboxusercontent.com/cd/0/get/B9ZTTvUzgUJRbS6hc-GGyqCzBAGW9ELZHi0Kmq5Mi71oLNhq0D_XsSXSyRDU7LNj6gTeD70uXEUiWWbCYA1zNBcvphLZWDaUo9sroovWcE5JdYu6XXkQHmHvX4N7ks0pXgEbyqKwsaq6ZXfYPx2ldqEjyy6sIae-WqozLe_nLANBSRg1nmUQV14LEDwtNvpG9jU/file?dl=1\n",
            "Resolving uc42a682a9fb578bd440eefee9e2.dl.dropboxusercontent.com (uc42a682a9fb578bd440eefee9e2.dl.dropboxusercontent.com)... 162.125.3.15, 2620:100:6016:15::a27d:10f\n",
            "Connecting to uc42a682a9fb578bd440eefee9e2.dl.dropboxusercontent.com (uc42a682a9fb578bd440eefee9e2.dl.dropboxusercontent.com)|162.125.3.15|:443... connected.\n",
            "HTTP request sent, awaiting response... 200 OK\n",
            "Length: 9125 (8.9K) [application/binary]\n",
            "Saving to: ‘dataset.csv’\n",
            "\n",
            "dataset.csv         100%[===================>]   8.91K  --.-KB/s    in 0s      \n",
            "\n",
            "2023-06-05 21:14:55 (123 MB/s) - ‘dataset.csv’ saved [9125/9125]\n",
            "\n"
          ]
        }
      ]
    },
    {
      "cell_type": "markdown",
      "source": [
        "Load the dataset as a dataframe"
      ],
      "metadata": {
        "id": "d9Imt5hubwiz"
      }
    },
    {
      "cell_type": "code",
      "source": [
        "df = pd.read_csv('dataset.csv')\n",
        "df"
      ],
      "metadata": {
        "id": "RuRn5PGpskHI",
        "colab": {
          "base_uri": "https://localhost:8080/",
          "height": 488
        },
        "outputId": "bfa677ec-0a40-4e04-836f-efa99ac74edd"
      },
      "execution_count": 668,
      "outputs": [
        {
          "output_type": "execute_result",
          "data": {
            "text/plain": [
              "      Area  Perimeter  Compactness  Kernel.Length  Kernel.Width  \\\n",
              "0    15.26      14.84       0.8710          5.763         3.312   \n",
              "1    14.88      14.57       0.8811          5.554         3.333   \n",
              "2    14.29      14.09       0.9050          5.291         3.337   \n",
              "3    13.84      13.94       0.8955          5.324         3.379   \n",
              "4    16.14      14.99       0.9034          5.658         3.562   \n",
              "..     ...        ...          ...            ...           ...   \n",
              "194  12.19      13.20       0.8783          5.137         2.981   \n",
              "195  11.23      12.88       0.8511          5.140         2.795   \n",
              "196  13.20      13.66       0.8883          5.236         3.232   \n",
              "197  11.84      13.21       0.8521          5.175         2.836   \n",
              "198  12.30      13.34       0.8684          5.243         2.974   \n",
              "\n",
              "     Asymmetry.Coeff  Kernel.Groove  Type  \n",
              "0              2.221          5.220     1  \n",
              "1              1.018          4.956     1  \n",
              "2              2.699          4.825     1  \n",
              "3              2.259          4.805     1  \n",
              "4              1.355          5.175     1  \n",
              "..               ...            ...   ...  \n",
              "194            3.631          4.870     3  \n",
              "195            4.325          5.003     3  \n",
              "196            8.315          5.056     3  \n",
              "197            3.598          5.044     3  \n",
              "198            5.637          5.063     3  \n",
              "\n",
              "[199 rows x 8 columns]"
            ],
            "text/html": [
              "\n",
              "  <div id=\"df-802044ae-f542-45b4-94ed-b5ebc5ee3dd8\">\n",
              "    <div class=\"colab-df-container\">\n",
              "      <div>\n",
              "<style scoped>\n",
              "    .dataframe tbody tr th:only-of-type {\n",
              "        vertical-align: middle;\n",
              "    }\n",
              "\n",
              "    .dataframe tbody tr th {\n",
              "        vertical-align: top;\n",
              "    }\n",
              "\n",
              "    .dataframe thead th {\n",
              "        text-align: right;\n",
              "    }\n",
              "</style>\n",
              "<table border=\"1\" class=\"dataframe\">\n",
              "  <thead>\n",
              "    <tr style=\"text-align: right;\">\n",
              "      <th></th>\n",
              "      <th>Area</th>\n",
              "      <th>Perimeter</th>\n",
              "      <th>Compactness</th>\n",
              "      <th>Kernel.Length</th>\n",
              "      <th>Kernel.Width</th>\n",
              "      <th>Asymmetry.Coeff</th>\n",
              "      <th>Kernel.Groove</th>\n",
              "      <th>Type</th>\n",
              "    </tr>\n",
              "  </thead>\n",
              "  <tbody>\n",
              "    <tr>\n",
              "      <th>0</th>\n",
              "      <td>15.26</td>\n",
              "      <td>14.84</td>\n",
              "      <td>0.8710</td>\n",
              "      <td>5.763</td>\n",
              "      <td>3.312</td>\n",
              "      <td>2.221</td>\n",
              "      <td>5.220</td>\n",
              "      <td>1</td>\n",
              "    </tr>\n",
              "    <tr>\n",
              "      <th>1</th>\n",
              "      <td>14.88</td>\n",
              "      <td>14.57</td>\n",
              "      <td>0.8811</td>\n",
              "      <td>5.554</td>\n",
              "      <td>3.333</td>\n",
              "      <td>1.018</td>\n",
              "      <td>4.956</td>\n",
              "      <td>1</td>\n",
              "    </tr>\n",
              "    <tr>\n",
              "      <th>2</th>\n",
              "      <td>14.29</td>\n",
              "      <td>14.09</td>\n",
              "      <td>0.9050</td>\n",
              "      <td>5.291</td>\n",
              "      <td>3.337</td>\n",
              "      <td>2.699</td>\n",
              "      <td>4.825</td>\n",
              "      <td>1</td>\n",
              "    </tr>\n",
              "    <tr>\n",
              "      <th>3</th>\n",
              "      <td>13.84</td>\n",
              "      <td>13.94</td>\n",
              "      <td>0.8955</td>\n",
              "      <td>5.324</td>\n",
              "      <td>3.379</td>\n",
              "      <td>2.259</td>\n",
              "      <td>4.805</td>\n",
              "      <td>1</td>\n",
              "    </tr>\n",
              "    <tr>\n",
              "      <th>4</th>\n",
              "      <td>16.14</td>\n",
              "      <td>14.99</td>\n",
              "      <td>0.9034</td>\n",
              "      <td>5.658</td>\n",
              "      <td>3.562</td>\n",
              "      <td>1.355</td>\n",
              "      <td>5.175</td>\n",
              "      <td>1</td>\n",
              "    </tr>\n",
              "    <tr>\n",
              "      <th>...</th>\n",
              "      <td>...</td>\n",
              "      <td>...</td>\n",
              "      <td>...</td>\n",
              "      <td>...</td>\n",
              "      <td>...</td>\n",
              "      <td>...</td>\n",
              "      <td>...</td>\n",
              "      <td>...</td>\n",
              "    </tr>\n",
              "    <tr>\n",
              "      <th>194</th>\n",
              "      <td>12.19</td>\n",
              "      <td>13.20</td>\n",
              "      <td>0.8783</td>\n",
              "      <td>5.137</td>\n",
              "      <td>2.981</td>\n",
              "      <td>3.631</td>\n",
              "      <td>4.870</td>\n",
              "      <td>3</td>\n",
              "    </tr>\n",
              "    <tr>\n",
              "      <th>195</th>\n",
              "      <td>11.23</td>\n",
              "      <td>12.88</td>\n",
              "      <td>0.8511</td>\n",
              "      <td>5.140</td>\n",
              "      <td>2.795</td>\n",
              "      <td>4.325</td>\n",
              "      <td>5.003</td>\n",
              "      <td>3</td>\n",
              "    </tr>\n",
              "    <tr>\n",
              "      <th>196</th>\n",
              "      <td>13.20</td>\n",
              "      <td>13.66</td>\n",
              "      <td>0.8883</td>\n",
              "      <td>5.236</td>\n",
              "      <td>3.232</td>\n",
              "      <td>8.315</td>\n",
              "      <td>5.056</td>\n",
              "      <td>3</td>\n",
              "    </tr>\n",
              "    <tr>\n",
              "      <th>197</th>\n",
              "      <td>11.84</td>\n",
              "      <td>13.21</td>\n",
              "      <td>0.8521</td>\n",
              "      <td>5.175</td>\n",
              "      <td>2.836</td>\n",
              "      <td>3.598</td>\n",
              "      <td>5.044</td>\n",
              "      <td>3</td>\n",
              "    </tr>\n",
              "    <tr>\n",
              "      <th>198</th>\n",
              "      <td>12.30</td>\n",
              "      <td>13.34</td>\n",
              "      <td>0.8684</td>\n",
              "      <td>5.243</td>\n",
              "      <td>2.974</td>\n",
              "      <td>5.637</td>\n",
              "      <td>5.063</td>\n",
              "      <td>3</td>\n",
              "    </tr>\n",
              "  </tbody>\n",
              "</table>\n",
              "<p>199 rows × 8 columns</p>\n",
              "</div>\n",
              "      <button class=\"colab-df-convert\" onclick=\"convertToInteractive('df-802044ae-f542-45b4-94ed-b5ebc5ee3dd8')\"\n",
              "              title=\"Convert this dataframe to an interactive table.\"\n",
              "              style=\"display:none;\">\n",
              "        \n",
              "  <svg xmlns=\"http://www.w3.org/2000/svg\" height=\"24px\"viewBox=\"0 0 24 24\"\n",
              "       width=\"24px\">\n",
              "    <path d=\"M0 0h24v24H0V0z\" fill=\"none\"/>\n",
              "    <path d=\"M18.56 5.44l.94 2.06.94-2.06 2.06-.94-2.06-.94-.94-2.06-.94 2.06-2.06.94zm-11 1L8.5 8.5l.94-2.06 2.06-.94-2.06-.94L8.5 2.5l-.94 2.06-2.06.94zm10 10l.94 2.06.94-2.06 2.06-.94-2.06-.94-.94-2.06-.94 2.06-2.06.94z\"/><path d=\"M17.41 7.96l-1.37-1.37c-.4-.4-.92-.59-1.43-.59-.52 0-1.04.2-1.43.59L10.3 9.45l-7.72 7.72c-.78.78-.78 2.05 0 2.83L4 21.41c.39.39.9.59 1.41.59.51 0 1.02-.2 1.41-.59l7.78-7.78 2.81-2.81c.8-.78.8-2.07 0-2.86zM5.41 20L4 18.59l7.72-7.72 1.47 1.35L5.41 20z\"/>\n",
              "  </svg>\n",
              "      </button>\n",
              "      \n",
              "  <style>\n",
              "    .colab-df-container {\n",
              "      display:flex;\n",
              "      flex-wrap:wrap;\n",
              "      gap: 12px;\n",
              "    }\n",
              "\n",
              "    .colab-df-convert {\n",
              "      background-color: #E8F0FE;\n",
              "      border: none;\n",
              "      border-radius: 50%;\n",
              "      cursor: pointer;\n",
              "      display: none;\n",
              "      fill: #1967D2;\n",
              "      height: 32px;\n",
              "      padding: 0 0 0 0;\n",
              "      width: 32px;\n",
              "    }\n",
              "\n",
              "    .colab-df-convert:hover {\n",
              "      background-color: #E2EBFA;\n",
              "      box-shadow: 0px 1px 2px rgba(60, 64, 67, 0.3), 0px 1px 3px 1px rgba(60, 64, 67, 0.15);\n",
              "      fill: #174EA6;\n",
              "    }\n",
              "\n",
              "    [theme=dark] .colab-df-convert {\n",
              "      background-color: #3B4455;\n",
              "      fill: #D2E3FC;\n",
              "    }\n",
              "\n",
              "    [theme=dark] .colab-df-convert:hover {\n",
              "      background-color: #434B5C;\n",
              "      box-shadow: 0px 1px 3px 1px rgba(0, 0, 0, 0.15);\n",
              "      filter: drop-shadow(0px 1px 2px rgba(0, 0, 0, 0.3));\n",
              "      fill: #FFFFFF;\n",
              "    }\n",
              "  </style>\n",
              "\n",
              "      <script>\n",
              "        const buttonEl =\n",
              "          document.querySelector('#df-802044ae-f542-45b4-94ed-b5ebc5ee3dd8 button.colab-df-convert');\n",
              "        buttonEl.style.display =\n",
              "          google.colab.kernel.accessAllowed ? 'block' : 'none';\n",
              "\n",
              "        async function convertToInteractive(key) {\n",
              "          const element = document.querySelector('#df-802044ae-f542-45b4-94ed-b5ebc5ee3dd8');\n",
              "          const dataTable =\n",
              "            await google.colab.kernel.invokeFunction('convertToInteractive',\n",
              "                                                     [key], {});\n",
              "          if (!dataTable) return;\n",
              "\n",
              "          const docLinkHtml = 'Like what you see? Visit the ' +\n",
              "            '<a target=\"_blank\" href=https://colab.research.google.com/notebooks/data_table.ipynb>data table notebook</a>'\n",
              "            + ' to learn more about interactive tables.';\n",
              "          element.innerHTML = '';\n",
              "          dataTable['output_type'] = 'display_data';\n",
              "          await google.colab.output.renderOutput(dataTable, element);\n",
              "          const docLink = document.createElement('div');\n",
              "          docLink.innerHTML = docLinkHtml;\n",
              "          element.appendChild(docLink);\n",
              "        }\n",
              "      </script>\n",
              "    </div>\n",
              "  </div>\n",
              "  "
            ]
          },
          "metadata": {},
          "execution_count": 668
        }
      ]
    },
    {
      "cell_type": "markdown",
      "source": [
        "Check if there are any missing values (and remove them) **(P1-1: 2 points)**"
      ],
      "metadata": {
        "id": "RWiHRlHkb1Bf"
      }
    },
    {
      "cell_type": "code",
      "source": [
        "df.isnull().any().any()"
      ],
      "metadata": {
        "execution": {
          "iopub.status.busy": "2023-05-24T06:42:35.080087Z",
          "iopub.execute_input": "2023-05-24T06:42:35.080727Z",
          "iopub.status.idle": "2023-05-24T06:42:35.091722Z",
          "shell.execute_reply.started": "2023-05-24T06:42:35.080676Z",
          "shell.execute_reply": "2023-05-24T06:42:35.089794Z"
        },
        "trusted": true,
        "id": "YqfwGyG9UmDI",
        "colab": {
          "base_uri": "https://localhost:8080/"
        },
        "outputId": "874e5fa0-c197-4418-a4e9-7acf27a147d6"
      },
      "execution_count": 669,
      "outputs": [
        {
          "output_type": "execute_result",
          "data": {
            "text/plain": [
              "False"
            ]
          },
          "metadata": {},
          "execution_count": 669
        }
      ]
    },
    {
      "cell_type": "markdown",
      "source": [
        "Plot the heatmap of the correlation matrix between features **(P1-2: 3 points)**"
      ],
      "metadata": {
        "id": "VF5wHd-8b-aE"
      }
    },
    {
      "cell_type": "code",
      "source": [
        "features_df = df.drop(labels=['Type'], axis='columns')\n",
        "features_df"
      ],
      "metadata": {
        "execution": {
          "iopub.status.busy": "2023-05-24T06:43:36.794295Z",
          "iopub.execute_input": "2023-05-24T06:43:36.794843Z",
          "iopub.status.idle": "2023-05-24T06:43:37.411526Z",
          "shell.execute_reply.started": "2023-05-24T06:43:36.794803Z",
          "shell.execute_reply": "2023-05-24T06:43:37.410238Z"
        },
        "trusted": true,
        "id": "NP0TksdUUmDI",
        "colab": {
          "base_uri": "https://localhost:8080/",
          "height": 488
        },
        "outputId": "377880e5-6bd7-4cdd-f603-94b4427074c0"
      },
      "execution_count": 670,
      "outputs": [
        {
          "output_type": "execute_result",
          "data": {
            "text/plain": [
              "      Area  Perimeter  Compactness  Kernel.Length  Kernel.Width  \\\n",
              "0    15.26      14.84       0.8710          5.763         3.312   \n",
              "1    14.88      14.57       0.8811          5.554         3.333   \n",
              "2    14.29      14.09       0.9050          5.291         3.337   \n",
              "3    13.84      13.94       0.8955          5.324         3.379   \n",
              "4    16.14      14.99       0.9034          5.658         3.562   \n",
              "..     ...        ...          ...            ...           ...   \n",
              "194  12.19      13.20       0.8783          5.137         2.981   \n",
              "195  11.23      12.88       0.8511          5.140         2.795   \n",
              "196  13.20      13.66       0.8883          5.236         3.232   \n",
              "197  11.84      13.21       0.8521          5.175         2.836   \n",
              "198  12.30      13.34       0.8684          5.243         2.974   \n",
              "\n",
              "     Asymmetry.Coeff  Kernel.Groove  \n",
              "0              2.221          5.220  \n",
              "1              1.018          4.956  \n",
              "2              2.699          4.825  \n",
              "3              2.259          4.805  \n",
              "4              1.355          5.175  \n",
              "..               ...            ...  \n",
              "194            3.631          4.870  \n",
              "195            4.325          5.003  \n",
              "196            8.315          5.056  \n",
              "197            3.598          5.044  \n",
              "198            5.637          5.063  \n",
              "\n",
              "[199 rows x 7 columns]"
            ],
            "text/html": [
              "\n",
              "  <div id=\"df-3fad854d-af42-47ed-b060-bc5b30443b0c\">\n",
              "    <div class=\"colab-df-container\">\n",
              "      <div>\n",
              "<style scoped>\n",
              "    .dataframe tbody tr th:only-of-type {\n",
              "        vertical-align: middle;\n",
              "    }\n",
              "\n",
              "    .dataframe tbody tr th {\n",
              "        vertical-align: top;\n",
              "    }\n",
              "\n",
              "    .dataframe thead th {\n",
              "        text-align: right;\n",
              "    }\n",
              "</style>\n",
              "<table border=\"1\" class=\"dataframe\">\n",
              "  <thead>\n",
              "    <tr style=\"text-align: right;\">\n",
              "      <th></th>\n",
              "      <th>Area</th>\n",
              "      <th>Perimeter</th>\n",
              "      <th>Compactness</th>\n",
              "      <th>Kernel.Length</th>\n",
              "      <th>Kernel.Width</th>\n",
              "      <th>Asymmetry.Coeff</th>\n",
              "      <th>Kernel.Groove</th>\n",
              "    </tr>\n",
              "  </thead>\n",
              "  <tbody>\n",
              "    <tr>\n",
              "      <th>0</th>\n",
              "      <td>15.26</td>\n",
              "      <td>14.84</td>\n",
              "      <td>0.8710</td>\n",
              "      <td>5.763</td>\n",
              "      <td>3.312</td>\n",
              "      <td>2.221</td>\n",
              "      <td>5.220</td>\n",
              "    </tr>\n",
              "    <tr>\n",
              "      <th>1</th>\n",
              "      <td>14.88</td>\n",
              "      <td>14.57</td>\n",
              "      <td>0.8811</td>\n",
              "      <td>5.554</td>\n",
              "      <td>3.333</td>\n",
              "      <td>1.018</td>\n",
              "      <td>4.956</td>\n",
              "    </tr>\n",
              "    <tr>\n",
              "      <th>2</th>\n",
              "      <td>14.29</td>\n",
              "      <td>14.09</td>\n",
              "      <td>0.9050</td>\n",
              "      <td>5.291</td>\n",
              "      <td>3.337</td>\n",
              "      <td>2.699</td>\n",
              "      <td>4.825</td>\n",
              "    </tr>\n",
              "    <tr>\n",
              "      <th>3</th>\n",
              "      <td>13.84</td>\n",
              "      <td>13.94</td>\n",
              "      <td>0.8955</td>\n",
              "      <td>5.324</td>\n",
              "      <td>3.379</td>\n",
              "      <td>2.259</td>\n",
              "      <td>4.805</td>\n",
              "    </tr>\n",
              "    <tr>\n",
              "      <th>4</th>\n",
              "      <td>16.14</td>\n",
              "      <td>14.99</td>\n",
              "      <td>0.9034</td>\n",
              "      <td>5.658</td>\n",
              "      <td>3.562</td>\n",
              "      <td>1.355</td>\n",
              "      <td>5.175</td>\n",
              "    </tr>\n",
              "    <tr>\n",
              "      <th>...</th>\n",
              "      <td>...</td>\n",
              "      <td>...</td>\n",
              "      <td>...</td>\n",
              "      <td>...</td>\n",
              "      <td>...</td>\n",
              "      <td>...</td>\n",
              "      <td>...</td>\n",
              "    </tr>\n",
              "    <tr>\n",
              "      <th>194</th>\n",
              "      <td>12.19</td>\n",
              "      <td>13.20</td>\n",
              "      <td>0.8783</td>\n",
              "      <td>5.137</td>\n",
              "      <td>2.981</td>\n",
              "      <td>3.631</td>\n",
              "      <td>4.870</td>\n",
              "    </tr>\n",
              "    <tr>\n",
              "      <th>195</th>\n",
              "      <td>11.23</td>\n",
              "      <td>12.88</td>\n",
              "      <td>0.8511</td>\n",
              "      <td>5.140</td>\n",
              "      <td>2.795</td>\n",
              "      <td>4.325</td>\n",
              "      <td>5.003</td>\n",
              "    </tr>\n",
              "    <tr>\n",
              "      <th>196</th>\n",
              "      <td>13.20</td>\n",
              "      <td>13.66</td>\n",
              "      <td>0.8883</td>\n",
              "      <td>5.236</td>\n",
              "      <td>3.232</td>\n",
              "      <td>8.315</td>\n",
              "      <td>5.056</td>\n",
              "    </tr>\n",
              "    <tr>\n",
              "      <th>197</th>\n",
              "      <td>11.84</td>\n",
              "      <td>13.21</td>\n",
              "      <td>0.8521</td>\n",
              "      <td>5.175</td>\n",
              "      <td>2.836</td>\n",
              "      <td>3.598</td>\n",
              "      <td>5.044</td>\n",
              "    </tr>\n",
              "    <tr>\n",
              "      <th>198</th>\n",
              "      <td>12.30</td>\n",
              "      <td>13.34</td>\n",
              "      <td>0.8684</td>\n",
              "      <td>5.243</td>\n",
              "      <td>2.974</td>\n",
              "      <td>5.637</td>\n",
              "      <td>5.063</td>\n",
              "    </tr>\n",
              "  </tbody>\n",
              "</table>\n",
              "<p>199 rows × 7 columns</p>\n",
              "</div>\n",
              "      <button class=\"colab-df-convert\" onclick=\"convertToInteractive('df-3fad854d-af42-47ed-b060-bc5b30443b0c')\"\n",
              "              title=\"Convert this dataframe to an interactive table.\"\n",
              "              style=\"display:none;\">\n",
              "        \n",
              "  <svg xmlns=\"http://www.w3.org/2000/svg\" height=\"24px\"viewBox=\"0 0 24 24\"\n",
              "       width=\"24px\">\n",
              "    <path d=\"M0 0h24v24H0V0z\" fill=\"none\"/>\n",
              "    <path d=\"M18.56 5.44l.94 2.06.94-2.06 2.06-.94-2.06-.94-.94-2.06-.94 2.06-2.06.94zm-11 1L8.5 8.5l.94-2.06 2.06-.94-2.06-.94L8.5 2.5l-.94 2.06-2.06.94zm10 10l.94 2.06.94-2.06 2.06-.94-2.06-.94-.94-2.06-.94 2.06-2.06.94z\"/><path d=\"M17.41 7.96l-1.37-1.37c-.4-.4-.92-.59-1.43-.59-.52 0-1.04.2-1.43.59L10.3 9.45l-7.72 7.72c-.78.78-.78 2.05 0 2.83L4 21.41c.39.39.9.59 1.41.59.51 0 1.02-.2 1.41-.59l7.78-7.78 2.81-2.81c.8-.78.8-2.07 0-2.86zM5.41 20L4 18.59l7.72-7.72 1.47 1.35L5.41 20z\"/>\n",
              "  </svg>\n",
              "      </button>\n",
              "      \n",
              "  <style>\n",
              "    .colab-df-container {\n",
              "      display:flex;\n",
              "      flex-wrap:wrap;\n",
              "      gap: 12px;\n",
              "    }\n",
              "\n",
              "    .colab-df-convert {\n",
              "      background-color: #E8F0FE;\n",
              "      border: none;\n",
              "      border-radius: 50%;\n",
              "      cursor: pointer;\n",
              "      display: none;\n",
              "      fill: #1967D2;\n",
              "      height: 32px;\n",
              "      padding: 0 0 0 0;\n",
              "      width: 32px;\n",
              "    }\n",
              "\n",
              "    .colab-df-convert:hover {\n",
              "      background-color: #E2EBFA;\n",
              "      box-shadow: 0px 1px 2px rgba(60, 64, 67, 0.3), 0px 1px 3px 1px rgba(60, 64, 67, 0.15);\n",
              "      fill: #174EA6;\n",
              "    }\n",
              "\n",
              "    [theme=dark] .colab-df-convert {\n",
              "      background-color: #3B4455;\n",
              "      fill: #D2E3FC;\n",
              "    }\n",
              "\n",
              "    [theme=dark] .colab-df-convert:hover {\n",
              "      background-color: #434B5C;\n",
              "      box-shadow: 0px 1px 3px 1px rgba(0, 0, 0, 0.15);\n",
              "      filter: drop-shadow(0px 1px 2px rgba(0, 0, 0, 0.3));\n",
              "      fill: #FFFFFF;\n",
              "    }\n",
              "  </style>\n",
              "\n",
              "      <script>\n",
              "        const buttonEl =\n",
              "          document.querySelector('#df-3fad854d-af42-47ed-b060-bc5b30443b0c button.colab-df-convert');\n",
              "        buttonEl.style.display =\n",
              "          google.colab.kernel.accessAllowed ? 'block' : 'none';\n",
              "\n",
              "        async function convertToInteractive(key) {\n",
              "          const element = document.querySelector('#df-3fad854d-af42-47ed-b060-bc5b30443b0c');\n",
              "          const dataTable =\n",
              "            await google.colab.kernel.invokeFunction('convertToInteractive',\n",
              "                                                     [key], {});\n",
              "          if (!dataTable) return;\n",
              "\n",
              "          const docLinkHtml = 'Like what you see? Visit the ' +\n",
              "            '<a target=\"_blank\" href=https://colab.research.google.com/notebooks/data_table.ipynb>data table notebook</a>'\n",
              "            + ' to learn more about interactive tables.';\n",
              "          element.innerHTML = '';\n",
              "          dataTable['output_type'] = 'display_data';\n",
              "          await google.colab.output.renderOutput(dataTable, element);\n",
              "          const docLink = document.createElement('div');\n",
              "          docLink.innerHTML = docLinkHtml;\n",
              "          element.appendChild(docLink);\n",
              "        }\n",
              "      </script>\n",
              "    </div>\n",
              "  </div>\n",
              "  "
            ]
          },
          "metadata": {},
          "execution_count": 670
        }
      ]
    },
    {
      "cell_type": "code",
      "source": [
        "corr_matrix = features_df.corr()\n",
        "plt.figure(figsize=(10, 10))\n",
        "sns.heatmap(corr_matrix, annot=True)"
      ],
      "metadata": {
        "colab": {
          "base_uri": "https://localhost:8080/",
          "height": 774
        },
        "id": "_TDQ0RoEaBvj",
        "outputId": "d3938cf9-cccc-45fd-9605-565ea7db3939"
      },
      "execution_count": 671,
      "outputs": [
        {
          "output_type": "execute_result",
          "data": {
            "text/plain": [
              "<Axes: >"
            ]
          },
          "metadata": {},
          "execution_count": 671
        },
        {
          "output_type": "display_data",
          "data": {
            "text/plain": [
              "<Figure size 1000x1000 with 2 Axes>"
            ],
            "image/png": "[encoded data removed]"
          },
          "metadata": {}
        }
      ]
    },
    {
      "cell_type": "markdown",
      "source": [
        "Remove features which are highly correlated (> 95%) with the other ones **(P1-3: 5 points)**"
      ],
      "metadata": {
        "id": "DC874nRgcG38"
      }
    },
    {
      "cell_type": "code",
      "source": [
        "features_df_reduced = features_df.copy()\n",
        "while True:\n",
        "  red_corr = features_df_reduced.corr()\n",
        "  features_positive_corr = red_corr.abs().to_numpy()\n",
        "  for i in range(len(features_positive_corr)):\n",
        "    features_positive_corr[i][i] = 0\n",
        "  max_corrs = []\n",
        "  for i in range(len(features_positive_corr)):\n",
        "    max_corrs.append((red_corr.index[i], features_positive_corr[i].max()))\n",
        "  max_corrs.sort(key=lambda x: x[1], reverse=True)\n",
        "  if max_corrs[0][1] < 0.95: \n",
        "    break\n",
        "  features_df_reduced = features_df_reduced.drop(max_corrs[0][0], axis=1)\n",
        "features_df_reduced"
      ],
      "metadata": {
        "execution": {
          "iopub.status.busy": "2023-05-24T06:47:34.398266Z",
          "iopub.execute_input": "2023-05-24T06:47:34.398700Z",
          "iopub.status.idle": "2023-05-24T06:47:34.418229Z",
          "shell.execute_reply.started": "2023-05-24T06:47:34.398658Z",
          "shell.execute_reply": "2023-05-24T06:47:34.417048Z"
        },
        "trusted": true,
        "id": "yPdwUIV4UmDJ",
        "colab": {
          "base_uri": "https://localhost:8080/",
          "height": 468
        },
        "outputId": "8c279271-be5d-4b40-8d6f-df2b213a8c3f"
      },
      "execution_count": 672,
      "outputs": [
        {
          "output_type": "execute_result",
          "data": {
            "text/plain": [
              "     Compactness  Kernel.Length  Kernel.Width  Asymmetry.Coeff  Kernel.Groove\n",
              "0         0.8710          5.763         3.312            2.221          5.220\n",
              "1         0.8811          5.554         3.333            1.018          4.956\n",
              "2         0.9050          5.291         3.337            2.699          4.825\n",
              "3         0.8955          5.324         3.379            2.259          4.805\n",
              "4         0.9034          5.658         3.562            1.355          5.175\n",
              "..           ...            ...           ...              ...            ...\n",
              "194       0.8783          5.137         2.981            3.631          4.870\n",
              "195       0.8511          5.140         2.795            4.325          5.003\n",
              "196       0.8883          5.236         3.232            8.315          5.056\n",
              "197       0.8521          5.175         2.836            3.598          5.044\n",
              "198       0.8684          5.243         2.974            5.637          5.063\n",
              "\n",
              "[199 rows x 5 columns]"
            ],
            "text/html": [
              "\n",
              "  <div id=\"df-397d2b8d-75d2-4a78-a4f4-49be79bd29d4\">\n",
              "    <div class=\"colab-df-container\">\n",
              "      <div>\n",
              "<style scoped>\n",
              "    .dataframe tbody tr th:only-of-type {\n",
              "        vertical-align: middle;\n",
              "    }\n",
              "\n",
              "    .dataframe tbody tr th {\n",
              "        vertical-align: top;\n",
              "    }\n",
              "\n",
              "    .dataframe thead th {\n",
              "        text-align: right;\n",
              "    }\n",
              "</style>\n",
              "<table border=\"1\" class=\"dataframe\">\n",
              "  <thead>\n",
              "    <tr style=\"text-align: right;\">\n",
              "      <th></th>\n",
              "      <th>Compactness</th>\n",
              "      <th>Kernel.Length</th>\n",
              "      <th>Kernel.Width</th>\n",
              "      <th>Asymmetry.Coeff</th>\n",
              "      <th>Kernel.Groove</th>\n",
              "    </tr>\n",
              "  </thead>\n",
              "  <tbody>\n",
              "    <tr>\n",
              "      <th>0</th>\n",
              "      <td>0.8710</td>\n",
              "      <td>5.763</td>\n",
              "      <td>3.312</td>\n",
              "      <td>2.221</td>\n",
              "      <td>5.220</td>\n",
              "    </tr>\n",
              "    <tr>\n",
              "      <th>1</th>\n",
              "      <td>0.8811</td>\n",
              "      <td>5.554</td>\n",
              "      <td>3.333</td>\n",
              "      <td>1.018</td>\n",
              "      <td>4.956</td>\n",
              "    </tr>\n",
              "    <tr>\n",
              "      <th>2</th>\n",
              "      <td>0.9050</td>\n",
              "      <td>5.291</td>\n",
              "      <td>3.337</td>\n",
              "      <td>2.699</td>\n",
              "      <td>4.825</td>\n",
              "    </tr>\n",
              "    <tr>\n",
              "      <th>3</th>\n",
              "      <td>0.8955</td>\n",
              "      <td>5.324</td>\n",
              "      <td>3.379</td>\n",
              "      <td>2.259</td>\n",
              "      <td>4.805</td>\n",
              "    </tr>\n",
              "    <tr>\n",
              "      <th>4</th>\n",
              "      <td>0.9034</td>\n",
              "      <td>5.658</td>\n",
              "      <td>3.562</td>\n",
              "      <td>1.355</td>\n",
              "      <td>5.175</td>\n",
              "    </tr>\n",
              "    <tr>\n",
              "      <th>...</th>\n",
              "      <td>...</td>\n",
              "      <td>...</td>\n",
              "      <td>...</td>\n",
              "      <td>...</td>\n",
              "      <td>...</td>\n",
              "    </tr>\n",
              "    <tr>\n",
              "      <th>194</th>\n",
              "      <td>0.8783</td>\n",
              "      <td>5.137</td>\n",
              "      <td>2.981</td>\n",
              "      <td>3.631</td>\n",
              "      <td>4.870</td>\n",
              "    </tr>\n",
              "    <tr>\n",
              "      <th>195</th>\n",
              "      <td>0.8511</td>\n",
              "      <td>5.140</td>\n",
              "      <td>2.795</td>\n",
              "      <td>4.325</td>\n",
              "      <td>5.003</td>\n",
              "    </tr>\n",
              "    <tr>\n",
              "      <th>196</th>\n",
              "      <td>0.8883</td>\n",
              "      <td>5.236</td>\n",
              "      <td>3.232</td>\n",
              "      <td>8.315</td>\n",
              "      <td>5.056</td>\n",
              "    </tr>\n",
              "    <tr>\n",
              "      <th>197</th>\n",
              "      <td>0.8521</td>\n",
              "      <td>5.175</td>\n",
              "      <td>2.836</td>\n",
              "      <td>3.598</td>\n",
              "      <td>5.044</td>\n",
              "    </tr>\n",
              "    <tr>\n",
              "      <th>198</th>\n",
              "      <td>0.8684</td>\n",
              "      <td>5.243</td>\n",
              "      <td>2.974</td>\n",
              "      <td>5.637</td>\n",
              "      <td>5.063</td>\n",
              "    </tr>\n",
              "  </tbody>\n",
              "</table>\n",
              "<p>199 rows × 5 columns</p>\n",
              "</div>\n",
              "      <button class=\"colab-df-convert\" onclick=\"convertToInteractive('df-397d2b8d-75d2-4a78-a4f4-49be79bd29d4')\"\n",
              "              title=\"Convert this dataframe to an interactive table.\"\n",
              "              style=\"display:none;\">\n",
              "        \n",
              "  <svg xmlns=\"http://www.w3.org/2000/svg\" height=\"24px\"viewBox=\"0 0 24 24\"\n",
              "       width=\"24px\">\n",
              "    <path d=\"M0 0h24v24H0V0z\" fill=\"none\"/>\n",
              "    <path d=\"M18.56 5.44l.94 2.06.94-2.06 2.06-.94-2.06-.94-.94-2.06-.94 2.06-2.06.94zm-11 1L8.5 8.5l.94-2.06 2.06-.94-2.06-.94L8.5 2.5l-.94 2.06-2.06.94zm10 10l.94 2.06.94-2.06 2.06-.94-2.06-.94-.94-2.06-.94 2.06-2.06.94z\"/><path d=\"M17.41 7.96l-1.37-1.37c-.4-.4-.92-.59-1.43-.59-.52 0-1.04.2-1.43.59L10.3 9.45l-7.72 7.72c-.78.78-.78 2.05 0 2.83L4 21.41c.39.39.9.59 1.41.59.51 0 1.02-.2 1.41-.59l7.78-7.78 2.81-2.81c.8-.78.8-2.07 0-2.86zM5.41 20L4 18.59l7.72-7.72 1.47 1.35L5.41 20z\"/>\n",
              "  </svg>\n",
              "      </button>\n",
              "      \n",
              "  <style>\n",
              "    .colab-df-container {\n",
              "      display:flex;\n",
              "      flex-wrap:wrap;\n",
              "      gap: 12px;\n",
              "    }\n",
              "\n",
              "    .colab-df-convert {\n",
              "      background-color: #E8F0FE;\n",
              "      border: none;\n",
              "      border-radius: 50%;\n",
              "      cursor: pointer;\n",
              "      display: none;\n",
              "      fill: #1967D2;\n",
              "      height: 32px;\n",
              "      padding: 0 0 0 0;\n",
              "      width: 32px;\n",
              "    }\n",
              "\n",
              "    .colab-df-convert:hover {\n",
              "      background-color: #E2EBFA;\n",
              "      box-shadow: 0px 1px 2px rgba(60, 64, 67, 0.3), 0px 1px 3px 1px rgba(60, 64, 67, 0.15);\n",
              "      fill: #174EA6;\n",
              "    }\n",
              "\n",
              "    [theme=dark] .colab-df-convert {\n",
              "      background-color: #3B4455;\n",
              "      fill: #D2E3FC;\n",
              "    }\n",
              "\n",
              "    [theme=dark] .colab-df-convert:hover {\n",
              "      background-color: #434B5C;\n",
              "      box-shadow: 0px 1px 3px 1px rgba(0, 0, 0, 0.15);\n",
              "      filter: drop-shadow(0px 1px 2px rgba(0, 0, 0, 0.3));\n",
              "      fill: #FFFFFF;\n",
              "    }\n",
              "  </style>\n",
              "\n",
              "      <script>\n",
              "        const buttonEl =\n",
              "          document.querySelector('#df-397d2b8d-75d2-4a78-a4f4-49be79bd29d4 button.colab-df-convert');\n",
              "        buttonEl.style.display =\n",
              "          google.colab.kernel.accessAllowed ? 'block' : 'none';\n",
              "\n",
              "        async function convertToInteractive(key) {\n",
              "          const element = document.querySelector('#df-397d2b8d-75d2-4a78-a4f4-49be79bd29d4');\n",
              "          const dataTable =\n",
              "            await google.colab.kernel.invokeFunction('convertToInteractive',\n",
              "                                                     [key], {});\n",
              "          if (!dataTable) return;\n",
              "\n",
              "          const docLinkHtml = 'Like what you see? Visit the ' +\n",
              "            '<a target=\"_blank\" href=https://colab.research.google.com/notebooks/data_table.ipynb>data table notebook</a>'\n",
              "            + ' to learn more about interactive tables.';\n",
              "          element.innerHTML = '';\n",
              "          dataTable['output_type'] = 'display_data';\n",
              "          await google.colab.output.renderOutput(dataTable, element);\n",
              "          const docLink = document.createElement('div');\n",
              "          docLink.innerHTML = docLinkHtml;\n",
              "          element.appendChild(docLink);\n",
              "        }\n",
              "      </script>\n",
              "    </div>\n",
              "  </div>\n",
              "  "
            ]
          },
          "metadata": {},
          "execution_count": 672
        }
      ]
    },
    {
      "cell_type": "markdown",
      "source": [
        "Check for imbalance between classes **(P1-4: 3 points)**"
      ],
      "metadata": {
        "id": "2O2NEn6McNgN"
      }
    },
    {
      "cell_type": "code",
      "source": [
        "class_counts = df['Type'].value_counts()\n",
        "class_counts"
      ],
      "metadata": {
        "execution": {
          "iopub.status.busy": "2023-05-24T06:50:13.895162Z",
          "iopub.execute_input": "2023-05-24T06:50:13.895599Z",
          "iopub.status.idle": "2023-05-24T06:50:13.905600Z",
          "shell.execute_reply.started": "2023-05-24T06:50:13.895565Z",
          "shell.execute_reply": "2023-05-24T06:50:13.904313Z"
        },
        "trusted": true,
        "id": "jfApFEhjUmDJ",
        "colab": {
          "base_uri": "https://localhost:8080/"
        },
        "outputId": "1380358b-1f9e-431c-fdab-274cd800d7a3"
      },
      "execution_count": 673,
      "outputs": [
        {
          "output_type": "execute_result",
          "data": {
            "text/plain": [
              "2    68\n",
              "1    66\n",
              "3    65\n",
              "Name: Type, dtype: int64"
            ]
          },
          "metadata": {},
          "execution_count": 673
        }
      ]
    },
    {
      "cell_type": "code",
      "source": [
        "imbalancity_flag = False\n",
        "for class_count in class_counts:\n",
        "  if abs((class_count - np.mean(class_counts)) / np.mean(class_counts)) > 0.1:\n",
        "    imbalancity_flag = True\n",
        "print(f'Imbalancity: {imbalancity_flag}')"
      ],
      "metadata": {
        "colab": {
          "base_uri": "https://localhost:8080/"
        },
        "id": "Ueoimm6JtjOp",
        "outputId": "0c27116e-55e9-41d1-9e55-810b45d77f52"
      },
      "execution_count": 674,
      "outputs": [
        {
          "output_type": "stream",
          "name": "stdout",
          "text": [
            "Imbalancity: False\n"
          ]
        }
      ]
    },
    {
      "cell_type": "markdown",
      "source": [
        "## P2: Prepare the Training Data"
      ],
      "metadata": {
        "id": "iqg_DkvfUmDK"
      }
    },
    {
      "cell_type": "markdown",
      "source": [
        "Convert features and the target into numpy arrays **(P2-1: 2 points)**"
      ],
      "metadata": {
        "id": "SNbqym9_cfX7"
      }
    },
    {
      "cell_type": "code",
      "source": [
        "y = df['Type'].to_numpy()\n",
        "y"
      ],
      "metadata": {
        "execution": {
          "iopub.status.busy": "2023-05-24T06:53:36.362537Z",
          "iopub.execute_input": "2023-05-24T06:53:36.362962Z",
          "iopub.status.idle": "2023-05-24T06:53:36.372547Z",
          "shell.execute_reply.started": "2023-05-24T06:53:36.362921Z",
          "shell.execute_reply": "2023-05-24T06:53:36.371066Z"
        },
        "trusted": true,
        "id": "bjIaMSwDUmDK",
        "colab": {
          "base_uri": "https://localhost:8080/"
        },
        "outputId": "653e60c3-b508-4e66-8370-e9cb63b6584f"
      },
      "execution_count": 675,
      "outputs": [
        {
          "output_type": "execute_result",
          "data": {
            "text/plain": [
              "array([1, 1, 1, 1, 1, 1, 1, 1, 1, 1, 1, 1, 1, 1, 1, 1, 1, 1, 1, 1, 1, 1,\n",
              "       1, 1, 1, 1, 1, 1, 1, 1, 1, 1, 1, 1, 1, 1, 1, 1, 1, 1, 1, 1, 1, 1,\n",
              "       1, 1, 1, 1, 1, 1, 1, 1, 1, 1, 1, 1, 1, 1, 1, 1, 1, 1, 1, 1, 1, 1,\n",
              "       2, 2, 2, 2, 2, 2, 2, 2, 2, 2, 2, 2, 2, 2, 2, 2, 2, 2, 2, 2, 2, 2,\n",
              "       2, 2, 2, 2, 2, 2, 2, 2, 2, 2, 2, 2, 2, 2, 2, 2, 2, 2, 2, 2, 2, 2,\n",
              "       2, 2, 2, 2, 2, 2, 2, 2, 2, 2, 2, 2, 2, 2, 2, 2, 2, 2, 2, 2, 2, 2,\n",
              "       2, 2, 3, 3, 3, 3, 3, 3, 3, 3, 3, 3, 3, 3, 3, 3, 3, 3, 3, 3, 3, 3,\n",
              "       3, 3, 3, 3, 3, 3, 3, 3, 3, 3, 3, 3, 3, 3, 3, 3, 3, 3, 3, 3, 3, 3,\n",
              "       3, 3, 3, 3, 3, 3, 3, 3, 3, 3, 3, 3, 3, 3, 3, 3, 3, 3, 3, 3, 3, 3,\n",
              "       3])"
            ]
          },
          "metadata": {},
          "execution_count": 675
        }
      ]
    },
    {
      "cell_type": "code",
      "source": [
        "x = features_df_reduced.to_numpy()\n",
        "x"
      ],
      "metadata": {
        "colab": {
          "base_uri": "https://localhost:8080/"
        },
        "id": "tohCrrQ6iJcm",
        "outputId": "bbd0c5d7-2d81-4204-eee8-987d0286980f"
      },
      "execution_count": 676,
      "outputs": [
        {
          "output_type": "execute_result",
          "data": {
            "text/plain": [
              "array([[0.871 , 5.763 , 3.312 , 2.221 , 5.22  ],\n",
              "       [0.8811, 5.554 , 3.333 , 1.018 , 4.956 ],\n",
              "       [0.905 , 5.291 , 3.337 , 2.699 , 4.825 ],\n",
              "       [0.8955, 5.324 , 3.379 , 2.259 , 4.805 ],\n",
              "       [0.9034, 5.658 , 3.562 , 1.355 , 5.175 ],\n",
              "       [0.8951, 5.386 , 3.312 , 2.462 , 4.956 ],\n",
              "       [0.8799, 5.563 , 3.259 , 3.586 , 5.219 ],\n",
              "       [0.8747, 6.053 , 3.465 , 2.04  , 5.877 ],\n",
              "       [0.888 , 5.884 , 3.505 , 1.969 , 5.533 ],\n",
              "       [0.8696, 5.714 , 3.242 , 4.543 , 5.314 ],\n",
              "       [0.8796, 5.438 , 3.201 , 1.717 , 5.001 ],\n",
              "       [0.888 , 5.439 , 3.199 , 3.986 , 4.738 ],\n",
              "       [0.8759, 5.479 , 3.156 , 3.136 , 4.872 ],\n",
              "       [0.8744, 5.482 , 3.114 , 2.932 , 4.825 ],\n",
              "       [0.8993, 5.351 , 3.333 , 4.185 , 4.781 ],\n",
              "       [0.9183, 5.119 , 3.383 , 5.234 , 4.781 ],\n",
              "       [0.9058, 5.527 , 3.514 , 1.599 , 5.046 ],\n",
              "       [0.9153, 5.205 , 3.466 , 1.767 , 4.649 ],\n",
              "       [0.8686, 5.226 , 3.049 , 4.102 , 4.914 ],\n",
              "       [0.8584, 5.658 , 3.129 , 3.072 , 5.176 ],\n",
              "       [0.8722, 5.52  , 3.168 , 2.688 , 5.219 ],\n",
              "       [0.8988, 5.618 , 3.507 , 0.7651, 5.091 ],\n",
              "       [0.8664, 5.099 , 2.936 , 1.415 , 4.961 ],\n",
              "       [0.8657, 5.789 , 3.245 , 1.791 , 5.001 ],\n",
              "       [0.8849, 5.833 , 3.421 , 0.903 , 5.307 ],\n",
              "       [0.8641, 5.395 , 3.026 , 3.373 , 4.825 ],\n",
              "       [0.8564, 5.395 , 2.956 , 2.504 , 4.869 ],\n",
              "       [0.882 , 5.541 , 3.221 , 2.754 , 5.038 ],\n",
              "       [0.8604, 5.516 , 3.065 , 3.531 , 5.097 ],\n",
              "       [0.8662, 5.454 , 2.975 , 0.8551, 5.056 ],\n",
              "       [0.8724, 5.757 , 3.371 , 3.412 , 5.228 ],\n",
              "       [0.8529, 5.717 , 3.186 , 3.92  , 5.299 ],\n",
              "       [0.8728, 5.585 , 3.15  , 2.124 , 5.012 ],\n",
              "       [0.8779, 5.712 , 3.328 , 2.129 , 5.36  ],\n",
              "       [0.8734, 5.826 , 3.464 , 2.823 , 5.527 ],\n",
              "       [0.9079, 5.832 , 3.683 , 2.956 , 5.484 ],\n",
              "       [0.8823, 5.656 , 3.288 , 3.112 , 5.309 ],\n",
              "       [0.8944, 5.397 , 3.298 , 6.685 , 5.001 ],\n",
              "       [0.8871, 5.348 , 3.156 , 2.587 , 5.178 ],\n",
              "       [0.8852, 5.351 , 3.158 , 2.249 , 5.176 ],\n",
              "       [0.9009, 5.138 , 3.201 , 2.461 , 4.783 ],\n",
              "       [0.882 , 5.877 , 3.396 , 4.711 , 5.528 ],\n",
              "       [0.8986, 5.579 , 3.462 , 3.128 , 5.18  ],\n",
              "       [0.8794, 5.376 , 3.155 , 1.56  , 4.961 ],\n",
              "       [0.8861, 5.701 , 3.393 , 1.367 , 5.132 ],\n",
              "       [0.8883, 5.57  , 3.377 , 2.958 , 5.175 ],\n",
              "       [0.8819, 5.545 , 3.291 , 2.704 , 5.111 ],\n",
              "       [0.8676, 5.678 , 3.258 , 2.129 , 5.351 ],\n",
              "       [0.8751, 5.585 , 3.272 , 3.975 , 5.144 ],\n",
              "       [0.8923, 5.674 , 3.434 , 5.593 , 5.136 ],\n",
              "       [0.8538, 5.715 , 3.113 , 4.116 , 5.396 ],\n",
              "       [0.8831, 5.504 , 3.199 , 3.328 , 5.224 ],\n",
              "       [0.8557, 5.741 , 3.113 , 1.481 , 5.487 ],\n",
              "       [0.8658, 5.702 , 3.212 , 1.933 , 5.439 ],\n",
              "       [0.8818, 5.388 , 3.377 , 2.802 , 5.044 ],\n",
              "       [0.9006, 5.384 , 3.412 , 1.142 , 5.088 ],\n",
              "       [0.8857, 5.662 , 3.419 , 1.999 , 5.222 ],\n",
              "       [0.8392, 5.159 , 3.032 , 1.502 , 4.519 ],\n",
              "       [0.884 , 4.902 , 2.879 , 2.269 , 4.703 ],\n",
              "       [0.8923, 5.076 , 3.042 , 3.22  , 4.605 ],\n",
              "       [0.868 , 5.395 , 3.07  , 4.157 , 5.088 ],\n",
              "       [0.8716, 5.262 , 3.026 , 1.176 , 4.782 ],\n",
              "       [0.8879, 5.139 , 3.119 , 2.352 , 4.607 ],\n",
              "       [0.8726, 5.63  , 3.19  , 1.313 , 5.15  ],\n",
              "       [0.8625, 5.609 , 3.158 , 2.217 , 5.132 ],\n",
              "       [0.8458, 5.412 , 2.882 , 3.533 , 5.067 ],\n",
              "       [0.8673, 6.191 , 3.561 , 4.076 , 6.06  ],\n",
              "       [0.8623, 5.998 , 3.484 , 4.675 , 5.877 ],\n",
              "       [0.8763, 5.978 , 3.594 , 4.539 , 5.791 ],\n",
              "       [0.9081, 6.154 , 3.93  , 2.936 , 6.079 ],\n",
              "       [0.8786, 6.017 , 3.486 , 4.004 , 5.841 ],\n",
              "       [0.8638, 5.927 , 3.438 , 4.92  , 5.795 ],\n",
              "       [0.8599, 6.064 , 3.403 , 3.824 , 5.922 ],\n",
              "       [0.8763, 6.579 , 3.814 , 4.451 , 6.451 ],\n",
              "       [0.875 , 6.445 , 3.639 , 5.064 , 6.362 ],\n",
              "       [0.8892, 5.85  , 3.566 , 2.858 , 5.746 ],\n",
              "       [0.8823, 5.875 , 3.467 , 5.532 , 5.88  ],\n",
              "       [0.8977, 6.006 , 3.857 , 5.324 , 5.879 ],\n",
              "       [0.8894, 6.285 , 3.864 , 5.173 , 6.187 ],\n",
              "       [0.8779, 6.384 , 3.772 , 1.472 , 6.273 ],\n",
              "       [0.878 , 6.366 , 3.801 , 2.962 , 6.185 ],\n",
              "       [0.887 , 6.173 , 3.651 , 2.443 , 6.197 ],\n",
              "       [0.8969, 6.084 , 3.764 , 1.649 , 6.109 ],\n",
              "       [0.859 , 6.549 , 3.67  , 3.691 , 6.498 ],\n",
              "       [0.8989, 6.573 , 4.033 , 5.78  , 6.231 ],\n",
              "       [0.9031, 6.45  , 4.032 , 5.016 , 6.321 ],\n",
              "       [0.8746, 6.581 , 3.785 , 1.955 , 6.449 ],\n",
              "       [0.8984, 6.172 , 3.796 , 3.12  , 6.053 ],\n",
              "       [0.8906, 6.272 , 3.693 , 3.237 , 6.053 ],\n",
              "       [0.9066, 6.037 , 3.86  , 6.001 , 5.877 ],\n",
              "       [0.8452, 6.666 , 3.485 , 4.933 , 6.448 ],\n",
              "       [0.8648, 6.139 , 3.463 , 3.696 , 5.967 ],\n",
              "       [0.8815, 6.341 , 3.81  , 3.477 , 6.238 ],\n",
              "       [0.8687, 6.449 , 3.552 , 2.144 , 6.453 ],\n",
              "       [0.8637, 6.271 , 3.512 , 2.853 , 6.273 ],\n",
              "       [0.881 , 6.219 , 3.684 , 2.188 , 6.097 ],\n",
              "       [0.8866, 5.718 , 3.525 , 4.217 , 5.618 ],\n",
              "       [0.8992, 5.89  , 3.694 , 2.068 , 5.837 ],\n",
              "       [0.8985, 6.113 , 3.892 , 4.308 , 6.009 ],\n",
              "       [0.8717, 6.369 , 3.681 , 3.357 , 6.229 ],\n",
              "       [0.8829, 6.248 , 3.755 , 3.368 , 6.148 ],\n",
              "       [0.8917, 6.037 , 3.786 , 2.553 , 5.879 ],\n",
              "       [0.88  , 6.033 , 3.573 , 3.747 , 5.929 ],\n",
              "       [0.8752, 6.675 , 3.763 , 3.252 , 6.55  ],\n",
              "       [0.8865, 6.153 , 3.674 , 1.738 , 5.894 ],\n",
              "       [0.8921, 6.107 , 3.769 , 2.235 , 5.794 ],\n",
              "       [0.8716, 6.303 , 3.791 , 3.678 , 5.965 ],\n",
              "       [0.9035, 6.183 , 3.902 , 2.109 , 5.924 ],\n",
              "       [0.8722, 6.259 , 3.737 , 6.682 , 6.053 ],\n",
              "       [0.8859, 6.563 , 3.991 , 4.677 , 6.316 ],\n",
              "       [0.8854, 6.416 , 3.719 , 2.248 , 6.163 ],\n",
              "       [0.9077, 6.051 , 3.897 , 4.334 , 5.75  ],\n",
              "       [0.889 , 6.245 , 3.815 , 3.084 , 6.185 ],\n",
              "       [0.9008, 6.227 , 3.769 , 3.639 , 5.966 ],\n",
              "       [0.8811, 6.493 , 3.857 , 3.063 , 6.32  ],\n",
              "       [0.8897, 6.315 , 3.962 , 5.901 , 6.188 ],\n",
              "       [0.8772, 6.059 , 3.563 , 3.619 , 6.011 ],\n",
              "       [0.8588, 5.762 , 3.387 , 4.286 , 5.703 ],\n",
              "       [0.9077, 5.98  , 3.771 , 2.984 , 5.905 ],\n",
              "       [0.9064, 5.363 , 3.582 , 3.336 , 5.144 ],\n",
              "       [0.8999, 6.111 , 3.869 , 4.188 , 5.992 ],\n",
              "       [0.8698, 6.285 , 3.594 , 4.391 , 6.102 ],\n",
              "       [0.8993, 5.979 , 3.687 , 2.257 , 5.919 ],\n",
              "       [0.8735, 6.513 , 3.773 , 1.91  , 6.185 ],\n",
              "       [0.8991, 5.791 , 3.69  , 5.366 , 5.661 ],\n",
              "       [0.9108, 5.979 , 3.755 , 2.837 , 5.962 ],\n",
              "       [0.8942, 6.144 , 3.825 , 2.908 , 5.949 ],\n",
              "       [0.8706, 5.884 , 3.268 , 4.462 , 5.795 ],\n",
              "       [0.8644, 5.845 , 3.395 , 4.266 , 5.795 ],\n",
              "       [0.8823, 5.776 , 3.408 , 4.972 , 5.847 ],\n",
              "       [0.8785, 6.145 , 3.574 , 3.526 , 5.971 ],\n",
              "       [0.8527, 5.92  , 3.231 , 2.64  , 5.879 ],\n",
              "       [0.858 , 5.832 , 3.286 , 2.725 , 5.752 ],\n",
              "       [0.885 , 5.872 , 3.472 , 3.769 , 5.922 ],\n",
              "       [0.848 , 5.472 , 2.994 , 5.304 , 5.395 ],\n",
              "       [0.8613, 5.541 , 3.073 , 7.035 , 5.44  ],\n",
              "       [0.862 , 5.389 , 3.074 , 5.995 , 5.307 ],\n",
              "       [0.8652, 5.224 , 2.967 , 5.469 , 5.221 ],\n",
              "       [0.8274, 5.314 , 2.777 , 4.471 , 5.178 ],\n",
              "       [0.8167, 5.279 , 2.687 , 6.169 , 5.275 ],\n",
              "       [0.8335, 5.176 , 2.719 , 2.221 , 5.132 ],\n",
              "       [0.8658, 5.267 , 2.967 , 4.421 , 5.002 ],\n",
              "       [0.8491, 5.386 , 2.911 , 3.26  , 5.316 ],\n",
              "       [0.8107, 5.317 , 2.648 , 5.462 , 5.194 ],\n",
              "       [0.8496, 5.263 , 2.84  , 5.195 , 5.307 ],\n",
              "       [0.8249, 5.405 , 2.776 , 6.992 , 5.27  ],\n",
              "       [0.8333, 5.408 , 2.833 , 4.756 , 5.36  ],\n",
              "       [0.8266, 5.22  , 2.693 , 3.332 , 5.001 ],\n",
              "       [0.8382, 5.175 , 2.755 , 4.048 , 5.263 ],\n",
              "       [0.8253, 5.25  , 2.675 , 5.813 , 5.219 ],\n",
              "       [0.8596, 5.053 , 2.849 , 3.347 , 5.003 ],\n",
              "       [0.8081, 5.394 , 2.745 , 4.825 , 5.22  ],\n",
              "       [0.8082, 5.444 , 2.678 , 4.378 , 5.31  ],\n",
              "       [0.8263, 5.304 , 2.695 , 5.388 , 5.31  ],\n",
              "       [0.8425, 5.451 , 2.879 , 3.082 , 5.491 ],\n",
              "       [0.8503, 5.35  , 2.81  , 4.271 , 5.308 ],\n",
              "       [0.8416, 5.267 , 2.847 , 4.988 , 5.046 ],\n",
              "       [0.8558, 5.333 , 2.968 , 4.419 , 5.176 ],\n",
              "       [0.8558, 5.011 , 2.794 , 6.388 , 5.049 ],\n",
              "       [0.8793, 5.105 , 2.941 , 2.201 , 5.056 ],\n",
              "       [0.8462, 5.319 , 2.897 , 4.924 , 5.27  ],\n",
              "       [0.8443, 5.417 , 2.837 , 3.638 , 5.338 ],\n",
              "       [0.8291, 5.176 , 2.668 , 4.337 , 5.132 ],\n",
              "       [0.8455, 5.167 , 2.845 , 6.715 , 4.956 ],\n",
              "       [0.8375, 5.136 , 2.763 , 5.588 , 5.089 ],\n",
              "       [0.8099, 5.278 , 2.641 , 5.182 , 5.185 ],\n",
              "       [0.859 , 4.981 , 2.821 , 4.773 , 5.063 ],\n",
              "       [0.8355, 5.186 , 2.71  , 5.335 , 5.092 ],\n",
              "       [0.8329, 5.145 , 2.642 , 4.702 , 4.963 ],\n",
              "       [0.8473, 5.18  , 2.758 , 5.876 , 5.002 ],\n",
              "       [0.8453, 5.357 , 2.893 , 1.661 , 5.178 ],\n",
              "       [0.856 , 5.09  , 2.775 , 4.957 , 4.825 ],\n",
              "       [0.8706, 5.236 , 3.017 , 4.987 , 5.147 ],\n",
              "       [0.8579, 5.24  , 2.909 , 4.857 , 5.158 ],\n",
              "       [0.8575, 5.108 , 2.85  , 5.209 , 5.135 ],\n",
              "       [0.8541, 5.495 , 3.026 , 6.185 , 5.316 ],\n",
              "       [0.8198, 5.363 , 2.683 , 4.062 , 5.182 ],\n",
              "       [0.8198, 5.413 , 2.716 , 4.898 , 5.352 ],\n",
              "       [0.8372, 5.088 , 2.675 , 4.179 , 4.956 ],\n",
              "       [0.8594, 5.089 , 2.821 , 7.524 , 4.957 ],\n",
              "       [0.8648, 4.899 , 2.787 , 4.975 , 4.794 ],\n",
              "       [0.839 , 5.046 , 2.717 , 5.398 , 5.045 ],\n",
              "       [0.8563, 5.091 , 2.804 , 3.985 , 5.001 ],\n",
              "       [0.8795, 5.132 , 2.953 , 3.597 , 5.132 ],\n",
              "       [0.8256, 5.18  , 2.63  , 4.853 , 5.089 ],\n",
              "       [0.8639, 5.236 , 2.975 , 4.132 , 5.012 ],\n",
              "       [0.886 , 5.16  , 3.126 , 4.873 , 4.914 ],\n",
              "       [0.8786, 5.224 , 3.054 , 5.483 , 4.958 ],\n",
              "       [0.8849, 5.32  , 3.128 , 4.67  , 5.091 ],\n",
              "       [0.8481, 5.41  , 2.911 , 3.306 , 5.231 ],\n",
              "       [0.8964, 5.073 , 3.155 , 2.828 , 4.83  ],\n",
              "       [0.8609, 5.219 , 2.989 , 5.472 , 5.045 ],\n",
              "       [0.868 , 5.009 , 2.81  , 4.051 , 4.828 ],\n",
              "       [0.8567, 5.204 , 2.96  , 3.919 , 5.001 ],\n",
              "       [0.8783, 5.137 , 2.981 , 3.631 , 4.87  ],\n",
              "       [0.8511, 5.14  , 2.795 , 4.325 , 5.003 ],\n",
              "       [0.8883, 5.236 , 3.232 , 8.315 , 5.056 ],\n",
              "       [0.8521, 5.175 , 2.836 , 3.598 , 5.044 ],\n",
              "       [0.8684, 5.243 , 2.974 , 5.637 , 5.063 ]])"
            ]
          },
          "metadata": {},
          "execution_count": 676
        }
      ]
    },
    {
      "cell_type": "markdown",
      "source": [
        "Split the samples into training (80%) and testing (20%) arrays **(P2-2: 5 points)**"
      ],
      "metadata": {
        "id": "WAbTVPmsc_NZ"
      }
    },
    {
      "cell_type": "code",
      "source": [
        "x_train, x_test, y_train, y_test = train_test_split(x, y, test_size=0.2, random_state=1)"
      ],
      "metadata": {
        "execution": {
          "iopub.status.busy": "2023-05-24T06:55:50.649173Z",
          "iopub.execute_input": "2023-05-24T06:55:50.649684Z",
          "iopub.status.idle": "2023-05-24T06:55:50.657736Z",
          "shell.execute_reply.started": "2023-05-24T06:55:50.649644Z",
          "shell.execute_reply": "2023-05-24T06:55:50.656442Z"
        },
        "trusted": true,
        "id": "tuVoQeG5UmDK"
      },
      "execution_count": 677,
      "outputs": []
    },
    {
      "cell_type": "markdown",
      "source": [
        "## P3: Decision Tree Implementation"
      ],
      "metadata": {
        "id": "vK8uumlAUmDL"
      }
    },
    {
      "cell_type": "markdown",
      "source": [
        "Implement desicion tree for classification from scratch **(P3-1: 20 points)**"
      ],
      "metadata": {
        "id": "cjUlsiCYdd69"
      }
    },
    {
      "cell_type": "code",
      "source": [
        "class DecisionTree:\n",
        "\n",
        "    def __init__(self, criterion=\"entropy\", max_depth=None):\n",
        "      \"\"\"\n",
        "      Parameters:\n",
        "      \n",
        "      criterion -- “gini” for the Gini impurity and “entropy” for the Information Gain. (default “entropy”)\n",
        "      max_depth -- The maximum depth of the tree. If None, then nodes are expanded until all leaves are pure. (default=None)\n",
        "      \"\"\"\n",
        "      \n",
        "      self.criterion = criterion\n",
        "      self.max_depth = max_depth\n",
        "      self.tree = {}\n",
        "\n",
        "    def fit(self, X, y, w=None):\n",
        "      \"\"\"\n",
        "      Build a decision tree classifier from the training set (X, y).\n",
        "\n",
        "      Returns:\n",
        "      self : Fitted estimator\n",
        "      \"\"\"\n",
        "\n",
        "      X = np.array(X)\n",
        "      y = np.array(y)\n",
        "      if w is None:\n",
        "          w = np.ones(len(y))\n",
        "      self.tree = self._build_tree(X, y, w, depth=0)\n",
        "      \n",
        "      return self\n",
        "\n",
        "    def predict(self, X):\n",
        "      \"\"\"\n",
        "      Predict class value for X.\n",
        "\n",
        "      Returns:\n",
        "      y : The predicted classes\n",
        "      \"\"\"\n",
        "      \n",
        "      X = np.array(X)\n",
        "      y = [self._traverse_tree(x, self.tree) for x in X]\n",
        "      \n",
        "      return y\n",
        "\n",
        "    def _build_tree(self, X, y, w, depth):\n",
        "\n",
        "      n_samples, n_features = X.shape\n",
        " \n",
        "      if (len(np.unique(y)) == 1 or depth == self.max_depth) and len(y) > 0:\n",
        "          return {\"label\": np.bincount(y).argmax()}\n",
        "      feature_index, threshold = self._best_split(X, y, w)\n",
        "      \n",
        "      left_mask = X[:, feature_index] < threshold\n",
        "      right_mask = ~left_mask\n",
        "      \n",
        "      X_left = X[left_mask]\n",
        "      y_left = y[left_mask]\n",
        "      w_left = w[left_mask]\n",
        "      \n",
        "      X_right = X[right_mask]\n",
        "      y_right = y[right_mask]\n",
        "      w_right = w[right_mask]\n",
        "      \n",
        "      node = {\"feature_index\": feature_index,\n",
        "              \"threshold\": threshold,\n",
        "              \"left\": None,\n",
        "              \"right\": None}\n",
        "      \n",
        "      node[\"left\"] = self._build_tree(X_left, y_left, w_left, depth + 1)\n",
        "      node[\"right\"] = self._build_tree(X_right, y_right, w_right, depth + 1)\n",
        "      \n",
        "      return node\n",
        "\n",
        "    def _traverse_tree(self, x, node):\n",
        "      \n",
        "      if \"label\" in node:\n",
        "          return node[\"label\"]\n",
        "\n",
        "      feature_index = node[\"feature_index\"]\n",
        "      threshold = node[\"threshold\"]\n",
        "\n",
        "      if x[feature_index] < threshold:\n",
        "          return self._traverse_tree(x, node[\"left\"])\n",
        "      else:\n",
        "          return self._traverse_tree(x, node[\"right\"])\n",
        "\n",
        "    def _best_split(self, X, y, w):\n",
        "\n",
        "        n_samples, n_features = X.shape\n",
        "        \n",
        "        best_feature = 0\n",
        "        best_threshold = 0\n",
        "        best_info_gain = 0\n",
        "\n",
        "        for feature in range(n_features):\n",
        "            values = np.unique(X[:, feature])\n",
        "            \n",
        "            for threshold in values:\n",
        "                left_mask = X[:, feature] < threshold\n",
        "                right_mask = ~left_mask\n",
        "                \n",
        "                y_left = y[left_mask]\n",
        "                y_right = y[right_mask]\n",
        "\n",
        "                w_left = w[left_mask]\n",
        "                w_right = w[right_mask]\n",
        "                \n",
        "                info_gain = self._information_gain(y, y_left, y_right, w, w_left, w_right)\n",
        "                \n",
        "                if info_gain > best_info_gain:\n",
        "                    best_feature = feature\n",
        "                    best_threshold = threshold\n",
        "                    best_info_gain = info_gain\n",
        "        \n",
        "        return best_feature, best_threshold\n",
        "\n",
        "    def _information_gain(self, y, y1, y2, w, w_left, w_right):\n",
        "        \n",
        "        n = len(y)\n",
        "        n1 = len(y1)\n",
        "        n2 = len(y2)\n",
        "        i, i1, i2 = 0, 0, 0\n",
        "\n",
        "        if self.criterion == 'gini':\n",
        "            i1 = self._gini(y1, w_left)\n",
        "            i2 = self._gini(y2, w_right)\n",
        "            i = self._gini(y, w)\n",
        "        elif self.criterion == 'entropy':\n",
        "            i1 = self._entropy(y1, w_left)\n",
        "            i2 = self._entropy(y2, w_right)\n",
        "            i = self._entropy(y, w)\n",
        "\n",
        "        ig = i - (n1/n) * i1 - (n2/n) * i2\n",
        "\n",
        "        return ig\n",
        "\n",
        "    def _entropy(self, y, w):\n",
        "\n",
        "      n = np.sum(w)\n",
        "      classes = np.unique(y)\n",
        "      entropy = 0\n",
        "      for c in classes:\n",
        "       p = np.sum(w[y == c]) / n\n",
        "       entropy -= p * np.log(p)\n",
        "   \n",
        "      return entropy\n",
        "\n",
        "    def _gini(self, y, w): \n",
        "\n",
        "      n = np.sum(w)\n",
        "      classes = np.unique(y)\n",
        "      gini = 0\n",
        "      for c in classes:\n",
        "          p = np.sum(w[y == c]) / n\n",
        "          gini += p * (1 - p)\n",
        "      \n",
        "      return gini"
      ],
      "metadata": {
        "id": "CxDf99Iz_4nD"
      },
      "execution_count": 678,
      "outputs": []
    },
    {
      "cell_type": "markdown",
      "source": [
        "Define two decision trees with two different criteria **(P3-2: 3 points)**"
      ],
      "metadata": {
        "id": "0zZRBqIwdjfX"
      }
    },
    {
      "cell_type": "code",
      "source": [
        "dt_entropy = DecisionTree('entropy')\n",
        "dt_gini = DecisionTree('gini')"
      ],
      "metadata": {
        "id": "48Gvh2AvUmDM"
      },
      "execution_count": 679,
      "outputs": []
    },
    {
      "cell_type": "markdown",
      "source": [
        "Fit the defined decision trees on training samples **(P3-3: 2 points)**"
      ],
      "metadata": {
        "id": "yP1tHIzsdvdf"
      }
    },
    {
      "cell_type": "code",
      "source": [
        "dt_entropy.fit(x_train, y_train)\n",
        "dt_gini.fit(x_train, y_train)"
      ],
      "metadata": {
        "id": "hYINieZEUmDM",
        "colab": {
          "base_uri": "https://localhost:8080/"
        },
        "outputId": "bb1ce142-ecd5-480e-9fae-437e3a8f8745"
      },
      "execution_count": 680,
      "outputs": [
        {
          "output_type": "execute_result",
          "data": {
            "text/plain": [
              "<__main__.DecisionTree at 0x7f708cea2680>"
            ]
          },
          "metadata": {},
          "execution_count": 680
        }
      ]
    },
    {
      "cell_type": "markdown",
      "source": [
        "Get the results on the test set **(P3-4: 5 points)**"
      ],
      "metadata": {
        "id": "8OFAB5DZdz7s"
      }
    },
    {
      "cell_type": "code",
      "source": [
        "y_pred_dt_entropy = dt_entropy.predict(x_test)\n",
        "y_pred_dt_gini = dt_gini.predict(x_test)"
      ],
      "metadata": {
        "id": "4PSIJEkmUmDM"
      },
      "execution_count": 681,
      "outputs": []
    },
    {
      "cell_type": "code",
      "source": [
        "def accuracy_score(y_true, y_pred):\n",
        "  correct = (y_pred == y_true)\n",
        "  n_correct = correct.sum()\n",
        "  accuracy = n_correct / len(y_true) * 100\n",
        "  return accuracy"
      ],
      "metadata": {
        "id": "lHbwO-oVOZok"
      },
      "execution_count": 682,
      "outputs": []
    },
    {
      "cell_type": "code",
      "source": [
        "print(f'Decision Tree with entrpy criterion accuracy score: {accuracy_score(y_pred_dt_entropy, y_test)}')\n",
        "print(f'Decision Tree with gini criterion accuracy score: {accuracy_score(y_pred_dt_gini, y_test)}')"
      ],
      "metadata": {
        "colab": {
          "base_uri": "https://localhost:8080/"
        },
        "id": "8KlLDia_ML1u",
        "outputId": "81f11fa3-0579-4366-8d0f-84da307d40f5"
      },
      "execution_count": 683,
      "outputs": [
        {
          "output_type": "stream",
          "name": "stdout",
          "text": [
            "Decision Tree with entrpy criterion accuracy score: 87.5\n",
            "Decision Tree with gini criterion accuracy score: 90.0\n"
          ]
        }
      ]
    },
    {
      "cell_type": "markdown",
      "source": [
        "Train the decision trees, considering the values [1,2,3,4,5] as the maximum depth **(P3-5: 5 points)**"
      ],
      "metadata": {
        "id": "4fVMCCuMd6uC"
      }
    },
    {
      "cell_type": "code",
      "source": [
        "entropy_dts = [DecisionTree('entropy', i + 1) for i in range(5)]\n",
        "gini_dts = [DecisionTree('gini', i + 1) for i in range(5)]\n",
        "for i in range(5):\n",
        "  entropy_dts[i].fit(x_train, y_train)\n",
        "  gini_dts[i].fit(x_train, y_train)"
      ],
      "metadata": {
        "id": "W6iKq_N6UmDM"
      },
      "execution_count": 684,
      "outputs": []
    },
    {
      "cell_type": "markdown",
      "source": [
        "Compare the accuracy score of the decision trees with and without using the \"max_depth\" parameter and discuss the effects of limiting the maximum depth of decision trees. **(P3-6: 5 points)**"
      ],
      "metadata": {
        "id": "RzSv_Rb5eR6M"
      }
    },
    {
      "cell_type": "code",
      "source": [
        "entropy_y_preds = [entropy_dts[i].predict(x_test) for i in range(5)]\n",
        "entropy_y_preds.append(y_pred_dt_entropy)\n",
        "gini_y_preds = [gini_dts[i].predict(x_test) for i in range(5)]\n",
        "gini_y_preds.append(y_pred_dt_gini)"
      ],
      "metadata": {
        "id": "En2_faEpV7wp"
      },
      "execution_count": 685,
      "outputs": []
    },
    {
      "cell_type": "code",
      "source": [
        "entropy_accuracies = [accuracy_score(entropy_y_pred, y_test) for entropy_y_pred in entropy_y_preds]\n",
        "gini_accuracies = [accuracy_score(gini_y_pred, y_test) for gini_y_pred in gini_y_preds]"
      ],
      "metadata": {
        "id": "JTHQlVewV_X0"
      },
      "execution_count": 686,
      "outputs": []
    },
    {
      "cell_type": "code",
      "source": [
        "for i in range(5):\n",
        "  print(f'Decision Tree with entropy criterion and {i + 1} max depth accuracy score: {entropy_accuracies[i]}' )\n",
        "print(f'Decision Tree with entropy criterion and no max depth accuracy score: {entropy_accuracies[5]}')\n",
        "print('-----------------------------------')\n",
        "for i in range(5):\n",
        "  print(f'Decision Tree with gini criterion and {i + 1} max depth accuracy score: {gini_accuracies[i]}' )\n",
        "print(f'Decision Tree with gini criterion and no max depth accuracy score: {gini_accuracies[5]}')"
      ],
      "metadata": {
        "id": "Si-JEqhsUmDN",
        "colab": {
          "base_uri": "https://localhost:8080/"
        },
        "outputId": "cec0d8c2-af10-4c7e-ee52-afc807a19466"
      },
      "execution_count": 687,
      "outputs": [
        {
          "output_type": "stream",
          "name": "stdout",
          "text": [
            "Decision Tree with entropy criterion and 1 max depth accuracy score: 55.00000000000001\n",
            "Decision Tree with entropy criterion and 2 max depth accuracy score: 90.0\n",
            "Decision Tree with entropy criterion and 3 max depth accuracy score: 95.0\n",
            "Decision Tree with entropy criterion and 4 max depth accuracy score: 90.0\n",
            "Decision Tree with entropy criterion and 5 max depth accuracy score: 87.5\n",
            "Decision Tree with entropy criterion and no max depth accuracy score: 87.5\n",
            "-----------------------------------\n",
            "Decision Tree with gini criterion and 1 max depth accuracy score: 55.00000000000001\n",
            "Decision Tree with gini criterion and 2 max depth accuracy score: 90.0\n",
            "Decision Tree with gini criterion and 3 max depth accuracy score: 97.5\n",
            "Decision Tree with gini criterion and 4 max depth accuracy score: 92.5\n",
            "Decision Tree with gini criterion and 5 max depth accuracy score: 90.0\n",
            "Decision Tree with gini criterion and no max depth accuracy score: 90.0\n"
          ]
        }
      ]
    },
    {
      "cell_type": "code",
      "source": [
        "max_depths = [f'{i+1}' for i in range(5)]\n",
        "max_depths.append('None')\n",
        "plt.figure(figsize=(10,10))\n",
        "plt.plot(max_depths, entropy_accuracies, label='Entropy Decision Tree', color='purple')\n",
        "plt.plot(max_depths, gini_accuracies, label='Gini Decision Tree', color='green')\n",
        "plt.xlabel('Max Depth')\n",
        "plt.ylabel('Accuracy Score')\n",
        "plt.legend()\n",
        "plt.show()"
      ],
      "metadata": {
        "colab": {
          "base_uri": "https://localhost:8080/",
          "height": 639
        },
        "id": "7voONgE8U1cg",
        "outputId": "fc645f58-2e63-48a8-c4f2-3021677f939d"
      },
      "execution_count": 688,
      "outputs": [
        {
          "output_type": "display_data",
          "data": {
            "text/plain": [
              "<Figure size 1000x1000 with 1 Axes>"
            ],
            "image/png": "[encoded data removed]"
          },
          "metadata": {}
        }
      ]
    },
    {
      "cell_type": "markdown",
      "source": [
        "As we can see, for a very low max_depth like 1, the tree can't split the data completely which leads to underfitting and weak accuracy score. By increasing the max_depth, the models get more complex which leads to less train error and prevent underfitting, but also increase the chance of overfitting, as it can be seen from the results, with more than 3 max_depth the accuracies fall for both decision trees with entropy and gini which means it's overfitting. And we can see that the accuracy of max_depth=5 for both trees are equal to trees with no limit on max_depth because we only have 5 features to split the data using branches of trees."
      ],
      "metadata": {
        "id": "zrAg2Vp4Sc0V"
      }
    },
    {
      "cell_type": "markdown",
      "source": [
        "## P4: Ensemble Models"
      ],
      "metadata": {
        "id": "FDJ3KWH2UmDN"
      }
    },
    {
      "cell_type": "markdown",
      "source": [
        "### P4-1: Bagging"
      ],
      "metadata": {
        "id": "CoVu14uOUmDN"
      }
    },
    {
      "cell_type": "markdown",
      "source": [
        "Implement the bagging algorithm for classification from scratch **(P4-1-1: 15 points)**"
      ],
      "metadata": {
        "id": "QSFF3YN2exyE"
      }
    },
    {
      "cell_type": "code",
      "source": [
        "class BaggingDecisionTree:\n",
        "     \n",
        "    def __init__(self, bootstraped_training_num=50, predictors_num=50):\n",
        "        \"\"\"\n",
        "        Parameters:\n",
        "        \n",
        "        bootstraped_training_num -- The number of training sets we are gonna have\n",
        "        predictors_num -- The number of predictors we want to use for each test sample\n",
        "        \"\"\"\n",
        "\n",
        "        self.bootstraped_training_num = bootstraped_training_num\n",
        "        self.predictors_num = predictors_num\n",
        "        self.classifiers = []\n",
        "    \n",
        "    def fit(self, X, y):\n",
        "        \"\"\"\n",
        "        Create `self.bootstraped_training_num` training sets by random sampling of the input training elements with replacement.\n",
        "        Then create the same number of classifiers and fit each classifier on the corresponding training set.\n",
        "        \n",
        "        Paramters:\n",
        "        X : training features array\n",
        "        y : target array\n",
        "        \n",
        "        Returns:\n",
        "        self : Fitted estimator\n",
        "        \"\"\"\n",
        "\n",
        "        n_samples = X.shape[0]\n",
        "        for i in range(self.bootstraped_training_num):\n",
        "            indices = np.random.choice(n_samples, size=n_samples, replace=True)\n",
        "            X_boot = X[indices]\n",
        "            y_boot = y[indices]\n",
        "            clf = DecisionTree()\n",
        "            clf.fit(X_boot, y_boot)\n",
        "            self.classifiers.append(clf)\n",
        "        \n",
        "        return self\n",
        "    \n",
        "    def predict(self, X):\n",
        "        \"\"\"\n",
        "        Predict class value for X using mavority voting of `self.predictors_num` classifiers.\n",
        "\n",
        "        Paramters:\n",
        "        X : training features array\n",
        "        \n",
        "        Returns:\n",
        "        y : The predicted classes\n",
        "        \"\"\"\n",
        "        y = []\n",
        "        n_samples = X.shape[0]\n",
        "        for i in range(n_samples):\n",
        "            x = np.array([X[i], np.zeros(5)])\n",
        "            predictors = np.random.choice(self.classifiers, size=self.predictors_num, replace=False)\n",
        "            predictions = [predictor.predict(x)[0] for predictor in predictors]\n",
        "            y.append(np.bincount(predictions).argmax())\n",
        "        \n",
        "        return y"
      ],
      "metadata": {
        "id": "Fftoht45UmDN"
      },
      "execution_count": 689,
      "outputs": []
    },
    {
      "cell_type": "markdown",
      "source": [
        "Create an instance of the BaggingDecisionTree class with `bootstraped_training_num=50`, `predictors_num=50` and fit it on the training data **(P4-1-2: 3 points)**"
      ],
      "metadata": {
        "id": "2g__7Wppe-8x"
      }
    },
    {
      "cell_type": "code",
      "source": [
        "bdt1 = BaggingDecisionTree(50, 50)\n",
        "bdt1.fit(x_train, y_train)"
      ],
      "metadata": {
        "execution": {
          "iopub.status.busy": "2023-05-24T07:37:02.732776Z",
          "iopub.execute_input": "2023-05-24T07:37:02.733345Z",
          "iopub.status.idle": "2023-05-24T07:37:02.755458Z",
          "shell.execute_reply.started": "2023-05-24T07:37:02.733301Z",
          "shell.execute_reply": "2023-05-24T07:37:02.754110Z"
        },
        "trusted": true,
        "id": "0DO4IpI8UmDO",
        "colab": {
          "base_uri": "https://localhost:8080/"
        },
        "outputId": "79f7e68b-4e89-4b89-9de8-fd4b3675f6b5"
      },
      "execution_count": 713,
      "outputs": [
        {
          "output_type": "execute_result",
          "data": {
            "text/plain": [
              "<__main__.BaggingDecisionTree at 0x7f708d125b10>"
            ]
          },
          "metadata": {},
          "execution_count": 713
        }
      ]
    },
    {
      "cell_type": "markdown",
      "source": [
        "Create another instance of the BaggingDecisionTree class with `bootstraped_training_num=50`, `predictors_num=7` and fit it on the training data **(P4-1-3: 2 points)**"
      ],
      "metadata": {
        "id": "C3P5M4QtfOn4"
      }
    },
    {
      "cell_type": "code",
      "source": [
        "bdt2 = BaggingDecisionTree(50, 7)\n",
        "bdt2.fit(x_train, y_train)"
      ],
      "metadata": {
        "id": "aovAzNhPUmDO",
        "colab": {
          "base_uri": "https://localhost:8080/"
        },
        "outputId": "dcc95151-6df9-45a7-c7b4-962b4d0019b6"
      },
      "execution_count": 717,
      "outputs": [
        {
          "output_type": "execute_result",
          "data": {
            "text/plain": [
              "<__main__.BaggingDecisionTree at 0x7f708d1271f0>"
            ]
          },
          "metadata": {},
          "execution_count": 717
        }
      ]
    },
    {
      "cell_type": "markdown",
      "source": [
        "Test the created models on the test set. Discuss differences of two approaches we adopted. **(P4-1-4: 5 points)**"
      ],
      "metadata": {
        "id": "wbncvgGBoiHF"
      }
    },
    {
      "cell_type": "code",
      "source": [
        "y_pred_bdt1 = bdt1.predict(x_test)\n",
        "y_pred_bdt2 = bdt2.predict(x_test)"
      ],
      "metadata": {
        "id": "b-CpVV8rih1N"
      },
      "execution_count": 718,
      "outputs": []
    },
    {
      "cell_type": "code",
      "source": [
        "print(f'BDT with 50 trainig num and 50 predictors num accuracy: {accuracy_score(y_pred_bdt1, y_test)}')\n",
        "print(f'BDT with 50 trainig num and 7 predictors num accuracy: {accuracy_score(y_pred_bdt2, y_test)}')"
      ],
      "metadata": {
        "id": "4R7mpMH3oqnM",
        "colab": {
          "base_uri": "https://localhost:8080/"
        },
        "outputId": "5b24cc48-b766-4616-e4a7-23bb586934f9"
      },
      "execution_count": 719,
      "outputs": [
        {
          "output_type": "stream",
          "name": "stdout",
          "text": [
            "BDT with 50 trainig num and 50 predictors num accuracy: 95.0\n",
            "BDT with 50 trainig num and 7 predictors num accuracy: 90.0\n"
          ]
        }
      ]
    },
    {
      "cell_type": "markdown",
      "source": [
        "As we discussed in the last part, the Decision tree without any max_depth will overfit on the trainig data which leads to low accuracy. By bagging we try to lower the variance making different trees and prevent overfitting doing so. As it can be seen, the results improved considerebly compare to entropy decision tree with no max_depth limit. And we can see that the accuracy of using more predictors is higher as it's trying harder to prevent overfitting."
      ],
      "metadata": {
        "id": "zcZMFsvq0cJA"
      }
    },
    {
      "cell_type": "markdown",
      "source": [
        "### P4-2: Boosting"
      ],
      "metadata": {
        "id": "oZDz7B3DUmDO"
      }
    },
    {
      "cell_type": "markdown",
      "source": [
        "Implement the Adaboost algorithm for classification from scratch **(P4-2-1: 10 points)**"
      ],
      "metadata": {
        "id": "rJhWmus3pDHI"
      }
    },
    {
      "cell_type": "code",
      "source": [
        "class AdaBoost:\n",
        "     \n",
        "    def __init__(self, weak_classifiers_count=50, decision_tree=DecisionTreeClassifier):\n",
        "        \"\"\"\n",
        "        Parameters:\n",
        "        weak_classifiers_count -- The number of weak classifiers we are gonna have\n",
        "        \"\"\"\n",
        "        self.weak_classifiers_count = weak_classifiers_count\n",
        "        self.weak_classifiers = []\n",
        "        self.weak_weights = []\n",
        "        self.dt = decision_tree\n",
        "        self.n_classes = 0\n",
        "    \n",
        "    def fit(self, X, y):\n",
        "        \"\"\"\n",
        "        Fit the Adaboost on training data. take DecisionTree with max_depth of 1 as your weak classifier.\n",
        "        \n",
        "        Paramters:\n",
        "        X : training features array\n",
        "        y : target array\n",
        "        \n",
        "        Returns:\n",
        "        self : Fitted estimator\n",
        "        \n",
        "        \"\"\"\n",
        "        n_samples, n_features = X.shape\n",
        "        self.n_classes = len(np.unique(y))\n",
        "        sample_weights = np.ones(n_samples) / n_samples\n",
        "        for i in range(self.weak_classifiers_count):\n",
        "            weak_classifier = self.dt(max_depth=1)\n",
        "            weak_classifier.fit(X, y, sample_weights)\n",
        "            y_pred = weak_classifier.predict(X)\n",
        "            error_rate = np.sum(sample_weights[y != y_pred]) / np.sum(sample_weights)\n",
        "            weak_weight = np.log((1 - error_rate) / error_rate)\n",
        "            sample_weights *= np.exp(weak_weight * (y != y_pred))\n",
        "            sample_weights /= np.sum(sample_weights)\n",
        "            self.weak_classifiers.append(weak_classifier)\n",
        "            self.weak_weights.append(weak_weight)\n",
        "        \n",
        "        return self\n",
        "    \n",
        "    def predict(self, X):\n",
        "        \"\"\"\n",
        "        Predict class value for X using mavority voting of `self.predictors_num` classifiers.\n",
        "\n",
        "        Paramters:\n",
        "        X : training features array\n",
        "        \n",
        "        Returns:\n",
        "        y : The predicted classes\n",
        "        \"\"\"\n",
        "        y = []\n",
        "        for x in X:\n",
        "            classes_votes = [0 for _ in range(self.n_classes)]\n",
        "            for weak_classifier, weak_weight in zip(self.weak_classifiers, self.weak_weights):\n",
        "                classes_votes[weak_classifier.predict([x])[0] - 1] += weak_weight\n",
        "            y.append(np.argmax(classes_votes) + 1)\n",
        "        \n",
        "        return y"
      ],
      "metadata": {
        "id": "3xkDqLJVUmDO"
      },
      "execution_count": 700,
      "outputs": []
    },
    {
      "cell_type": "markdown",
      "source": [
        "Create an instance of Adaboost and fit it to the data **(P4-2-2: 2 points)**"
      ],
      "metadata": {
        "id": "kADfP8A-rvJ-"
      }
    },
    {
      "cell_type": "code",
      "source": [
        "ab1 = AdaBoost()\n",
        "ab2 = AdaBoost(decision_tree=DecisionTree)\n",
        "ab1.fit(x_train, y_train)\n",
        "ab2.fit(x_train, y_train)"
      ],
      "metadata": {
        "id": "o4EcOGGoUmDO",
        "colab": {
          "base_uri": "https://localhost:8080/"
        },
        "outputId": "3be09588-6456-4a03-f4ef-2dc5f16b858d"
      },
      "execution_count": 705,
      "outputs": [
        {
          "output_type": "execute_result",
          "data": {
            "text/plain": [
              "<__main__.AdaBoost at 0x7f708d125ea0>"
            ]
          },
          "metadata": {},
          "execution_count": 705
        }
      ]
    },
    {
      "cell_type": "markdown",
      "source": [
        "Test Adaboost on the testing set **(P4-2-3: 3 points)**"
      ],
      "metadata": {
        "id": "DUDo-Q2Or5Eu"
      }
    },
    {
      "cell_type": "code",
      "source": [
        "y_pred_ab_1 = ab1.predict(x_test)\n",
        "y_pred_ab_2 = ab2.predict(x_test)"
      ],
      "metadata": {
        "id": "dTR2tg0r341g"
      },
      "execution_count": 706,
      "outputs": []
    },
    {
      "cell_type": "code",
      "source": [
        "accuracy_score(y_pred_ab_2, y_test)"
      ],
      "metadata": {
        "colab": {
          "base_uri": "https://localhost:8080/"
        },
        "id": "dUYuWQz3bchH",
        "outputId": "f7eba5ee-bf56-41df-ca61-aa547680cdbf"
      },
      "execution_count": 707,
      "outputs": [
        {
          "output_type": "execute_result",
          "data": {
            "text/plain": [
              "55.00000000000001"
            ]
          },
          "metadata": {},
          "execution_count": 707
        }
      ]
    },
    {
      "cell_type": "code",
      "source": [
        "accuracy_score(y_pred_ab_1, y_test)"
      ],
      "metadata": {
        "id": "WdRVUc4MUmDP",
        "colab": {
          "base_uri": "https://localhost:8080/"
        },
        "outputId": "26f6ec11-1473-46e2-bc91-717749bc4e3a"
      },
      "execution_count": 708,
      "outputs": [
        {
          "output_type": "execute_result",
          "data": {
            "text/plain": [
              "92.5"
            ]
          },
          "metadata": {},
          "execution_count": 708
        }
      ]
    }
  ]
}