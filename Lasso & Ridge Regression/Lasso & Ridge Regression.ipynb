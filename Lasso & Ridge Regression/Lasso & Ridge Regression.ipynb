{
  "metadata": {
    "kernelspec": {
      "language": "python",
      "display_name": "Python 3",
      "name": "python3"
    },
    "language_info": {
      "name": "python",
      "version": "3.7.12",
      "mimetype": "text/x-python",
      "codemirror_mode": {
        "name": "ipython",
        "version": 3
      },
      "pygments_lexer": "ipython3",
      "nbconvert_exporter": "python",
      "file_extension": ".py"
    },
    "colab": {
      "provenance": []
    }
  },
  "nbformat_minor": 0,
  "nbformat": 4,
  "cells": [
    {
      "cell_type": "markdown",
      "metadata": {
        "id": "b07eb33c"
      },
      "source": [
        "<div>\n",
        "<img src='http://www-scf.usc.edu/~ghasemig/images/sharif.png' alt=\"SUT logo\" width=220 height=220 align=left class=\"saturate\">\n",
        "\n",
        "<br>\n",
        "<font face=\"Times New Roman\">\n",
        "<div dir=ltr align=center> \n",
        "<!-- <font color=0F5298 size=7> -->\n",
        "<font color=0F5298 size=6>\n",
        "    Introduction to Machine Learning <br> <br>\n",
        "<!-- <font color=2565AE size=5> -->\n",
        "<font size=5>\n",
        "    Computer Engineering Department <br>\n",
        "    Spring 2023 <br> <br>\n",
        "<font color=606060 size=5>\n",
        "    Homework 5: Practical - Lasso & Ridge Regression <br> <br>\n",
        "<font color=686880 size=4>\n",
        "    TAs: Alireza Dehghanpour - Arman Malekzadeh - Ali Salesi\n",
        "    \n",
        "____"
      ]
    },
    {
      "cell_type": "markdown",
      "metadata": {
        "id": "f5a79508"
      },
      "source": [
        "### Full Name : Mehdi Lotfian\n",
        "### Student Number : 99105689\n",
        "### Colab Link: https://colab.research.google.com/drive/1ehxjkTWBmeE5zxsuYrugpD3fgKzpHPFG?usp=sharing\n",
        "___"
      ]
    },
    {
      "cell_type": "markdown",
      "source": [
        "The Global Health Observatory (GHO) data repository under World Health Organization (WHO) keeps track of the health status as well as many other related factors for all countries. The datasets are made available to public for the purpose of health data analysis. The dataset related to life expectancy, health factors for 193 countries has been collected from the same WHO data repository website and its corresponding economic data was collected from United Nation website. Among all categories of health-related factors only those critical factors were chosen which are more representative.\n",
        "\n",
        "In this assignment you have to predict **life expectancy**."
      ],
      "metadata": {
        "id": "5sy39_vXU_PO"
      }
    },
    {
      "cell_type": "code",
      "source": [
        "import numpy as np\n",
        "import pandas as pd\n",
        "from sklearn.model_selection import train_test_split\n",
        "from sklearn import linear_model\n",
        "from sklearn.metrics import mean_squared_error\n",
        "from sklearn.linear_model import Ridge, Lasso\n",
        "from sklearn.model_selection import GridSearchCV\n",
        "from sklearn import preprocessing"
      ],
      "metadata": {
        "execution": {
          "iopub.status.busy": "2023-04-30T08:33:27.082403Z",
          "iopub.execute_input": "2023-04-30T08:33:27.082868Z",
          "iopub.status.idle": "2023-04-30T08:33:27.089987Z",
          "shell.execute_reply.started": "2023-04-30T08:33:27.082829Z",
          "shell.execute_reply": "2023-04-30T08:33:27.088672Z"
        },
        "trusted": true,
        "id": "bBUrdXrVU_PO"
      },
      "execution_count": 1,
      "outputs": []
    },
    {
      "cell_type": "markdown",
      "source": [
        "# Data Exploration (20 points)"
      ],
      "metadata": {
        "id": "5sEpKmvvU_PP"
      }
    },
    {
      "cell_type": "code",
      "source": [
        "!wget -O /content/dataset.csv \"https://www.dropbox.com/s/2kz21qjt40pjy43/train.csv?dl=1\""
      ],
      "metadata": {
        "id": "GJCBJo5XjWUq",
        "colab": {
          "base_uri": "https://localhost:8080/"
        },
        "outputId": "160e014b-ce03-4fb8-bf1c-84e37de25776"
      },
      "execution_count": 2,
      "outputs": [
        {
          "output_type": "stream",
          "name": "stdout",
          "text": [
            "--2023-05-13 19:19:14--  https://www.dropbox.com/s/2kz21qjt40pjy43/train.csv?dl=1\n",
            "Resolving www.dropbox.com (www.dropbox.com)... 162.125.4.18, 2620:100:6019:18::a27d:412\n",
            "Connecting to www.dropbox.com (www.dropbox.com)|162.125.4.18|:443... connected.\n",
            "HTTP request sent, awaiting response... 302 Found\n",
            "Location: /s/dl/2kz21qjt40pjy43/train.csv [following]\n",
            "--2023-05-13 19:19:14--  https://www.dropbox.com/s/dl/2kz21qjt40pjy43/train.csv\n",
            "Reusing existing connection to www.dropbox.com:443.\n",
            "HTTP request sent, awaiting response... 302 Found\n",
            "Location: https://uc0c7a6fca4b408bb04bb37f32a0.dl.dropboxusercontent.com/cd/0/get/B7_rGIoG6nD5fc5644yZoXvfWTBx2N7Eqm-KFNSFSMDj7vS8YIYuDt3ZOhSsMCA14FrcKxkDvATsPZIWbE99GinOrAGI63l8xQQ957fCC_wViNrgXdd2nb2_Md63w2RrYNFb-Vo-7yXTfKNBvnITCn4hUSWMd_YgZb-5MQQpWI8gY9IRj0-5xl1emWbnpaI7pi8/file?dl=1# [following]\n",
            "--2023-05-13 19:19:14--  https://uc0c7a6fca4b408bb04bb37f32a0.dl.dropboxusercontent.com/cd/0/get/B7_rGIoG6nD5fc5644yZoXvfWTBx2N7Eqm-KFNSFSMDj7vS8YIYuDt3ZOhSsMCA14FrcKxkDvATsPZIWbE99GinOrAGI63l8xQQ957fCC_wViNrgXdd2nb2_Md63w2RrYNFb-Vo-7yXTfKNBvnITCn4hUSWMd_YgZb-5MQQpWI8gY9IRj0-5xl1emWbnpaI7pi8/file?dl=1\n",
            "Resolving uc0c7a6fca4b408bb04bb37f32a0.dl.dropboxusercontent.com (uc0c7a6fca4b408bb04bb37f32a0.dl.dropboxusercontent.com)... 162.125.6.15, 2620:100:601c:15::a27d:60f\n",
            "Connecting to uc0c7a6fca4b408bb04bb37f32a0.dl.dropboxusercontent.com (uc0c7a6fca4b408bb04bb37f32a0.dl.dropboxusercontent.com)|162.125.6.15|:443... connected.\n",
            "HTTP request sent, awaiting response... 200 OK\n",
            "Length: 308420 (301K) [application/binary]\n",
            "Saving to: ‘/content/dataset.csv’\n",
            "\n",
            "/content/dataset.cs 100%[===================>] 301.19K  --.-KB/s    in 0.008s  \n",
            "\n",
            "2023-05-13 19:19:14 (36.5 MB/s) - ‘/content/dataset.csv’ saved [308420/308420]\n",
            "\n"
          ]
        }
      ]
    },
    {
      "cell_type": "markdown",
      "source": [
        "Load the dataset as a dataframe"
      ],
      "metadata": {
        "id": "XU9i17XgU_PP"
      }
    },
    {
      "cell_type": "code",
      "source": [
        "df = pd.read_csv(\"dataset.csv\")\n",
        "df"
      ],
      "metadata": {
        "execution": {
          "iopub.status.busy": "2023-04-30T08:33:30.197254Z",
          "iopub.execute_input": "2023-04-30T08:33:30.197642Z",
          "iopub.status.idle": "2023-04-30T08:33:30.238114Z",
          "shell.execute_reply.started": "2023-04-30T08:33:30.197608Z",
          "shell.execute_reply": "2023-04-30T08:33:30.236875Z"
        },
        "trusted": true,
        "id": "GARdmLGkU_PQ",
        "colab": {
          "base_uri": "https://localhost:8080/"
        },
        "outputId": "68d79892-c92a-4f62-8764-ecb33cc7a6fd"
      },
      "execution_count": 3,
      "outputs": [
        {
          "output_type": "execute_result",
          "data": {
            "text/plain": [
              "                    Country  Year      Status  Life expectancy   \\\n",
              "0                   Finland  2013  Developing              87.0   \n",
              "1                     Japan  2015   Developed              83.7   \n",
              "2      Syrian Arab Republic  2014  Developing              64.4   \n",
              "3                    Latvia  2010   Developed              72.8   \n",
              "4     Sao Tome and Principe  2013  Developing              67.1   \n",
              "...                     ...   ...         ...               ...   \n",
              "2492                Tunisia  2000  Developing              72.9   \n",
              "2493                Myanmar  2001  Developing              62.5   \n",
              "2494            Netherlands  2008   Developed              83.0   \n",
              "2495            South Sudan  2013  Developing              56.4   \n",
              "2496              Guatemala  2000  Developing              67.7   \n",
              "\n",
              "      Adult Mortality  infant deaths  Alcohol  percentage expenditure  \\\n",
              "0                79.0              0     8.97             6115.496624   \n",
              "1                55.0              2      NaN                0.000000   \n",
              "2               294.0              7     0.01                0.000000   \n",
              "3                18.0              0     9.80             1109.969508   \n",
              "4               192.0              0     0.01              200.660099   \n",
              "...               ...            ...      ...                     ...   \n",
              "2492            112.0              4     1.21              264.784220   \n",
              "2493            239.0             72     0.38                1.917164   \n",
              "2494             68.0              1     9.62            10873.405540   \n",
              "2495            345.0             26      NaN               47.444530   \n",
              "2496            221.0             17     2.63              238.736981   \n",
              "\n",
              "      Hepatitis B  Measles   ...  Polio  Total expenditure  Diphtheria   \\\n",
              "0             NaN         2  ...   98.0               9.55         98.0   \n",
              "1             NaN        35  ...   99.0                NaN         96.0   \n",
              "2            47.0       594  ...   52.0               3.25         43.0   \n",
              "3            91.0         0  ...   92.0               6.55         92.0   \n",
              "4            97.0         0  ...   97.0               9.76         97.0   \n",
              "...           ...       ...  ...    ...                ...          ...   \n",
              "2492         94.0        47  ...   97.0               5.40         97.0   \n",
              "2493          NaN      2519  ...   77.0               1.80         73.0   \n",
              "2494          NaN       109  ...   97.0               9.57         97.0   \n",
              "2495          NaN       525  ...    5.0               2.62         45.0   \n",
              "2496          NaN         0  ...    8.0               5.25         81.0   \n",
              "\n",
              "       HIV/AIDS           GDP  Population   thinness  1-19 years  \\\n",
              "0           0.1  49638.771300   5438972.0                    0.9   \n",
              "1           0.1  34474.137360    127141.0                    2.1   \n",
              "2           0.1           NaN     19239.0                    6.3   \n",
              "3           0.1  11326.219470    297555.0                    2.2   \n",
              "4           0.2   1619.532678     18745.0                    5.7   \n",
              "...         ...           ...         ...                    ...   \n",
              "2492        0.1   2213.914880   9699197.0                    6.6   \n",
              "2493        0.4    138.924927  46627994.0                   13.3   \n",
              "2494        0.1  56928.824800  16445593.0                    1.0   \n",
              "2495        3.6   1186.113250   1117749.0                    NaN   \n",
              "2496        0.2   1655.596261   1165743.0                    1.6   \n",
              "\n",
              "       thinness 5-9 years  Income composition of resources  Schooling  \n",
              "0                     0.8                            0.887       17.0  \n",
              "1                     1.8                            0.902       15.3  \n",
              "2                     6.1                            0.575        9.0  \n",
              "3                     2.3                            0.815       16.0  \n",
              "4                     5.5                            0.559       11.0  \n",
              "...                   ...                              ...        ...  \n",
              "2492                  6.5                            0.646       12.8  \n",
              "2493                 13.7                            0.427        7.6  \n",
              "2494                  0.9                            0.905       16.8  \n",
              "2495                  NaN                            0.417        4.9  \n",
              "2496                  1.6                            0.539        8.2  \n",
              "\n",
              "[2497 rows x 22 columns]"
            ],
            "text/html": [
              "\n",
              "  <div id=\"df-167c0155-e1a2-4371-adc3-43340199e425\">\n",
              "    <div class=\"colab-df-container\">\n",
              "      <div>\n",
              "<style scoped>\n",
              "    .dataframe tbody tr th:only-of-type {\n",
              "        vertical-align: middle;\n",
              "    }\n",
              "\n",
              "    .dataframe tbody tr th {\n",
              "        vertical-align: top;\n",
              "    }\n",
              "\n",
              "    .dataframe thead th {\n",
              "        text-align: right;\n",
              "    }\n",
              "</style>\n",
              "<table border=\"1\" class=\"dataframe\">\n",
              "  <thead>\n",
              "    <tr style=\"text-align: right;\">\n",
              "      <th></th>\n",
              "      <th>Country</th>\n",
              "      <th>Year</th>\n",
              "      <th>Status</th>\n",
              "      <th>Life expectancy</th>\n",
              "      <th>Adult Mortality</th>\n",
              "      <th>infant deaths</th>\n",
              "      <th>Alcohol</th>\n",
              "      <th>percentage expenditure</th>\n",
              "      <th>Hepatitis B</th>\n",
              "      <th>Measles</th>\n",
              "      <th>...</th>\n",
              "      <th>Polio</th>\n",
              "      <th>Total expenditure</th>\n",
              "      <th>Diphtheria</th>\n",
              "      <th>HIV/AIDS</th>\n",
              "      <th>GDP</th>\n",
              "      <th>Population</th>\n",
              "      <th>thinness  1-19 years</th>\n",
              "      <th>thinness 5-9 years</th>\n",
              "      <th>Income composition of resources</th>\n",
              "      <th>Schooling</th>\n",
              "    </tr>\n",
              "  </thead>\n",
              "  <tbody>\n",
              "    <tr>\n",
              "      <th>0</th>\n",
              "      <td>Finland</td>\n",
              "      <td>2013</td>\n",
              "      <td>Developing</td>\n",
              "      <td>87.0</td>\n",
              "      <td>79.0</td>\n",
              "      <td>0</td>\n",
              "      <td>8.97</td>\n",
              "      <td>6115.496624</td>\n",
              "      <td>NaN</td>\n",
              "      <td>2</td>\n",
              "      <td>...</td>\n",
              "      <td>98.0</td>\n",
              "      <td>9.55</td>\n",
              "      <td>98.0</td>\n",
              "      <td>0.1</td>\n",
              "      <td>49638.771300</td>\n",
              "      <td>5438972.0</td>\n",
              "      <td>0.9</td>\n",
              "      <td>0.8</td>\n",
              "      <td>0.887</td>\n",
              "      <td>17.0</td>\n",
              "    </tr>\n",
              "    <tr>\n",
              "      <th>1</th>\n",
              "      <td>Japan</td>\n",
              "      <td>2015</td>\n",
              "      <td>Developed</td>\n",
              "      <td>83.7</td>\n",
              "      <td>55.0</td>\n",
              "      <td>2</td>\n",
              "      <td>NaN</td>\n",
              "      <td>0.000000</td>\n",
              "      <td>NaN</td>\n",
              "      <td>35</td>\n",
              "      <td>...</td>\n",
              "      <td>99.0</td>\n",
              "      <td>NaN</td>\n",
              "      <td>96.0</td>\n",
              "      <td>0.1</td>\n",
              "      <td>34474.137360</td>\n",
              "      <td>127141.0</td>\n",
              "      <td>2.1</td>\n",
              "      <td>1.8</td>\n",
              "      <td>0.902</td>\n",
              "      <td>15.3</td>\n",
              "    </tr>\n",
              "    <tr>\n",
              "      <th>2</th>\n",
              "      <td>Syrian Arab Republic</td>\n",
              "      <td>2014</td>\n",
              "      <td>Developing</td>\n",
              "      <td>64.4</td>\n",
              "      <td>294.0</td>\n",
              "      <td>7</td>\n",
              "      <td>0.01</td>\n",
              "      <td>0.000000</td>\n",
              "      <td>47.0</td>\n",
              "      <td>594</td>\n",
              "      <td>...</td>\n",
              "      <td>52.0</td>\n",
              "      <td>3.25</td>\n",
              "      <td>43.0</td>\n",
              "      <td>0.1</td>\n",
              "      <td>NaN</td>\n",
              "      <td>19239.0</td>\n",
              "      <td>6.3</td>\n",
              "      <td>6.1</td>\n",
              "      <td>0.575</td>\n",
              "      <td>9.0</td>\n",
              "    </tr>\n",
              "    <tr>\n",
              "      <th>3</th>\n",
              "      <td>Latvia</td>\n",
              "      <td>2010</td>\n",
              "      <td>Developed</td>\n",
              "      <td>72.8</td>\n",
              "      <td>18.0</td>\n",
              "      <td>0</td>\n",
              "      <td>9.80</td>\n",
              "      <td>1109.969508</td>\n",
              "      <td>91.0</td>\n",
              "      <td>0</td>\n",
              "      <td>...</td>\n",
              "      <td>92.0</td>\n",
              "      <td>6.55</td>\n",
              "      <td>92.0</td>\n",
              "      <td>0.1</td>\n",
              "      <td>11326.219470</td>\n",
              "      <td>297555.0</td>\n",
              "      <td>2.2</td>\n",
              "      <td>2.3</td>\n",
              "      <td>0.815</td>\n",
              "      <td>16.0</td>\n",
              "    </tr>\n",
              "    <tr>\n",
              "      <th>4</th>\n",
              "      <td>Sao Tome and Principe</td>\n",
              "      <td>2013</td>\n",
              "      <td>Developing</td>\n",
              "      <td>67.1</td>\n",
              "      <td>192.0</td>\n",
              "      <td>0</td>\n",
              "      <td>0.01</td>\n",
              "      <td>200.660099</td>\n",
              "      <td>97.0</td>\n",
              "      <td>0</td>\n",
              "      <td>...</td>\n",
              "      <td>97.0</td>\n",
              "      <td>9.76</td>\n",
              "      <td>97.0</td>\n",
              "      <td>0.2</td>\n",
              "      <td>1619.532678</td>\n",
              "      <td>18745.0</td>\n",
              "      <td>5.7</td>\n",
              "      <td>5.5</td>\n",
              "      <td>0.559</td>\n",
              "      <td>11.0</td>\n",
              "    </tr>\n",
              "    <tr>\n",
              "      <th>...</th>\n",
              "      <td>...</td>\n",
              "      <td>...</td>\n",
              "      <td>...</td>\n",
              "      <td>...</td>\n",
              "      <td>...</td>\n",
              "      <td>...</td>\n",
              "      <td>...</td>\n",
              "      <td>...</td>\n",
              "      <td>...</td>\n",
              "      <td>...</td>\n",
              "      <td>...</td>\n",
              "      <td>...</td>\n",
              "      <td>...</td>\n",
              "      <td>...</td>\n",
              "      <td>...</td>\n",
              "      <td>...</td>\n",
              "      <td>...</td>\n",
              "      <td>...</td>\n",
              "      <td>...</td>\n",
              "      <td>...</td>\n",
              "      <td>...</td>\n",
              "    </tr>\n",
              "    <tr>\n",
              "      <th>2492</th>\n",
              "      <td>Tunisia</td>\n",
              "      <td>2000</td>\n",
              "      <td>Developing</td>\n",
              "      <td>72.9</td>\n",
              "      <td>112.0</td>\n",
              "      <td>4</td>\n",
              "      <td>1.21</td>\n",
              "      <td>264.784220</td>\n",
              "      <td>94.0</td>\n",
              "      <td>47</td>\n",
              "      <td>...</td>\n",
              "      <td>97.0</td>\n",
              "      <td>5.40</td>\n",
              "      <td>97.0</td>\n",
              "      <td>0.1</td>\n",
              "      <td>2213.914880</td>\n",
              "      <td>9699197.0</td>\n",
              "      <td>6.6</td>\n",
              "      <td>6.5</td>\n",
              "      <td>0.646</td>\n",
              "      <td>12.8</td>\n",
              "    </tr>\n",
              "    <tr>\n",
              "      <th>2493</th>\n",
              "      <td>Myanmar</td>\n",
              "      <td>2001</td>\n",
              "      <td>Developing</td>\n",
              "      <td>62.5</td>\n",
              "      <td>239.0</td>\n",
              "      <td>72</td>\n",
              "      <td>0.38</td>\n",
              "      <td>1.917164</td>\n",
              "      <td>NaN</td>\n",
              "      <td>2519</td>\n",
              "      <td>...</td>\n",
              "      <td>77.0</td>\n",
              "      <td>1.80</td>\n",
              "      <td>73.0</td>\n",
              "      <td>0.4</td>\n",
              "      <td>138.924927</td>\n",
              "      <td>46627994.0</td>\n",
              "      <td>13.3</td>\n",
              "      <td>13.7</td>\n",
              "      <td>0.427</td>\n",
              "      <td>7.6</td>\n",
              "    </tr>\n",
              "    <tr>\n",
              "      <th>2494</th>\n",
              "      <td>Netherlands</td>\n",
              "      <td>2008</td>\n",
              "      <td>Developed</td>\n",
              "      <td>83.0</td>\n",
              "      <td>68.0</td>\n",
              "      <td>1</td>\n",
              "      <td>9.62</td>\n",
              "      <td>10873.405540</td>\n",
              "      <td>NaN</td>\n",
              "      <td>109</td>\n",
              "      <td>...</td>\n",
              "      <td>97.0</td>\n",
              "      <td>9.57</td>\n",
              "      <td>97.0</td>\n",
              "      <td>0.1</td>\n",
              "      <td>56928.824800</td>\n",
              "      <td>16445593.0</td>\n",
              "      <td>1.0</td>\n",
              "      <td>0.9</td>\n",
              "      <td>0.905</td>\n",
              "      <td>16.8</td>\n",
              "    </tr>\n",
              "    <tr>\n",
              "      <th>2495</th>\n",
              "      <td>South Sudan</td>\n",
              "      <td>2013</td>\n",
              "      <td>Developing</td>\n",
              "      <td>56.4</td>\n",
              "      <td>345.0</td>\n",
              "      <td>26</td>\n",
              "      <td>NaN</td>\n",
              "      <td>47.444530</td>\n",
              "      <td>NaN</td>\n",
              "      <td>525</td>\n",
              "      <td>...</td>\n",
              "      <td>5.0</td>\n",
              "      <td>2.62</td>\n",
              "      <td>45.0</td>\n",
              "      <td>3.6</td>\n",
              "      <td>1186.113250</td>\n",
              "      <td>1117749.0</td>\n",
              "      <td>NaN</td>\n",
              "      <td>NaN</td>\n",
              "      <td>0.417</td>\n",
              "      <td>4.9</td>\n",
              "    </tr>\n",
              "    <tr>\n",
              "      <th>2496</th>\n",
              "      <td>Guatemala</td>\n",
              "      <td>2000</td>\n",
              "      <td>Developing</td>\n",
              "      <td>67.7</td>\n",
              "      <td>221.0</td>\n",
              "      <td>17</td>\n",
              "      <td>2.63</td>\n",
              "      <td>238.736981</td>\n",
              "      <td>NaN</td>\n",
              "      <td>0</td>\n",
              "      <td>...</td>\n",
              "      <td>8.0</td>\n",
              "      <td>5.25</td>\n",
              "      <td>81.0</td>\n",
              "      <td>0.2</td>\n",
              "      <td>1655.596261</td>\n",
              "      <td>1165743.0</td>\n",
              "      <td>1.6</td>\n",
              "      <td>1.6</td>\n",
              "      <td>0.539</td>\n",
              "      <td>8.2</td>\n",
              "    </tr>\n",
              "  </tbody>\n",
              "</table>\n",
              "<p>2497 rows × 22 columns</p>\n",
              "</div>\n",
              "      <button class=\"colab-df-convert\" onclick=\"convertToInteractive('df-167c0155-e1a2-4371-adc3-43340199e425')\"\n",
              "              title=\"Convert this dataframe to an interactive table.\"\n",
              "              style=\"display:none;\">\n",
              "        \n",
              "  <svg xmlns=\"http://www.w3.org/2000/svg\" height=\"24px\"viewBox=\"0 0 24 24\"\n",
              "       width=\"24px\">\n",
              "    <path d=\"M0 0h24v24H0V0z\" fill=\"none\"/>\n",
              "    <path d=\"M18.56 5.44l.94 2.06.94-2.06 2.06-.94-2.06-.94-.94-2.06-.94 2.06-2.06.94zm-11 1L8.5 8.5l.94-2.06 2.06-.94-2.06-.94L8.5 2.5l-.94 2.06-2.06.94zm10 10l.94 2.06.94-2.06 2.06-.94-2.06-.94-.94-2.06-.94 2.06-2.06.94z\"/><path d=\"M17.41 7.96l-1.37-1.37c-.4-.4-.92-.59-1.43-.59-.52 0-1.04.2-1.43.59L10.3 9.45l-7.72 7.72c-.78.78-.78 2.05 0 2.83L4 21.41c.39.39.9.59 1.41.59.51 0 1.02-.2 1.41-.59l7.78-7.78 2.81-2.81c.8-.78.8-2.07 0-2.86zM5.41 20L4 18.59l7.72-7.72 1.47 1.35L5.41 20z\"/>\n",
              "  </svg>\n",
              "      </button>\n",
              "      \n",
              "  <style>\n",
              "    .colab-df-container {\n",
              "      display:flex;\n",
              "      flex-wrap:wrap;\n",
              "      gap: 12px;\n",
              "    }\n",
              "\n",
              "    .colab-df-convert {\n",
              "      background-color: #E8F0FE;\n",
              "      border: none;\n",
              "      border-radius: 50%;\n",
              "      cursor: pointer;\n",
              "      display: none;\n",
              "      fill: #1967D2;\n",
              "      height: 32px;\n",
              "      padding: 0 0 0 0;\n",
              "      width: 32px;\n",
              "    }\n",
              "\n",
              "    .colab-df-convert:hover {\n",
              "      background-color: #E2EBFA;\n",
              "      box-shadow: 0px 1px 2px rgba(60, 64, 67, 0.3), 0px 1px 3px 1px rgba(60, 64, 67, 0.15);\n",
              "      fill: #174EA6;\n",
              "    }\n",
              "\n",
              "    [theme=dark] .colab-df-convert {\n",
              "      background-color: #3B4455;\n",
              "      fill: #D2E3FC;\n",
              "    }\n",
              "\n",
              "    [theme=dark] .colab-df-convert:hover {\n",
              "      background-color: #434B5C;\n",
              "      box-shadow: 0px 1px 3px 1px rgba(0, 0, 0, 0.15);\n",
              "      filter: drop-shadow(0px 1px 2px rgba(0, 0, 0, 0.3));\n",
              "      fill: #FFFFFF;\n",
              "    }\n",
              "  </style>\n",
              "\n",
              "      <script>\n",
              "        const buttonEl =\n",
              "          document.querySelector('#df-167c0155-e1a2-4371-adc3-43340199e425 button.colab-df-convert');\n",
              "        buttonEl.style.display =\n",
              "          google.colab.kernel.accessAllowed ? 'block' : 'none';\n",
              "\n",
              "        async function convertToInteractive(key) {\n",
              "          const element = document.querySelector('#df-167c0155-e1a2-4371-adc3-43340199e425');\n",
              "          const dataTable =\n",
              "            await google.colab.kernel.invokeFunction('convertToInteractive',\n",
              "                                                     [key], {});\n",
              "          if (!dataTable) return;\n",
              "\n",
              "          const docLinkHtml = 'Like what you see? Visit the ' +\n",
              "            '<a target=\"_blank\" href=https://colab.research.google.com/notebooks/data_table.ipynb>data table notebook</a>'\n",
              "            + ' to learn more about interactive tables.';\n",
              "          element.innerHTML = '';\n",
              "          dataTable['output_type'] = 'display_data';\n",
              "          await google.colab.output.renderOutput(dataTable, element);\n",
              "          const docLink = document.createElement('div');\n",
              "          docLink.innerHTML = docLinkHtml;\n",
              "          element.appendChild(docLink);\n",
              "        }\n",
              "      </script>\n",
              "    </div>\n",
              "  </div>\n",
              "  "
            ]
          },
          "metadata": {},
          "execution_count": 3
        }
      ]
    },
    {
      "cell_type": "markdown",
      "source": [
        "Plot \"year\" against \"average life expectancy\""
      ],
      "metadata": {
        "id": "HBsBXJ5dU_PR"
      }
    },
    {
      "cell_type": "code",
      "source": [
        "df.groupby(['Year']).mean()['Life expectancy '].plot()"
      ],
      "metadata": {
        "execution": {
          "iopub.status.busy": "2023-04-30T08:33:33.477341Z",
          "iopub.execute_input": "2023-04-30T08:33:33.478151Z",
          "iopub.status.idle": "2023-04-30T08:33:33.711698Z",
          "shell.execute_reply.started": "2023-04-30T08:33:33.478109Z",
          "shell.execute_reply": "2023-04-30T08:33:33.710510Z"
        },
        "trusted": true,
        "id": "-DfKHpd8U_PR",
        "colab": {
          "base_uri": "https://localhost:8080/"
        },
        "outputId": "d06ea73e-2670-4968-a75f-a1bcaf070f83"
      },
      "execution_count": 4,
      "outputs": [
        {
          "output_type": "stream",
          "name": "stderr",
          "text": [
            "<ipython-input-4-77badef04064>:1: FutureWarning: The default value of numeric_only in DataFrameGroupBy.mean is deprecated. In a future version, numeric_only will default to False. Either specify numeric_only or select only columns which should be valid for the function.\n",
            "  df.groupby(['Year']).mean()['Life expectancy '].plot()\n"
          ]
        },
        {
          "output_type": "execute_result",
          "data": {
            "text/plain": [
              "<Axes: xlabel='Year'>"
            ]
          },
          "metadata": {},
          "execution_count": 4
        },
        {
          "output_type": "display_data",
          "data": {
            "text/plain": [
              "<Figure size 640x480 with 1 Axes>"
            ],
            "image/png": "[encoded data removed]"
          },
          "metadata": {}
        }
      ]
    },
    {
      "cell_type": "markdown",
      "source": [
        "Compare the average life expectancy of \"Developed\" and \"Developing\" countries for each year "
      ],
      "metadata": {
        "id": "_euMb0n0U_PR"
      }
    },
    {
      "cell_type": "code",
      "source": [
        "life_expectancy_status_year = df.groupby(['Year', 'Status']).mean()['Life expectancy ']\n",
        "life_expectancy_status_year"
      ],
      "metadata": {
        "execution": {
          "iopub.status.busy": "2023-04-30T08:33:37.167421Z",
          "iopub.execute_input": "2023-04-30T08:33:37.167866Z",
          "iopub.status.idle": "2023-04-30T08:33:37.181164Z",
          "shell.execute_reply.started": "2023-04-30T08:33:37.167824Z",
          "shell.execute_reply": "2023-04-30T08:33:37.179864Z"
        },
        "trusted": true,
        "id": "FHvcfXklU_PS",
        "colab": {
          "base_uri": "https://localhost:8080/"
        },
        "outputId": "5e1b4c6d-c244-4de1-e67b-f07b100e6fce"
      },
      "execution_count": 5,
      "outputs": [
        {
          "output_type": "stream",
          "name": "stderr",
          "text": [
            "<ipython-input-5-f2568a66bfe6>:1: FutureWarning: The default value of numeric_only in DataFrameGroupBy.mean is deprecated. In a future version, numeric_only will default to False. Either specify numeric_only or select only columns which should be valid for the function.\n",
            "  life_expectancy_status_year = df.groupby(['Year', 'Status']).mean()['Life expectancy ']\n"
          ]
        },
        {
          "output_type": "execute_result",
          "data": {
            "text/plain": [
              "Year  Status    \n",
              "2000  Developed     76.891667\n",
              "      Developing    65.004959\n",
              "2001  Developed     77.114286\n",
              "      Developing    65.048120\n",
              "2002  Developed     77.710000\n",
              "      Developing    64.393496\n",
              "2003  Developed     78.257692\n",
              "      Developing    65.617213\n",
              "2004  Developed     78.452000\n",
              "      Developing    65.500000\n",
              "2005  Developed     78.792593\n",
              "      Developing    65.898450\n",
              "2006  Developed     79.346667\n",
              "      Developing    67.167939\n",
              "2007  Developed     79.252381\n",
              "      Developing    66.935878\n",
              "2008  Developed     78.796552\n",
              "      Developing    67.365185\n",
              "2009  Developed     79.581481\n",
              "      Developing    67.777206\n",
              "2010  Developed     80.167857\n",
              "      Developing    67.404762\n",
              "2011  Developed     79.821739\n",
              "      Developing    68.182443\n",
              "2012  Developed     80.512000\n",
              "      Developing    68.823485\n",
              "2013  Developed     80.376923\n",
              "      Developing    69.049606\n",
              "2014  Developed     81.292593\n",
              "      Developing    69.442063\n",
              "2015  Developed     80.175000\n",
              "      Developing    69.937984\n",
              "Name: Life expectancy , dtype: float64"
            ]
          },
          "metadata": {},
          "execution_count": 5
        }
      ]
    },
    {
      "cell_type": "code",
      "source": [
        "life_expectancy_status_year.unstack().plot()"
      ],
      "metadata": {
        "colab": {
          "base_uri": "https://localhost:8080/"
        },
        "id": "71o-2fkK1Sf_",
        "outputId": "8bfcbdbd-1508-452d-8cdb-8011e844f823"
      },
      "execution_count": 6,
      "outputs": [
        {
          "output_type": "execute_result",
          "data": {
            "text/plain": [
              "<Axes: xlabel='Year'>"
            ]
          },
          "metadata": {},
          "execution_count": 6
        },
        {
          "output_type": "display_data",
          "data": {
            "text/plain": [
              "<Figure size 640x480 with 1 Axes>"
            ],
            "image/png": "[encoded data removed]"
          },
          "metadata": {}
        }
      ]
    },
    {
      "cell_type": "markdown",
      "source": [
        "Get the correlation between \"Life expectancy\" and \"GDP\""
      ],
      "metadata": {
        "id": "v3PokphQU_PS"
      }
    },
    {
      "cell_type": "code",
      "source": [
        "print(df['Life expectancy '].corr(df['GDP']))"
      ],
      "metadata": {
        "execution": {
          "iopub.status.busy": "2023-04-30T08:33:39.947445Z",
          "iopub.execute_input": "2023-04-30T08:33:39.947838Z",
          "iopub.status.idle": "2023-04-30T08:33:39.956485Z",
          "shell.execute_reply.started": "2023-04-30T08:33:39.947799Z",
          "shell.execute_reply": "2023-04-30T08:33:39.955285Z"
        },
        "trusted": true,
        "id": "mOfNroPqU_PS",
        "colab": {
          "base_uri": "https://localhost:8080/"
        },
        "outputId": "3b4f293e-94eb-4ac0-ea26-6910bc9265af"
      },
      "execution_count": 7,
      "outputs": [
        {
          "output_type": "stream",
          "name": "stdout",
          "text": [
            "0.4652553879500644\n"
          ]
        }
      ]
    },
    {
      "cell_type": "markdown",
      "source": [
        "Find out the feature having the strongest correlation with the \"Life expectancy\"<br>\n",
        "Note: Do not display all of the correlation values. Your code should only print the result (the name of a column)."
      ],
      "metadata": {
        "id": "uL-6KStPU_PS"
      }
    },
    {
      "cell_type": "code",
      "source": [
        "corr = df.corr()['Life expectancy ']\n",
        "strongest_feature = corr[corr.index != 'Life expectancy '].abs().idxmax()\n",
        "strongest_feature"
      ],
      "metadata": {
        "execution": {
          "iopub.status.busy": "2023-04-30T08:33:44.957730Z",
          "iopub.execute_input": "2023-04-30T08:33:44.958938Z",
          "iopub.status.idle": "2023-04-30T08:33:44.977069Z",
          "shell.execute_reply.started": "2023-04-30T08:33:44.958881Z",
          "shell.execute_reply": "2023-04-30T08:33:44.975781Z"
        },
        "trusted": true,
        "id": "sHqKM8nKU_PS",
        "colab": {
          "base_uri": "https://localhost:8080/"
        },
        "outputId": "04098298-03e0-446e-d065-24411757471c"
      },
      "execution_count": 8,
      "outputs": [
        {
          "output_type": "stream",
          "name": "stderr",
          "text": [
            "<ipython-input-8-35406d324025>:1: FutureWarning: The default value of numeric_only in DataFrame.corr is deprecated. In a future version, it will default to False. Select only valid columns or specify the value of numeric_only to silence this warning.\n",
            "  corr = df.corr()['Life expectancy ']\n"
          ]
        },
        {
          "output_type": "execute_result",
          "data": {
            "text/plain": [
              "'Schooling'"
            ],
            "application/vnd.google.colaboratory.intrinsic+json": {
              "type": "string"
            }
          },
          "metadata": {},
          "execution_count": 8
        }
      ]
    },
    {
      "cell_type": "markdown",
      "source": [
        "# Preprocessing (20 points)"
      ],
      "metadata": {
        "id": "Pbgj4XbWU_PS"
      }
    },
    {
      "cell_type": "markdown",
      "source": [
        "Remove the rows containing NaN (or null) values"
      ],
      "metadata": {
        "id": "MeJjivW3U_PS"
      }
    },
    {
      "cell_type": "code",
      "source": [
        "df_nn = df.dropna()\n",
        "df_nn"
      ],
      "metadata": {
        "execution": {
          "iopub.status.busy": "2023-04-30T08:33:49.739974Z",
          "iopub.execute_input": "2023-04-30T08:33:49.740394Z",
          "iopub.status.idle": "2023-04-30T08:33:49.749989Z",
          "shell.execute_reply.started": "2023-04-30T08:33:49.740354Z",
          "shell.execute_reply": "2023-04-30T08:33:49.748700Z"
        },
        "trusted": true,
        "id": "ZbBXGM9eU_PT",
        "colab": {
          "base_uri": "https://localhost:8080/"
        },
        "outputId": "1bd9f2f9-0779-480d-ec30-be489f0a6626"
      },
      "execution_count": 9,
      "outputs": [
        {
          "output_type": "execute_result",
          "data": {
            "text/plain": [
              "                    Country  Year      Status  Life expectancy   \\\n",
              "3                    Latvia  2010   Developed              72.8   \n",
              "4     Sao Tome and Principe  2013  Developing              67.1   \n",
              "7                  Colombia  2005  Developing              73.1   \n",
              "11                 Botswana  2012  Developing              63.4   \n",
              "12                   Mexico  2014  Developing              76.6   \n",
              "...                     ...   ...         ...               ...   \n",
              "2481              Mauritius  2009  Developing              72.8   \n",
              "2485                   Mali  2009  Developing              56.0   \n",
              "2488           Turkmenistan  2008  Developing              64.5   \n",
              "2490                 Angola  2007  Developing              48.2   \n",
              "2492                Tunisia  2000  Developing              72.9   \n",
              "\n",
              "      Adult Mortality  infant deaths  Alcohol  percentage expenditure  \\\n",
              "3                18.0              0     9.80             1109.969508   \n",
              "4               192.0              0     0.01              200.660099   \n",
              "7               144.0             15     4.38              531.980818   \n",
              "11                3.0              2     0.01               12.834474   \n",
              "12              122.0             31     5.26              168.173753   \n",
              "...               ...            ...      ...                     ...   \n",
              "2481            166.0              0     2.83              624.236183   \n",
              "2485            276.0             55     0.59               84.634389   \n",
              "2488            235.0              6     2.40               34.239794   \n",
              "2490            375.0             87     6.35              184.821345   \n",
              "2492            112.0              4     1.21              264.784220   \n",
              "\n",
              "      Hepatitis B  Measles   ...  Polio  Total expenditure  Diphtheria   \\\n",
              "3            91.0         0  ...   92.0               6.55         92.0   \n",
              "4            97.0         0  ...   97.0               9.76         97.0   \n",
              "7            93.0         0  ...   93.0               5.82         93.0   \n",
              "11           95.0         7  ...   96.0               6.27         95.0   \n",
              "12           84.0         3  ...   87.0               6.30         87.0   \n",
              "...           ...       ...  ...    ...                ...          ...   \n",
              "2481         99.0        15  ...   99.0               4.97         99.0   \n",
              "2485         71.0      2939  ...   77.0               6.85         73.0   \n",
              "2488         96.0         0  ...   96.0               1.93         96.0   \n",
              "2490         73.0      1014  ...   75.0               3.38         73.0   \n",
              "2492         94.0        47  ...   97.0               5.40         97.0   \n",
              "\n",
              "       HIV/AIDS           GDP  Population   thinness  1-19 years  \\\n",
              "3           0.1  11326.219470    297555.0                    2.2   \n",
              "4           0.2   1619.532678     18745.0                    5.7   \n",
              "7           0.1   3386.256000  43285634.0                    2.4   \n",
              "11          4.4    729.231453    289315.0                    7.3   \n",
              "12          0.1   1452.277660   1242216.0                    1.6   \n",
              "...         ...           ...         ...                    ...   \n",
              "2481        0.1   7318.126410   1247429.0                    7.3   \n",
              "2485        1.6    697.153124   1466597.0                    9.0   \n",
              "2488        0.1    394.467675   4935762.0                    3.2   \n",
              "2490        2.6   2878.837144   2997687.0                    9.6   \n",
              "2492        0.1   2213.914880   9699197.0                    6.6   \n",
              "\n",
              "       thinness 5-9 years  Income composition of resources  Schooling  \n",
              "3                     2.3                            0.815       16.0  \n",
              "4                     5.5                            0.559       11.0  \n",
              "7                     2.1                            0.658       11.1  \n",
              "11                    7.0                            0.687       12.5  \n",
              "12                    1.5                            0.754       13.1  \n",
              "...                   ...                              ...        ...  \n",
              "2481                  7.3                            0.734       13.8  \n",
              "2485                  8.8                            0.385        7.1  \n",
              "2488                  3.3                            0.000       10.5  \n",
              "2490                  9.6                            0.454        7.7  \n",
              "2492                  6.5                            0.646       12.8  \n",
              "\n",
              "[1415 rows x 22 columns]"
            ],
            "text/html": [
              "\n",
              "  <div id=\"df-45583de7-d083-4099-98d6-107196488a9b\">\n",
              "    <div class=\"colab-df-container\">\n",
              "      <div>\n",
              "<style scoped>\n",
              "    .dataframe tbody tr th:only-of-type {\n",
              "        vertical-align: middle;\n",
              "    }\n",
              "\n",
              "    .dataframe tbody tr th {\n",
              "        vertical-align: top;\n",
              "    }\n",
              "\n",
              "    .dataframe thead th {\n",
              "        text-align: right;\n",
              "    }\n",
              "</style>\n",
              "<table border=\"1\" class=\"dataframe\">\n",
              "  <thead>\n",
              "    <tr style=\"text-align: right;\">\n",
              "      <th></th>\n",
              "      <th>Country</th>\n",
              "      <th>Year</th>\n",
              "      <th>Status</th>\n",
              "      <th>Life expectancy</th>\n",
              "      <th>Adult Mortality</th>\n",
              "      <th>infant deaths</th>\n",
              "      <th>Alcohol</th>\n",
              "      <th>percentage expenditure</th>\n",
              "      <th>Hepatitis B</th>\n",
              "      <th>Measles</th>\n",
              "      <th>...</th>\n",
              "      <th>Polio</th>\n",
              "      <th>Total expenditure</th>\n",
              "      <th>Diphtheria</th>\n",
              "      <th>HIV/AIDS</th>\n",
              "      <th>GDP</th>\n",
              "      <th>Population</th>\n",
              "      <th>thinness  1-19 years</th>\n",
              "      <th>thinness 5-9 years</th>\n",
              "      <th>Income composition of resources</th>\n",
              "      <th>Schooling</th>\n",
              "    </tr>\n",
              "  </thead>\n",
              "  <tbody>\n",
              "    <tr>\n",
              "      <th>3</th>\n",
              "      <td>Latvia</td>\n",
              "      <td>2010</td>\n",
              "      <td>Developed</td>\n",
              "      <td>72.8</td>\n",
              "      <td>18.0</td>\n",
              "      <td>0</td>\n",
              "      <td>9.80</td>\n",
              "      <td>1109.969508</td>\n",
              "      <td>91.0</td>\n",
              "      <td>0</td>\n",
              "      <td>...</td>\n",
              "      <td>92.0</td>\n",
              "      <td>6.55</td>\n",
              "      <td>92.0</td>\n",
              "      <td>0.1</td>\n",
              "      <td>11326.219470</td>\n",
              "      <td>297555.0</td>\n",
              "      <td>2.2</td>\n",
              "      <td>2.3</td>\n",
              "      <td>0.815</td>\n",
              "      <td>16.0</td>\n",
              "    </tr>\n",
              "    <tr>\n",
              "      <th>4</th>\n",
              "      <td>Sao Tome and Principe</td>\n",
              "      <td>2013</td>\n",
              "      <td>Developing</td>\n",
              "      <td>67.1</td>\n",
              "      <td>192.0</td>\n",
              "      <td>0</td>\n",
              "      <td>0.01</td>\n",
              "      <td>200.660099</td>\n",
              "      <td>97.0</td>\n",
              "      <td>0</td>\n",
              "      <td>...</td>\n",
              "      <td>97.0</td>\n",
              "      <td>9.76</td>\n",
              "      <td>97.0</td>\n",
              "      <td>0.2</td>\n",
              "      <td>1619.532678</td>\n",
              "      <td>18745.0</td>\n",
              "      <td>5.7</td>\n",
              "      <td>5.5</td>\n",
              "      <td>0.559</td>\n",
              "      <td>11.0</td>\n",
              "    </tr>\n",
              "    <tr>\n",
              "      <th>7</th>\n",
              "      <td>Colombia</td>\n",
              "      <td>2005</td>\n",
              "      <td>Developing</td>\n",
              "      <td>73.1</td>\n",
              "      <td>144.0</td>\n",
              "      <td>15</td>\n",
              "      <td>4.38</td>\n",
              "      <td>531.980818</td>\n",
              "      <td>93.0</td>\n",
              "      <td>0</td>\n",
              "      <td>...</td>\n",
              "      <td>93.0</td>\n",
              "      <td>5.82</td>\n",
              "      <td>93.0</td>\n",
              "      <td>0.1</td>\n",
              "      <td>3386.256000</td>\n",
              "      <td>43285634.0</td>\n",
              "      <td>2.4</td>\n",
              "      <td>2.1</td>\n",
              "      <td>0.658</td>\n",
              "      <td>11.1</td>\n",
              "    </tr>\n",
              "    <tr>\n",
              "      <th>11</th>\n",
              "      <td>Botswana</td>\n",
              "      <td>2012</td>\n",
              "      <td>Developing</td>\n",
              "      <td>63.4</td>\n",
              "      <td>3.0</td>\n",
              "      <td>2</td>\n",
              "      <td>0.01</td>\n",
              "      <td>12.834474</td>\n",
              "      <td>95.0</td>\n",
              "      <td>7</td>\n",
              "      <td>...</td>\n",
              "      <td>96.0</td>\n",
              "      <td>6.27</td>\n",
              "      <td>95.0</td>\n",
              "      <td>4.4</td>\n",
              "      <td>729.231453</td>\n",
              "      <td>289315.0</td>\n",
              "      <td>7.3</td>\n",
              "      <td>7.0</td>\n",
              "      <td>0.687</td>\n",
              "      <td>12.5</td>\n",
              "    </tr>\n",
              "    <tr>\n",
              "      <th>12</th>\n",
              "      <td>Mexico</td>\n",
              "      <td>2014</td>\n",
              "      <td>Developing</td>\n",
              "      <td>76.6</td>\n",
              "      <td>122.0</td>\n",
              "      <td>31</td>\n",
              "      <td>5.26</td>\n",
              "      <td>168.173753</td>\n",
              "      <td>84.0</td>\n",
              "      <td>3</td>\n",
              "      <td>...</td>\n",
              "      <td>87.0</td>\n",
              "      <td>6.30</td>\n",
              "      <td>87.0</td>\n",
              "      <td>0.1</td>\n",
              "      <td>1452.277660</td>\n",
              "      <td>1242216.0</td>\n",
              "      <td>1.6</td>\n",
              "      <td>1.5</td>\n",
              "      <td>0.754</td>\n",
              "      <td>13.1</td>\n",
              "    </tr>\n",
              "    <tr>\n",
              "      <th>...</th>\n",
              "      <td>...</td>\n",
              "      <td>...</td>\n",
              "      <td>...</td>\n",
              "      <td>...</td>\n",
              "      <td>...</td>\n",
              "      <td>...</td>\n",
              "      <td>...</td>\n",
              "      <td>...</td>\n",
              "      <td>...</td>\n",
              "      <td>...</td>\n",
              "      <td>...</td>\n",
              "      <td>...</td>\n",
              "      <td>...</td>\n",
              "      <td>...</td>\n",
              "      <td>...</td>\n",
              "      <td>...</td>\n",
              "      <td>...</td>\n",
              "      <td>...</td>\n",
              "      <td>...</td>\n",
              "      <td>...</td>\n",
              "      <td>...</td>\n",
              "    </tr>\n",
              "    <tr>\n",
              "      <th>2481</th>\n",
              "      <td>Mauritius</td>\n",
              "      <td>2009</td>\n",
              "      <td>Developing</td>\n",
              "      <td>72.8</td>\n",
              "      <td>166.0</td>\n",
              "      <td>0</td>\n",
              "      <td>2.83</td>\n",
              "      <td>624.236183</td>\n",
              "      <td>99.0</td>\n",
              "      <td>15</td>\n",
              "      <td>...</td>\n",
              "      <td>99.0</td>\n",
              "      <td>4.97</td>\n",
              "      <td>99.0</td>\n",
              "      <td>0.1</td>\n",
              "      <td>7318.126410</td>\n",
              "      <td>1247429.0</td>\n",
              "      <td>7.3</td>\n",
              "      <td>7.3</td>\n",
              "      <td>0.734</td>\n",
              "      <td>13.8</td>\n",
              "    </tr>\n",
              "    <tr>\n",
              "      <th>2485</th>\n",
              "      <td>Mali</td>\n",
              "      <td>2009</td>\n",
              "      <td>Developing</td>\n",
              "      <td>56.0</td>\n",
              "      <td>276.0</td>\n",
              "      <td>55</td>\n",
              "      <td>0.59</td>\n",
              "      <td>84.634389</td>\n",
              "      <td>71.0</td>\n",
              "      <td>2939</td>\n",
              "      <td>...</td>\n",
              "      <td>77.0</td>\n",
              "      <td>6.85</td>\n",
              "      <td>73.0</td>\n",
              "      <td>1.6</td>\n",
              "      <td>697.153124</td>\n",
              "      <td>1466597.0</td>\n",
              "      <td>9.0</td>\n",
              "      <td>8.8</td>\n",
              "      <td>0.385</td>\n",
              "      <td>7.1</td>\n",
              "    </tr>\n",
              "    <tr>\n",
              "      <th>2488</th>\n",
              "      <td>Turkmenistan</td>\n",
              "      <td>2008</td>\n",
              "      <td>Developing</td>\n",
              "      <td>64.5</td>\n",
              "      <td>235.0</td>\n",
              "      <td>6</td>\n",
              "      <td>2.40</td>\n",
              "      <td>34.239794</td>\n",
              "      <td>96.0</td>\n",
              "      <td>0</td>\n",
              "      <td>...</td>\n",
              "      <td>96.0</td>\n",
              "      <td>1.93</td>\n",
              "      <td>96.0</td>\n",
              "      <td>0.1</td>\n",
              "      <td>394.467675</td>\n",
              "      <td>4935762.0</td>\n",
              "      <td>3.2</td>\n",
              "      <td>3.3</td>\n",
              "      <td>0.000</td>\n",
              "      <td>10.5</td>\n",
              "    </tr>\n",
              "    <tr>\n",
              "      <th>2490</th>\n",
              "      <td>Angola</td>\n",
              "      <td>2007</td>\n",
              "      <td>Developing</td>\n",
              "      <td>48.2</td>\n",
              "      <td>375.0</td>\n",
              "      <td>87</td>\n",
              "      <td>6.35</td>\n",
              "      <td>184.821345</td>\n",
              "      <td>73.0</td>\n",
              "      <td>1014</td>\n",
              "      <td>...</td>\n",
              "      <td>75.0</td>\n",
              "      <td>3.38</td>\n",
              "      <td>73.0</td>\n",
              "      <td>2.6</td>\n",
              "      <td>2878.837144</td>\n",
              "      <td>2997687.0</td>\n",
              "      <td>9.6</td>\n",
              "      <td>9.6</td>\n",
              "      <td>0.454</td>\n",
              "      <td>7.7</td>\n",
              "    </tr>\n",
              "    <tr>\n",
              "      <th>2492</th>\n",
              "      <td>Tunisia</td>\n",
              "      <td>2000</td>\n",
              "      <td>Developing</td>\n",
              "      <td>72.9</td>\n",
              "      <td>112.0</td>\n",
              "      <td>4</td>\n",
              "      <td>1.21</td>\n",
              "      <td>264.784220</td>\n",
              "      <td>94.0</td>\n",
              "      <td>47</td>\n",
              "      <td>...</td>\n",
              "      <td>97.0</td>\n",
              "      <td>5.40</td>\n",
              "      <td>97.0</td>\n",
              "      <td>0.1</td>\n",
              "      <td>2213.914880</td>\n",
              "      <td>9699197.0</td>\n",
              "      <td>6.6</td>\n",
              "      <td>6.5</td>\n",
              "      <td>0.646</td>\n",
              "      <td>12.8</td>\n",
              "    </tr>\n",
              "  </tbody>\n",
              "</table>\n",
              "<p>1415 rows × 22 columns</p>\n",
              "</div>\n",
              "      <button class=\"colab-df-convert\" onclick=\"convertToInteractive('df-45583de7-d083-4099-98d6-107196488a9b')\"\n",
              "              title=\"Convert this dataframe to an interactive table.\"\n",
              "              style=\"display:none;\">\n",
              "        \n",
              "  <svg xmlns=\"http://www.w3.org/2000/svg\" height=\"24px\"viewBox=\"0 0 24 24\"\n",
              "       width=\"24px\">\n",
              "    <path d=\"M0 0h24v24H0V0z\" fill=\"none\"/>\n",
              "    <path d=\"M18.56 5.44l.94 2.06.94-2.06 2.06-.94-2.06-.94-.94-2.06-.94 2.06-2.06.94zm-11 1L8.5 8.5l.94-2.06 2.06-.94-2.06-.94L8.5 2.5l-.94 2.06-2.06.94zm10 10l.94 2.06.94-2.06 2.06-.94-2.06-.94-.94-2.06-.94 2.06-2.06.94z\"/><path d=\"M17.41 7.96l-1.37-1.37c-.4-.4-.92-.59-1.43-.59-.52 0-1.04.2-1.43.59L10.3 9.45l-7.72 7.72c-.78.78-.78 2.05 0 2.83L4 21.41c.39.39.9.59 1.41.59.51 0 1.02-.2 1.41-.59l7.78-7.78 2.81-2.81c.8-.78.8-2.07 0-2.86zM5.41 20L4 18.59l7.72-7.72 1.47 1.35L5.41 20z\"/>\n",
              "  </svg>\n",
              "      </button>\n",
              "      \n",
              "  <style>\n",
              "    .colab-df-container {\n",
              "      display:flex;\n",
              "      flex-wrap:wrap;\n",
              "      gap: 12px;\n",
              "    }\n",
              "\n",
              "    .colab-df-convert {\n",
              "      background-color: #E8F0FE;\n",
              "      border: none;\n",
              "      border-radius: 50%;\n",
              "      cursor: pointer;\n",
              "      display: none;\n",
              "      fill: #1967D2;\n",
              "      height: 32px;\n",
              "      padding: 0 0 0 0;\n",
              "      width: 32px;\n",
              "    }\n",
              "\n",
              "    .colab-df-convert:hover {\n",
              "      background-color: #E2EBFA;\n",
              "      box-shadow: 0px 1px 2px rgba(60, 64, 67, 0.3), 0px 1px 3px 1px rgba(60, 64, 67, 0.15);\n",
              "      fill: #174EA6;\n",
              "    }\n",
              "\n",
              "    [theme=dark] .colab-df-convert {\n",
              "      background-color: #3B4455;\n",
              "      fill: #D2E3FC;\n",
              "    }\n",
              "\n",
              "    [theme=dark] .colab-df-convert:hover {\n",
              "      background-color: #434B5C;\n",
              "      box-shadow: 0px 1px 3px 1px rgba(0, 0, 0, 0.15);\n",
              "      filter: drop-shadow(0px 1px 2px rgba(0, 0, 0, 0.3));\n",
              "      fill: #FFFFFF;\n",
              "    }\n",
              "  </style>\n",
              "\n",
              "      <script>\n",
              "        const buttonEl =\n",
              "          document.querySelector('#df-45583de7-d083-4099-98d6-107196488a9b button.colab-df-convert');\n",
              "        buttonEl.style.display =\n",
              "          google.colab.kernel.accessAllowed ? 'block' : 'none';\n",
              "\n",
              "        async function convertToInteractive(key) {\n",
              "          const element = document.querySelector('#df-45583de7-d083-4099-98d6-107196488a9b');\n",
              "          const dataTable =\n",
              "            await google.colab.kernel.invokeFunction('convertToInteractive',\n",
              "                                                     [key], {});\n",
              "          if (!dataTable) return;\n",
              "\n",
              "          const docLinkHtml = 'Like what you see? Visit the ' +\n",
              "            '<a target=\"_blank\" href=https://colab.research.google.com/notebooks/data_table.ipynb>data table notebook</a>'\n",
              "            + ' to learn more about interactive tables.';\n",
              "          element.innerHTML = '';\n",
              "          dataTable['output_type'] = 'display_data';\n",
              "          await google.colab.output.renderOutput(dataTable, element);\n",
              "          const docLink = document.createElement('div');\n",
              "          docLink.innerHTML = docLinkHtml;\n",
              "          element.appendChild(docLink);\n",
              "        }\n",
              "      </script>\n",
              "    </div>\n",
              "  </div>\n",
              "  "
            ]
          },
          "metadata": {},
          "execution_count": 9
        }
      ]
    },
    {
      "cell_type": "markdown",
      "source": [
        "Convert categorical columns into their one-hot encoded versions"
      ],
      "metadata": {
        "id": "8tbAjlb2U_PT"
      }
    },
    {
      "cell_type": "code",
      "source": [
        "df_encoded = pd.get_dummies(df_nn)\n",
        "df_encoded"
      ],
      "metadata": {
        "execution": {
          "iopub.status.busy": "2023-04-30T08:33:50.335572Z",
          "iopub.execute_input": "2023-04-30T08:33:50.336817Z",
          "iopub.status.idle": "2023-04-30T08:33:50.349409Z",
          "shell.execute_reply.started": "2023-04-30T08:33:50.336755Z",
          "shell.execute_reply": "2023-04-30T08:33:50.348213Z"
        },
        "trusted": true,
        "id": "shlrP4pTU_PT",
        "colab": {
          "base_uri": "https://localhost:8080/"
        },
        "outputId": "cff266ea-6493-4e4a-b4eb-c1be9f142b7d"
      },
      "execution_count": 10,
      "outputs": [
        {
          "output_type": "execute_result",
          "data": {
            "text/plain": [
              "      Year  Life expectancy   Adult Mortality  infant deaths  Alcohol  \\\n",
              "3     2010              72.8             18.0              0     9.80   \n",
              "4     2013              67.1            192.0              0     0.01   \n",
              "7     2005              73.1            144.0             15     4.38   \n",
              "11    2012              63.4              3.0              2     0.01   \n",
              "12    2014              76.6            122.0             31     5.26   \n",
              "...    ...               ...              ...            ...      ...   \n",
              "2481  2009              72.8            166.0              0     2.83   \n",
              "2485  2009              56.0            276.0             55     0.59   \n",
              "2488  2008              64.5            235.0              6     2.40   \n",
              "2490  2007              48.2            375.0             87     6.35   \n",
              "2492  2000              72.9            112.0              4     1.21   \n",
              "\n",
              "      percentage expenditure  Hepatitis B  Measles    BMI   \\\n",
              "3                1109.969508         91.0         0   58.9   \n",
              "4                 200.660099         97.0         0   29.3   \n",
              "7                 531.980818         93.0         0    5.5   \n",
              "11                 12.834474         95.0         7   36.2   \n",
              "12                168.173753         84.0         3   62.8   \n",
              "...                      ...          ...       ...    ...   \n",
              "2481              624.236183         99.0        15    3.2   \n",
              "2485               84.634389         71.0      2939    2.2   \n",
              "2488               34.239794         96.0         0   42.7   \n",
              "2490              184.821345         73.0      1014   18.8   \n",
              "2492              264.784220         94.0        47   48.1   \n",
              "\n",
              "      under-five deaths   ...  Country_Turkmenistan  Country_Uganda  \\\n",
              "3                      0  ...                     0               0   \n",
              "4                      0  ...                     0               0   \n",
              "7                     18  ...                     0               0   \n",
              "11                     3  ...                     0               0   \n",
              "12                    36  ...                     0               0   \n",
              "...                  ...  ...                   ...             ...   \n",
              "2481                   0  ...                     0               0   \n",
              "2485                  93  ...                     0               0   \n",
              "2488                   8  ...                     1               0   \n",
              "2490                 138  ...                     0               0   \n",
              "2492                   5  ...                     0               0   \n",
              "\n",
              "      Country_Ukraine  Country_Uruguay  Country_Uzbekistan  Country_Vanuatu  \\\n",
              "3                   0                0                   0                0   \n",
              "4                   0                0                   0                0   \n",
              "7                   0                0                   0                0   \n",
              "11                  0                0                   0                0   \n",
              "12                  0                0                   0                0   \n",
              "...               ...              ...                 ...              ...   \n",
              "2481                0                0                   0                0   \n",
              "2485                0                0                   0                0   \n",
              "2488                0                0                   0                0   \n",
              "2490                0                0                   0                0   \n",
              "2492                0                0                   0                0   \n",
              "\n",
              "      Country_Zambia  Country_Zimbabwe  Status_Developed  Status_Developing  \n",
              "3                  0                 0                 1                  0  \n",
              "4                  0                 0                 0                  1  \n",
              "7                  0                 0                 0                  1  \n",
              "11                 0                 0                 0                  1  \n",
              "12                 0                 0                 0                  1  \n",
              "...              ...               ...               ...                ...  \n",
              "2481               0                 0                 0                  1  \n",
              "2485               0                 0                 0                  1  \n",
              "2488               0                 0                 0                  1  \n",
              "2490               0                 0                 0                  1  \n",
              "2492               0                 0                 0                  1  \n",
              "\n",
              "[1415 rows x 155 columns]"
            ],
            "text/html": [
              "\n",
              "  <div id=\"df-199f6e8e-0294-4503-b3e4-d6dc8680e3a9\">\n",
              "    <div class=\"colab-df-container\">\n",
              "      <div>\n",
              "<style scoped>\n",
              "    .dataframe tbody tr th:only-of-type {\n",
              "        vertical-align: middle;\n",
              "    }\n",
              "\n",
              "    .dataframe tbody tr th {\n",
              "        vertical-align: top;\n",
              "    }\n",
              "\n",
              "    .dataframe thead th {\n",
              "        text-align: right;\n",
              "    }\n",
              "</style>\n",
              "<table border=\"1\" class=\"dataframe\">\n",
              "  <thead>\n",
              "    <tr style=\"text-align: right;\">\n",
              "      <th></th>\n",
              "      <th>Year</th>\n",
              "      <th>Life expectancy</th>\n",
              "      <th>Adult Mortality</th>\n",
              "      <th>infant deaths</th>\n",
              "      <th>Alcohol</th>\n",
              "      <th>percentage expenditure</th>\n",
              "      <th>Hepatitis B</th>\n",
              "      <th>Measles</th>\n",
              "      <th>BMI</th>\n",
              "      <th>under-five deaths</th>\n",
              "      <th>...</th>\n",
              "      <th>Country_Turkmenistan</th>\n",
              "      <th>Country_Uganda</th>\n",
              "      <th>Country_Ukraine</th>\n",
              "      <th>Country_Uruguay</th>\n",
              "      <th>Country_Uzbekistan</th>\n",
              "      <th>Country_Vanuatu</th>\n",
              "      <th>Country_Zambia</th>\n",
              "      <th>Country_Zimbabwe</th>\n",
              "      <th>Status_Developed</th>\n",
              "      <th>Status_Developing</th>\n",
              "    </tr>\n",
              "  </thead>\n",
              "  <tbody>\n",
              "    <tr>\n",
              "      <th>3</th>\n",
              "      <td>2010</td>\n",
              "      <td>72.8</td>\n",
              "      <td>18.0</td>\n",
              "      <td>0</td>\n",
              "      <td>9.80</td>\n",
              "      <td>1109.969508</td>\n",
              "      <td>91.0</td>\n",
              "      <td>0</td>\n",
              "      <td>58.9</td>\n",
              "      <td>0</td>\n",
              "      <td>...</td>\n",
              "      <td>0</td>\n",
              "      <td>0</td>\n",
              "      <td>0</td>\n",
              "      <td>0</td>\n",
              "      <td>0</td>\n",
              "      <td>0</td>\n",
              "      <td>0</td>\n",
              "      <td>0</td>\n",
              "      <td>1</td>\n",
              "      <td>0</td>\n",
              "    </tr>\n",
              "    <tr>\n",
              "      <th>4</th>\n",
              "      <td>2013</td>\n",
              "      <td>67.1</td>\n",
              "      <td>192.0</td>\n",
              "      <td>0</td>\n",
              "      <td>0.01</td>\n",
              "      <td>200.660099</td>\n",
              "      <td>97.0</td>\n",
              "      <td>0</td>\n",
              "      <td>29.3</td>\n",
              "      <td>0</td>\n",
              "      <td>...</td>\n",
              "      <td>0</td>\n",
              "      <td>0</td>\n",
              "      <td>0</td>\n",
              "      <td>0</td>\n",
              "      <td>0</td>\n",
              "      <td>0</td>\n",
              "      <td>0</td>\n",
              "      <td>0</td>\n",
              "      <td>0</td>\n",
              "      <td>1</td>\n",
              "    </tr>\n",
              "    <tr>\n",
              "      <th>7</th>\n",
              "      <td>2005</td>\n",
              "      <td>73.1</td>\n",
              "      <td>144.0</td>\n",
              "      <td>15</td>\n",
              "      <td>4.38</td>\n",
              "      <td>531.980818</td>\n",
              "      <td>93.0</td>\n",
              "      <td>0</td>\n",
              "      <td>5.5</td>\n",
              "      <td>18</td>\n",
              "      <td>...</td>\n",
              "      <td>0</td>\n",
              "      <td>0</td>\n",
              "      <td>0</td>\n",
              "      <td>0</td>\n",
              "      <td>0</td>\n",
              "      <td>0</td>\n",
              "      <td>0</td>\n",
              "      <td>0</td>\n",
              "      <td>0</td>\n",
              "      <td>1</td>\n",
              "    </tr>\n",
              "    <tr>\n",
              "      <th>11</th>\n",
              "      <td>2012</td>\n",
              "      <td>63.4</td>\n",
              "      <td>3.0</td>\n",
              "      <td>2</td>\n",
              "      <td>0.01</td>\n",
              "      <td>12.834474</td>\n",
              "      <td>95.0</td>\n",
              "      <td>7</td>\n",
              "      <td>36.2</td>\n",
              "      <td>3</td>\n",
              "      <td>...</td>\n",
              "      <td>0</td>\n",
              "      <td>0</td>\n",
              "      <td>0</td>\n",
              "      <td>0</td>\n",
              "      <td>0</td>\n",
              "      <td>0</td>\n",
              "      <td>0</td>\n",
              "      <td>0</td>\n",
              "      <td>0</td>\n",
              "      <td>1</td>\n",
              "    </tr>\n",
              "    <tr>\n",
              "      <th>12</th>\n",
              "      <td>2014</td>\n",
              "      <td>76.6</td>\n",
              "      <td>122.0</td>\n",
              "      <td>31</td>\n",
              "      <td>5.26</td>\n",
              "      <td>168.173753</td>\n",
              "      <td>84.0</td>\n",
              "      <td>3</td>\n",
              "      <td>62.8</td>\n",
              "      <td>36</td>\n",
              "      <td>...</td>\n",
              "      <td>0</td>\n",
              "      <td>0</td>\n",
              "      <td>0</td>\n",
              "      <td>0</td>\n",
              "      <td>0</td>\n",
              "      <td>0</td>\n",
              "      <td>0</td>\n",
              "      <td>0</td>\n",
              "      <td>0</td>\n",
              "      <td>1</td>\n",
              "    </tr>\n",
              "    <tr>\n",
              "      <th>...</th>\n",
              "      <td>...</td>\n",
              "      <td>...</td>\n",
              "      <td>...</td>\n",
              "      <td>...</td>\n",
              "      <td>...</td>\n",
              "      <td>...</td>\n",
              "      <td>...</td>\n",
              "      <td>...</td>\n",
              "      <td>...</td>\n",
              "      <td>...</td>\n",
              "      <td>...</td>\n",
              "      <td>...</td>\n",
              "      <td>...</td>\n",
              "      <td>...</td>\n",
              "      <td>...</td>\n",
              "      <td>...</td>\n",
              "      <td>...</td>\n",
              "      <td>...</td>\n",
              "      <td>...</td>\n",
              "      <td>...</td>\n",
              "      <td>...</td>\n",
              "    </tr>\n",
              "    <tr>\n",
              "      <th>2481</th>\n",
              "      <td>2009</td>\n",
              "      <td>72.8</td>\n",
              "      <td>166.0</td>\n",
              "      <td>0</td>\n",
              "      <td>2.83</td>\n",
              "      <td>624.236183</td>\n",
              "      <td>99.0</td>\n",
              "      <td>15</td>\n",
              "      <td>3.2</td>\n",
              "      <td>0</td>\n",
              "      <td>...</td>\n",
              "      <td>0</td>\n",
              "      <td>0</td>\n",
              "      <td>0</td>\n",
              "      <td>0</td>\n",
              "      <td>0</td>\n",
              "      <td>0</td>\n",
              "      <td>0</td>\n",
              "      <td>0</td>\n",
              "      <td>0</td>\n",
              "      <td>1</td>\n",
              "    </tr>\n",
              "    <tr>\n",
              "      <th>2485</th>\n",
              "      <td>2009</td>\n",
              "      <td>56.0</td>\n",
              "      <td>276.0</td>\n",
              "      <td>55</td>\n",
              "      <td>0.59</td>\n",
              "      <td>84.634389</td>\n",
              "      <td>71.0</td>\n",
              "      <td>2939</td>\n",
              "      <td>2.2</td>\n",
              "      <td>93</td>\n",
              "      <td>...</td>\n",
              "      <td>0</td>\n",
              "      <td>0</td>\n",
              "      <td>0</td>\n",
              "      <td>0</td>\n",
              "      <td>0</td>\n",
              "      <td>0</td>\n",
              "      <td>0</td>\n",
              "      <td>0</td>\n",
              "      <td>0</td>\n",
              "      <td>1</td>\n",
              "    </tr>\n",
              "    <tr>\n",
              "      <th>2488</th>\n",
              "      <td>2008</td>\n",
              "      <td>64.5</td>\n",
              "      <td>235.0</td>\n",
              "      <td>6</td>\n",
              "      <td>2.40</td>\n",
              "      <td>34.239794</td>\n",
              "      <td>96.0</td>\n",
              "      <td>0</td>\n",
              "      <td>42.7</td>\n",
              "      <td>8</td>\n",
              "      <td>...</td>\n",
              "      <td>1</td>\n",
              "      <td>0</td>\n",
              "      <td>0</td>\n",
              "      <td>0</td>\n",
              "      <td>0</td>\n",
              "      <td>0</td>\n",
              "      <td>0</td>\n",
              "      <td>0</td>\n",
              "      <td>0</td>\n",
              "      <td>1</td>\n",
              "    </tr>\n",
              "    <tr>\n",
              "      <th>2490</th>\n",
              "      <td>2007</td>\n",
              "      <td>48.2</td>\n",
              "      <td>375.0</td>\n",
              "      <td>87</td>\n",
              "      <td>6.35</td>\n",
              "      <td>184.821345</td>\n",
              "      <td>73.0</td>\n",
              "      <td>1014</td>\n",
              "      <td>18.8</td>\n",
              "      <td>138</td>\n",
              "      <td>...</td>\n",
              "      <td>0</td>\n",
              "      <td>0</td>\n",
              "      <td>0</td>\n",
              "      <td>0</td>\n",
              "      <td>0</td>\n",
              "      <td>0</td>\n",
              "      <td>0</td>\n",
              "      <td>0</td>\n",
              "      <td>0</td>\n",
              "      <td>1</td>\n",
              "    </tr>\n",
              "    <tr>\n",
              "      <th>2492</th>\n",
              "      <td>2000</td>\n",
              "      <td>72.9</td>\n",
              "      <td>112.0</td>\n",
              "      <td>4</td>\n",
              "      <td>1.21</td>\n",
              "      <td>264.784220</td>\n",
              "      <td>94.0</td>\n",
              "      <td>47</td>\n",
              "      <td>48.1</td>\n",
              "      <td>5</td>\n",
              "      <td>...</td>\n",
              "      <td>0</td>\n",
              "      <td>0</td>\n",
              "      <td>0</td>\n",
              "      <td>0</td>\n",
              "      <td>0</td>\n",
              "      <td>0</td>\n",
              "      <td>0</td>\n",
              "      <td>0</td>\n",
              "      <td>0</td>\n",
              "      <td>1</td>\n",
              "    </tr>\n",
              "  </tbody>\n",
              "</table>\n",
              "<p>1415 rows × 155 columns</p>\n",
              "</div>\n",
              "      <button class=\"colab-df-convert\" onclick=\"convertToInteractive('df-199f6e8e-0294-4503-b3e4-d6dc8680e3a9')\"\n",
              "              title=\"Convert this dataframe to an interactive table.\"\n",
              "              style=\"display:none;\">\n",
              "        \n",
              "  <svg xmlns=\"http://www.w3.org/2000/svg\" height=\"24px\"viewBox=\"0 0 24 24\"\n",
              "       width=\"24px\">\n",
              "    <path d=\"M0 0h24v24H0V0z\" fill=\"none\"/>\n",
              "    <path d=\"M18.56 5.44l.94 2.06.94-2.06 2.06-.94-2.06-.94-.94-2.06-.94 2.06-2.06.94zm-11 1L8.5 8.5l.94-2.06 2.06-.94-2.06-.94L8.5 2.5l-.94 2.06-2.06.94zm10 10l.94 2.06.94-2.06 2.06-.94-2.06-.94-.94-2.06-.94 2.06-2.06.94z\"/><path d=\"M17.41 7.96l-1.37-1.37c-.4-.4-.92-.59-1.43-.59-.52 0-1.04.2-1.43.59L10.3 9.45l-7.72 7.72c-.78.78-.78 2.05 0 2.83L4 21.41c.39.39.9.59 1.41.59.51 0 1.02-.2 1.41-.59l7.78-7.78 2.81-2.81c.8-.78.8-2.07 0-2.86zM5.41 20L4 18.59l7.72-7.72 1.47 1.35L5.41 20z\"/>\n",
              "  </svg>\n",
              "      </button>\n",
              "      \n",
              "  <style>\n",
              "    .colab-df-container {\n",
              "      display:flex;\n",
              "      flex-wrap:wrap;\n",
              "      gap: 12px;\n",
              "    }\n",
              "\n",
              "    .colab-df-convert {\n",
              "      background-color: #E8F0FE;\n",
              "      border: none;\n",
              "      border-radius: 50%;\n",
              "      cursor: pointer;\n",
              "      display: none;\n",
              "      fill: #1967D2;\n",
              "      height: 32px;\n",
              "      padding: 0 0 0 0;\n",
              "      width: 32px;\n",
              "    }\n",
              "\n",
              "    .colab-df-convert:hover {\n",
              "      background-color: #E2EBFA;\n",
              "      box-shadow: 0px 1px 2px rgba(60, 64, 67, 0.3), 0px 1px 3px 1px rgba(60, 64, 67, 0.15);\n",
              "      fill: #174EA6;\n",
              "    }\n",
              "\n",
              "    [theme=dark] .colab-df-convert {\n",
              "      background-color: #3B4455;\n",
              "      fill: #D2E3FC;\n",
              "    }\n",
              "\n",
              "    [theme=dark] .colab-df-convert:hover {\n",
              "      background-color: #434B5C;\n",
              "      box-shadow: 0px 1px 3px 1px rgba(0, 0, 0, 0.15);\n",
              "      filter: drop-shadow(0px 1px 2px rgba(0, 0, 0, 0.3));\n",
              "      fill: #FFFFFF;\n",
              "    }\n",
              "  </style>\n",
              "\n",
              "      <script>\n",
              "        const buttonEl =\n",
              "          document.querySelector('#df-199f6e8e-0294-4503-b3e4-d6dc8680e3a9 button.colab-df-convert');\n",
              "        buttonEl.style.display =\n",
              "          google.colab.kernel.accessAllowed ? 'block' : 'none';\n",
              "\n",
              "        async function convertToInteractive(key) {\n",
              "          const element = document.querySelector('#df-199f6e8e-0294-4503-b3e4-d6dc8680e3a9');\n",
              "          const dataTable =\n",
              "            await google.colab.kernel.invokeFunction('convertToInteractive',\n",
              "                                                     [key], {});\n",
              "          if (!dataTable) return;\n",
              "\n",
              "          const docLinkHtml = 'Like what you see? Visit the ' +\n",
              "            '<a target=\"_blank\" href=https://colab.research.google.com/notebooks/data_table.ipynb>data table notebook</a>'\n",
              "            + ' to learn more about interactive tables.';\n",
              "          element.innerHTML = '';\n",
              "          dataTable['output_type'] = 'display_data';\n",
              "          await google.colab.output.renderOutput(dataTable, element);\n",
              "          const docLink = document.createElement('div');\n",
              "          docLink.innerHTML = docLinkHtml;\n",
              "          element.appendChild(docLink);\n",
              "        }\n",
              "      </script>\n",
              "    </div>\n",
              "  </div>\n",
              "  "
            ]
          },
          "metadata": {},
          "execution_count": 10
        }
      ]
    },
    {
      "cell_type": "markdown",
      "source": [
        "Convert the dataframe into two numpy arrays (called `x` and `y`).<br>\n",
        "To make the first array, remove the \"Life expectancy\" column, and convert the remaining dataframe to a numpy array.<br>\n",
        "Then, use the removed column to make another numpy array (`y`)."
      ],
      "metadata": {
        "id": "C6gaeeHxU_PT"
      }
    },
    {
      "cell_type": "code",
      "source": [
        "x = df_encoded.drop('Life expectancy ', axis=1).to_numpy()\n",
        "x"
      ],
      "metadata": {
        "execution": {
          "iopub.status.busy": "2023-04-30T08:33:57.363830Z",
          "iopub.execute_input": "2023-04-30T08:33:57.364230Z",
          "iopub.status.idle": "2023-04-30T08:33:57.373246Z",
          "shell.execute_reply.started": "2023-04-30T08:33:57.364195Z",
          "shell.execute_reply": "2023-04-30T08:33:57.372021Z"
        },
        "trusted": true,
        "id": "dbN1zZ-dU_PT",
        "colab": {
          "base_uri": "https://localhost:8080/"
        },
        "outputId": "05df9a87-d04d-4623-ad36-4312f3406a4c"
      },
      "execution_count": 11,
      "outputs": [
        {
          "output_type": "execute_result",
          "data": {
            "text/plain": [
              "array([[2.010e+03, 1.800e+01, 0.000e+00, ..., 0.000e+00, 1.000e+00,\n",
              "        0.000e+00],\n",
              "       [2.013e+03, 1.920e+02, 0.000e+00, ..., 0.000e+00, 0.000e+00,\n",
              "        1.000e+00],\n",
              "       [2.005e+03, 1.440e+02, 1.500e+01, ..., 0.000e+00, 0.000e+00,\n",
              "        1.000e+00],\n",
              "       ...,\n",
              "       [2.008e+03, 2.350e+02, 6.000e+00, ..., 0.000e+00, 0.000e+00,\n",
              "        1.000e+00],\n",
              "       [2.007e+03, 3.750e+02, 8.700e+01, ..., 0.000e+00, 0.000e+00,\n",
              "        1.000e+00],\n",
              "       [2.000e+03, 1.120e+02, 4.000e+00, ..., 0.000e+00, 0.000e+00,\n",
              "        1.000e+00]])"
            ]
          },
          "metadata": {},
          "execution_count": 11
        }
      ]
    },
    {
      "cell_type": "code",
      "source": [
        "y = df_encoded['Life expectancy '].to_numpy()\n",
        "y"
      ],
      "metadata": {
        "colab": {
          "base_uri": "https://localhost:8080/"
        },
        "id": "WnSNJ3NtD9AX",
        "outputId": "5f8e71db-f614-4f94-dce7-806150720433"
      },
      "execution_count": 12,
      "outputs": [
        {
          "output_type": "execute_result",
          "data": {
            "text/plain": [
              "array([72.8, 67.1, 73.1, ..., 64.5, 48.2, 72.9])"
            ]
          },
          "metadata": {},
          "execution_count": 12
        }
      ]
    },
    {
      "cell_type": "markdown",
      "source": [
        "Normalize the data"
      ],
      "metadata": {
        "id": "X0OE0dA1U_PT"
      }
    },
    {
      "cell_type": "code",
      "source": [
        "x_scaled = preprocessing.scale(x)\n",
        "x_scaled"
      ],
      "metadata": {
        "execution": {
          "iopub.status.busy": "2023-04-30T08:34:01.194507Z",
          "iopub.execute_input": "2023-04-30T08:34:01.195165Z",
          "iopub.status.idle": "2023-04-30T08:34:01.204086Z",
          "shell.execute_reply.started": "2023-04-30T08:34:01.195123Z",
          "shell.execute_reply": "2023-04-30T08:34:01.202988Z"
        },
        "trusted": true,
        "id": "SBYXkQCbU_PT",
        "colab": {
          "base_uri": "https://localhost:8080/"
        },
        "outputId": "bf8b9cd6-2bc9-4a46-a59c-32b5352cfb57"
      },
      "execution_count": 13,
      "outputs": [
        {
          "output_type": "execute_result",
          "data": {
            "text/plain": [
              "array([[ 0.52684427, -1.20551632, -0.27267108, ..., -0.08851417,\n",
              "         2.49387004, -2.49387004],\n",
              "       [ 1.26862003,  0.19437979, -0.27267108, ..., -0.08851417,\n",
              "        -0.40098321,  0.40098321],\n",
              "       [-0.70944867, -0.19179845, -0.15310568, ..., -0.08851417,\n",
              "        -0.40098321,  0.40098321],\n",
              "       ...,\n",
              "       [ 0.03232709,  0.54033113, -0.22484492, ..., -0.08851417,\n",
              "        -0.40098321,  0.40098321],\n",
              "       [-0.21493149,  1.66668432,  0.42080824, ..., -0.08851417,\n",
              "        -0.40098321,  0.40098321],\n",
              "       [-1.94574161, -0.44925061, -0.24078697, ..., -0.08851417,\n",
              "        -0.40098321,  0.40098321]])"
            ]
          },
          "metadata": {},
          "execution_count": 13
        }
      ]
    },
    {
      "cell_type": "markdown",
      "source": [
        "# Model Training"
      ],
      "metadata": {
        "id": "0GwHCHMlU_PU"
      }
    },
    {
      "cell_type": "markdown",
      "source": [
        "Split the data to training (80%) and testing (20%) parts (5 points)"
      ],
      "metadata": {
        "id": "IksGhWU6U_PU"
      }
    },
    {
      "cell_type": "code",
      "source": [
        "x_train, x_test, y_train, y_test = train_test_split(x_scaled, y, test_size=0.2, random_state=1)"
      ],
      "metadata": {
        "execution": {
          "iopub.status.busy": "2023-04-30T08:34:04.739033Z",
          "iopub.execute_input": "2023-04-30T08:34:04.739581Z",
          "iopub.status.idle": "2023-04-30T08:34:04.748932Z",
          "shell.execute_reply.started": "2023-04-30T08:34:04.739529Z",
          "shell.execute_reply": "2023-04-30T08:34:04.747440Z"
        },
        "trusted": true,
        "id": "YAdRX8VVU_PU"
      },
      "execution_count": 14,
      "outputs": []
    },
    {
      "cell_type": "markdown",
      "source": [
        "# Common Regression Class"
      ],
      "metadata": {
        "id": "LMBCL_FAU_PU"
      }
    },
    {
      "cell_type": "markdown",
      "source": [
        "This is a regression class and you do not need to change its code. You have to fully understand it and then create new classes for rigde and lasso regression which inherit from this class.\n",
        "For initialization you have to specify learning rate, number of iteration, and a regularization object."
      ],
      "metadata": {
        "id": "lVm0vp2_U_PU"
      }
    },
    {
      "cell_type": "code",
      "source": [
        "class Regression:\n",
        "    def __init__(self, learning_rate, iteration, regularization):\n",
        "        \n",
        "        self.N = None # number of samples\n",
        "        self.n = None # number of features\n",
        "        self.w = None # initial weights\n",
        "        self.regularization = regularization # will be the l1/l2 regularization class according to the regression model\n",
        "        self.lr = learning_rate\n",
        "        self.it = iteration\n",
        "\n",
        "    def loss_function(self, y, y_pred):\n",
        "        return (1 / (2*self.N)) * np.sum(np.square(y_pred - y)) + self.regularization(self.w)\n",
        "    \n",
        "    def hypothesis(self, weights, X):\n",
        "        return np.dot(X, weights)\n",
        "\n",
        "    def train(self, X, y):\n",
        "        # Target value should be in the shape of (n, 1) not (n, ).\n",
        "\n",
        "        # Insert constant ones for bias weights.\n",
        "        X = np.insert(X, 0, 1, axis=1)\n",
        "\n",
        "        self.N = X.shape[0]\n",
        "        self.n = X.shape[1]\n",
        "        self.w = np.zeros((self.n , 1))\n",
        "\n",
        "        for it in range(1, self.it+1):\n",
        "            y_pred = self.hypothesis(self.w, X)\n",
        "            cost = self.loss_function(y, y_pred)\n",
        "            dw = (1/self.N) * np.dot(X.T, (y_pred - y)) + self.regularization.derivation(self.w)\n",
        "            self.w = self.w - self.lr * dw\n",
        "\n",
        "            if it % 10 == 0:\n",
        "                print(\"The loss function for the iteration {}----->{} :)\".format(it, cost))\n",
        "    \n",
        "    def predict(self, test_X):\n",
        "        # Insert constant ones for bias weights.\n",
        "        test_X = np.insert(test_X, 0, 1, axis=1)\n",
        "        y_pred = self.hypothesis(self.w, test_X)\n",
        "        return y_pred"
      ],
      "metadata": {
        "execution": {
          "iopub.status.busy": "2023-04-30T08:34:15.969955Z",
          "iopub.execute_input": "2023-04-30T08:34:15.970344Z",
          "iopub.status.idle": "2023-04-30T08:34:15.982914Z",
          "shell.execute_reply.started": "2023-04-30T08:34:15.970307Z",
          "shell.execute_reply": "2023-04-30T08:34:15.981717Z"
        },
        "trusted": true,
        "id": "G-YfrGzAU_PU"
      },
      "execution_count": 15,
      "outputs": []
    },
    {
      "cell_type": "markdown",
      "source": [
        "# Regularization Classes (20 points)"
      ],
      "metadata": {
        "id": "HE6pCA4MU_PU"
      }
    },
    {
      "cell_type": "markdown",
      "source": [
        "You have to implement l2/l1 regularization."
      ],
      "metadata": {
        "id": "101Ics8WU_PU"
      }
    },
    {
      "cell_type": "code",
      "source": [
        "class l1_regularization:\n",
        "    \"\"\"Regularization used for Lasso Regression\"\"\"\n",
        "    def __init__(self, lamda):\n",
        "        self.lamda = lamda\n",
        "\n",
        "    def __call__(self, weights):\n",
        "        \"This will be returned when we call this class.\"\n",
        "        ## TO DO\n",
        "        return self.lamda * np.linalg.norm(weights, ord=1)\n",
        "        \n",
        "    \n",
        "    def derivation(self, weights):\n",
        "        \"Derivation of the regulariozation function.\"\n",
        "        ## TO DO\n",
        "        return self.lamda * np.sign(weights)\n",
        "\n",
        "\n",
        "class l2_regularization:\n",
        "    \"\"\"Regularization used for Ridge Regression\"\"\"\n",
        "    def __init__(self, lamda):\n",
        "        self.lamda = lamda\n",
        "\n",
        "    def __call__(self, weights):\n",
        "        \"This will be retuned when we call this class.\"\n",
        "        ## TO DO\n",
        "        return self.lamda * np.linalg.norm(weights, ord=2)\n",
        "    \n",
        "    def derivation(self, weights):\n",
        "        \"Derivation of the regulariozation function.\"\n",
        "        ## TO DO\n",
        "        return self.lamda * 2 * weights"
      ],
      "metadata": {
        "execution": {
          "iopub.status.busy": "2023-04-30T08:34:19.277529Z",
          "iopub.execute_input": "2023-04-30T08:34:19.277915Z",
          "iopub.status.idle": "2023-04-30T08:34:19.286725Z",
          "shell.execute_reply.started": "2023-04-30T08:34:19.277881Z",
          "shell.execute_reply": "2023-04-30T08:34:19.285489Z"
        },
        "trusted": true,
        "id": "KkJ1I97gU_PU"
      },
      "execution_count": 16,
      "outputs": []
    },
    {
      "cell_type": "markdown",
      "source": [
        "# Lasso Regression from scratch (5 points)"
      ],
      "metadata": {
        "id": "MYUC1u_FU_PU"
      }
    },
    {
      "cell_type": "markdown",
      "source": [
        "Train a lasso regression model using your own code and the following class."
      ],
      "metadata": {
        "id": "UxjF4g7rU_PU"
      }
    },
    {
      "cell_type": "code",
      "source": [
        "class LassoRegression(Regression):\n",
        "    def __init__(self, lamda, learning_rate, iteration):\n",
        "        self.regularization = l1_regularization(lamda)\n",
        "        super(LassoRegression, self).__init__(learning_rate, iteration, self.regularization)"
      ],
      "metadata": {
        "execution": {
          "iopub.status.busy": "2023-04-30T08:34:23.921661Z",
          "iopub.execute_input": "2023-04-30T08:34:23.922713Z",
          "iopub.status.idle": "2023-04-30T08:34:23.928316Z",
          "shell.execute_reply.started": "2023-04-30T08:34:23.922672Z",
          "shell.execute_reply": "2023-04-30T08:34:23.927223Z"
        },
        "trusted": true,
        "id": "Zl180mzhU_PU"
      },
      "execution_count": 17,
      "outputs": []
    },
    {
      "cell_type": "code",
      "source": [
        "y_train_reshaped = np.reshape(y_train, (-1, 1))"
      ],
      "metadata": {
        "id": "ZL04edlYOyhW"
      },
      "execution_count": 18,
      "outputs": []
    },
    {
      "cell_type": "code",
      "source": [
        "lr_model_scratch = LassoRegression(0.1, 0.1, 100)\n",
        "lr_model_scratch.train(x_train, y_train_reshaped)"
      ],
      "metadata": {
        "execution": {
          "iopub.status.busy": "2023-04-30T08:34:43.634507Z",
          "iopub.execute_input": "2023-04-30T08:34:43.634909Z",
          "iopub.status.idle": "2023-04-30T08:34:43.669074Z",
          "shell.execute_reply.started": "2023-04-30T08:34:43.634873Z",
          "shell.execute_reply": "2023-04-30T08:34:43.667346Z"
        },
        "trusted": true,
        "id": "Vm0z4ECLU_PV",
        "colab": {
          "base_uri": "https://localhost:8080/"
        },
        "outputId": "618e6f48-04c3-4d90-e6b2-91506070f38b"
      },
      "execution_count": 19,
      "outputs": [
        {
          "output_type": "stream",
          "name": "stdout",
          "text": [
            "The loss function for the iteration 10----->370.8314322304017 :)\n",
            "The loss function for the iteration 20----->61.72419842609418 :)\n",
            "The loss function for the iteration 30----->20.33570228530465 :)\n",
            "The loss function for the iteration 40----->13.97658759722157 :)\n",
            "The loss function for the iteration 50----->12.878870302373329 :)\n",
            "The loss function for the iteration 60----->12.645401416948932 :)\n",
            "The loss function for the iteration 70----->12.580812266418913 :)\n",
            "The loss function for the iteration 80----->12.550578347197838 :)\n",
            "The loss function for the iteration 90----->12.525984292330785 :)\n",
            "The loss function for the iteration 100----->12.509291864145165 :)\n"
          ]
        }
      ]
    },
    {
      "cell_type": "markdown",
      "source": [
        "# Lasso Regression using skicit-learn (5 points)"
      ],
      "metadata": {
        "id": "gxeSokECU_PW"
      }
    },
    {
      "cell_type": "markdown",
      "source": [
        "Use `sklearn` to train a Lasso Regression Model. To determine the best regularization coefficients, use grid-search (or other techniques you've learned till now)."
      ],
      "metadata": {
        "id": "LjkaQEKlU_PW"
      }
    },
    {
      "cell_type": "code",
      "source": [
        "lr_model_sklearn = Lasso()\n",
        "lr_model_sklearn.fit(x_train, y_train)"
      ],
      "metadata": {
        "execution": {
          "iopub.status.busy": "2023-04-30T08:35:17.374562Z",
          "iopub.execute_input": "2023-04-30T08:35:17.375634Z",
          "iopub.status.idle": "2023-04-30T08:35:17.403838Z",
          "shell.execute_reply.started": "2023-04-30T08:35:17.375589Z",
          "shell.execute_reply": "2023-04-30T08:35:17.401840Z"
        },
        "trusted": true,
        "id": "Q1fX_s6aU_PW",
        "colab": {
          "base_uri": "https://localhost:8080/"
        },
        "outputId": "64f14f7a-3efa-410a-9e39-b9db176a7d19"
      },
      "execution_count": 20,
      "outputs": [
        {
          "output_type": "execute_result",
          "data": {
            "text/plain": [
              "Lasso()"
            ],
            "text/html": [
              "<style>#sk-container-id-1 {color: black;background-color: white;}#sk-container-id-1 pre{padding: 0;}#sk-container-id-1 div.sk-toggleable {background-color: white;}#sk-container-id-1 label.sk-toggleable__label {cursor: pointer;display: block;width: 100%;margin-bottom: 0;padding: 0.3em;box-sizing: border-box;text-align: center;}#sk-container-id-1 label.sk-toggleable__label-arrow:before {content: \"▸\";float: left;margin-right: 0.25em;color: #696969;}#sk-container-id-1 label.sk-toggleable__label-arrow:hover:before {color: black;}#sk-container-id-1 div.sk-estimator:hover label.sk-toggleable__label-arrow:before {color: black;}#sk-container-id-1 div.sk-toggleable__content {max-height: 0;max-width: 0;overflow: hidden;text-align: left;background-color: #f0f8ff;}#sk-container-id-1 div.sk-toggleable__content pre {margin: 0.2em;color: black;border-radius: 0.25em;background-color: #f0f8ff;}#sk-container-id-1 input.sk-toggleable__control:checked~div.sk-toggleable__content {max-height: 200px;max-width: 100%;overflow: auto;}#sk-container-id-1 input.sk-toggleable__control:checked~label.sk-toggleable__label-arrow:before {content: \"▾\";}#sk-container-id-1 div.sk-estimator input.sk-toggleable__control:checked~label.sk-toggleable__label {background-color: #d4ebff;}#sk-container-id-1 div.sk-label input.sk-toggleable__control:checked~label.sk-toggleable__label {background-color: #d4ebff;}#sk-container-id-1 input.sk-hidden--visually {border: 0;clip: rect(1px 1px 1px 1px);clip: rect(1px, 1px, 1px, 1px);height: 1px;margin: -1px;overflow: hidden;padding: 0;position: absolute;width: 1px;}#sk-container-id-1 div.sk-estimator {font-family: monospace;background-color: #f0f8ff;border: 1px dotted black;border-radius: 0.25em;box-sizing: border-box;margin-bottom: 0.5em;}#sk-container-id-1 div.sk-estimator:hover {background-color: #d4ebff;}#sk-container-id-1 div.sk-parallel-item::after {content: \"\";width: 100%;border-bottom: 1px solid gray;flex-grow: 1;}#sk-container-id-1 div.sk-label:hover label.sk-toggleable__label {background-color: #d4ebff;}#sk-container-id-1 div.sk-serial::before {content: \"\";position: absolute;border-left: 1px solid gray;box-sizing: border-box;top: 0;bottom: 0;left: 50%;z-index: 0;}#sk-container-id-1 div.sk-serial {display: flex;flex-direction: column;align-items: center;background-color: white;padding-right: 0.2em;padding-left: 0.2em;position: relative;}#sk-container-id-1 div.sk-item {position: relative;z-index: 1;}#sk-container-id-1 div.sk-parallel {display: flex;align-items: stretch;justify-content: center;background-color: white;position: relative;}#sk-container-id-1 div.sk-item::before, #sk-container-id-1 div.sk-parallel-item::before {content: \"\";position: absolute;border-left: 1px solid gray;box-sizing: border-box;top: 0;bottom: 0;left: 50%;z-index: -1;}#sk-container-id-1 div.sk-parallel-item {display: flex;flex-direction: column;z-index: 1;position: relative;background-color: white;}#sk-container-id-1 div.sk-parallel-item:first-child::after {align-self: flex-end;width: 50%;}#sk-container-id-1 div.sk-parallel-item:last-child::after {align-self: flex-start;width: 50%;}#sk-container-id-1 div.sk-parallel-item:only-child::after {width: 0;}#sk-container-id-1 div.sk-dashed-wrapped {border: 1px dashed gray;margin: 0 0.4em 0.5em 0.4em;box-sizing: border-box;padding-bottom: 0.4em;background-color: white;}#sk-container-id-1 div.sk-label label {font-family: monospace;font-weight: bold;display: inline-block;line-height: 1.2em;}#sk-container-id-1 div.sk-label-container {text-align: center;}#sk-container-id-1 div.sk-container {/* jupyter's `normalize.less` sets `[hidden] { display: none; }` but bootstrap.min.css set `[hidden] { display: none !important; }` so we also need the `!important` here to be able to override the default hidden behavior on the sphinx rendered scikit-learn.org. See: https://github.com/scikit-learn/scikit-learn/issues/21755 */display: inline-block !important;position: relative;}#sk-container-id-1 div.sk-text-repr-fallback {display: none;}</style><div id=\"sk-container-id-1\" class=\"sk-top-container\"><div class=\"sk-text-repr-fallback\"><pre>Lasso()</pre><b>In a Jupyter environment, please rerun this cell to show the HTML representation or trust the notebook. <br />On GitHub, the HTML representation is unable to render, please try loading this page with nbviewer.org.</b></div><div class=\"sk-container\" hidden><div class=\"sk-item\"><div class=\"sk-estimator sk-toggleable\"><input class=\"sk-toggleable__control sk-hidden--visually\" id=\"sk-estimator-id-1\" type=\"checkbox\" checked><label for=\"sk-estimator-id-1\" class=\"sk-toggleable__label sk-toggleable__label-arrow\">Lasso</label><div class=\"sk-toggleable__content\"><pre>Lasso()</pre></div></div></div></div></div>"
            ]
          },
          "metadata": {},
          "execution_count": 20
        }
      ]
    },
    {
      "cell_type": "code",
      "source": [
        "param_grid = {'alpha': np.logspace(-4, 1, 6)}\n",
        "grid_laso = GridSearchCV(Lasso(), param_grid, cv=10)\n",
        "grid_laso.fit(x_train, y_train)"
      ],
      "metadata": {
        "colab": {
          "base_uri": "https://localhost:8080/"
        },
        "id": "zCQPYc7mj7_z",
        "outputId": "28142218-db29-4a8a-e3fb-cec4e3f2fc6f"
      },
      "execution_count": 33,
      "outputs": [
        {
          "output_type": "stream",
          "name": "stderr",
          "text": [
            "/usr/local/lib/python3.10/dist-packages/sklearn/linear_model/_coordinate_descent.py:631: ConvergenceWarning: Objective did not converge. You might want to increase the number of iterations, check the scale of the features or consider increasing regularisation. Duality gap: 1.135e+03, tolerance: 7.765e+00\n",
            "  model = cd_fast.enet_coordinate_descent(\n",
            "/usr/local/lib/python3.10/dist-packages/sklearn/linear_model/_coordinate_descent.py:631: ConvergenceWarning: Objective did not converge. You might want to increase the number of iterations, check the scale of the features or consider increasing regularisation. Duality gap: 1.170e+03, tolerance: 7.831e+00\n",
            "  model = cd_fast.enet_coordinate_descent(\n",
            "/usr/local/lib/python3.10/dist-packages/sklearn/linear_model/_coordinate_descent.py:631: ConvergenceWarning: Objective did not converge. You might want to increase the number of iterations, check the scale of the features or consider increasing regularisation. Duality gap: 1.164e+03, tolerance: 7.791e+00\n",
            "  model = cd_fast.enet_coordinate_descent(\n",
            "/usr/local/lib/python3.10/dist-packages/sklearn/linear_model/_coordinate_descent.py:631: ConvergenceWarning: Objective did not converge. You might want to increase the number of iterations, check the scale of the features or consider increasing regularisation. Duality gap: 1.116e+03, tolerance: 7.631e+00\n",
            "  model = cd_fast.enet_coordinate_descent(\n",
            "/usr/local/lib/python3.10/dist-packages/sklearn/linear_model/_coordinate_descent.py:631: ConvergenceWarning: Objective did not converge. You might want to increase the number of iterations, check the scale of the features or consider increasing regularisation. Duality gap: 1.213e+03, tolerance: 7.987e+00\n",
            "  model = cd_fast.enet_coordinate_descent(\n",
            "/usr/local/lib/python3.10/dist-packages/sklearn/linear_model/_coordinate_descent.py:631: ConvergenceWarning: Objective did not converge. You might want to increase the number of iterations, check the scale of the features or consider increasing regularisation. Duality gap: 1.173e+03, tolerance: 7.694e+00\n",
            "  model = cd_fast.enet_coordinate_descent(\n",
            "/usr/local/lib/python3.10/dist-packages/sklearn/linear_model/_coordinate_descent.py:631: ConvergenceWarning: Objective did not converge. You might want to increase the number of iterations, check the scale of the features or consider increasing regularisation. Duality gap: 1.108e+03, tolerance: 7.893e+00\n",
            "  model = cd_fast.enet_coordinate_descent(\n",
            "/usr/local/lib/python3.10/dist-packages/sklearn/linear_model/_coordinate_descent.py:631: ConvergenceWarning: Objective did not converge. You might want to increase the number of iterations, check the scale of the features or consider increasing regularisation. Duality gap: 1.127e+03, tolerance: 7.873e+00\n",
            "  model = cd_fast.enet_coordinate_descent(\n",
            "/usr/local/lib/python3.10/dist-packages/sklearn/linear_model/_coordinate_descent.py:631: ConvergenceWarning: Objective did not converge. You might want to increase the number of iterations, check the scale of the features or consider increasing regularisation. Duality gap: 1.181e+03, tolerance: 7.773e+00\n",
            "  model = cd_fast.enet_coordinate_descent(\n",
            "/usr/local/lib/python3.10/dist-packages/sklearn/linear_model/_coordinate_descent.py:631: ConvergenceWarning: Objective did not converge. You might want to increase the number of iterations, check the scale of the features or consider increasing regularisation. Duality gap: 1.151e+03, tolerance: 7.867e+00\n",
            "  model = cd_fast.enet_coordinate_descent(\n",
            "/usr/local/lib/python3.10/dist-packages/sklearn/linear_model/_coordinate_descent.py:631: ConvergenceWarning: Objective did not converge. You might want to increase the number of iterations, check the scale of the features or consider increasing regularisation. Duality gap: 3.062e+02, tolerance: 7.765e+00\n",
            "  model = cd_fast.enet_coordinate_descent(\n",
            "/usr/local/lib/python3.10/dist-packages/sklearn/linear_model/_coordinate_descent.py:631: ConvergenceWarning: Objective did not converge. You might want to increase the number of iterations, check the scale of the features or consider increasing regularisation. Duality gap: 4.128e+02, tolerance: 7.831e+00\n",
            "  model = cd_fast.enet_coordinate_descent(\n",
            "/usr/local/lib/python3.10/dist-packages/sklearn/linear_model/_coordinate_descent.py:631: ConvergenceWarning: Objective did not converge. You might want to increase the number of iterations, check the scale of the features or consider increasing regularisation. Duality gap: 1.957e+02, tolerance: 7.791e+00\n",
            "  model = cd_fast.enet_coordinate_descent(\n",
            "/usr/local/lib/python3.10/dist-packages/sklearn/linear_model/_coordinate_descent.py:631: ConvergenceWarning: Objective did not converge. You might want to increase the number of iterations, check the scale of the features or consider increasing regularisation. Duality gap: 1.587e+02, tolerance: 7.631e+00\n",
            "  model = cd_fast.enet_coordinate_descent(\n",
            "/usr/local/lib/python3.10/dist-packages/sklearn/linear_model/_coordinate_descent.py:631: ConvergenceWarning: Objective did not converge. You might want to increase the number of iterations, check the scale of the features or consider increasing regularisation. Duality gap: 3.885e+02, tolerance: 7.987e+00\n",
            "  model = cd_fast.enet_coordinate_descent(\n",
            "/usr/local/lib/python3.10/dist-packages/sklearn/linear_model/_coordinate_descent.py:631: ConvergenceWarning: Objective did not converge. You might want to increase the number of iterations, check the scale of the features or consider increasing regularisation. Duality gap: 2.568e+02, tolerance: 7.694e+00\n",
            "  model = cd_fast.enet_coordinate_descent(\n",
            "/usr/local/lib/python3.10/dist-packages/sklearn/linear_model/_coordinate_descent.py:631: ConvergenceWarning: Objective did not converge. You might want to increase the number of iterations, check the scale of the features or consider increasing regularisation. Duality gap: 2.262e+02, tolerance: 7.893e+00\n",
            "  model = cd_fast.enet_coordinate_descent(\n",
            "/usr/local/lib/python3.10/dist-packages/sklearn/linear_model/_coordinate_descent.py:631: ConvergenceWarning: Objective did not converge. You might want to increase the number of iterations, check the scale of the features or consider increasing regularisation. Duality gap: 3.827e+02, tolerance: 7.873e+00\n",
            "  model = cd_fast.enet_coordinate_descent(\n",
            "/usr/local/lib/python3.10/dist-packages/sklearn/linear_model/_coordinate_descent.py:631: ConvergenceWarning: Objective did not converge. You might want to increase the number of iterations, check the scale of the features or consider increasing regularisation. Duality gap: 3.388e+02, tolerance: 7.773e+00\n",
            "  model = cd_fast.enet_coordinate_descent(\n",
            "/usr/local/lib/python3.10/dist-packages/sklearn/linear_model/_coordinate_descent.py:631: ConvergenceWarning: Objective did not converge. You might want to increase the number of iterations, check the scale of the features or consider increasing regularisation. Duality gap: 3.503e+02, tolerance: 7.867e+00\n",
            "  model = cd_fast.enet_coordinate_descent(\n",
            "/usr/local/lib/python3.10/dist-packages/sklearn/linear_model/_coordinate_descent.py:631: ConvergenceWarning: Objective did not converge. You might want to increase the number of iterations, check the scale of the features or consider increasing regularisation. Duality gap: 1.307e+03, tolerance: 8.679e+00\n",
            "  model = cd_fast.enet_coordinate_descent(\n"
          ]
        },
        {
          "output_type": "execute_result",
          "data": {
            "text/plain": [
              "GridSearchCV(cv=10, estimator=Lasso(),\n",
              "             param_grid={'alpha': array([1.e-04, 1.e-03, 1.e-02, 1.e-01, 1.e+00, 1.e+01])})"
            ],
            "text/html": [
              "<style>#sk-container-id-4 {color: black;background-color: white;}#sk-container-id-4 pre{padding: 0;}#sk-container-id-4 div.sk-toggleable {background-color: white;}#sk-container-id-4 label.sk-toggleable__label {cursor: pointer;display: block;width: 100%;margin-bottom: 0;padding: 0.3em;box-sizing: border-box;text-align: center;}#sk-container-id-4 label.sk-toggleable__label-arrow:before {content: \"▸\";float: left;margin-right: 0.25em;color: #696969;}#sk-container-id-4 label.sk-toggleable__label-arrow:hover:before {color: black;}#sk-container-id-4 div.sk-estimator:hover label.sk-toggleable__label-arrow:before {color: black;}#sk-container-id-4 div.sk-toggleable__content {max-height: 0;max-width: 0;overflow: hidden;text-align: left;background-color: #f0f8ff;}#sk-container-id-4 div.sk-toggleable__content pre {margin: 0.2em;color: black;border-radius: 0.25em;background-color: #f0f8ff;}#sk-container-id-4 input.sk-toggleable__control:checked~div.sk-toggleable__content {max-height: 200px;max-width: 100%;overflow: auto;}#sk-container-id-4 input.sk-toggleable__control:checked~label.sk-toggleable__label-arrow:before {content: \"▾\";}#sk-container-id-4 div.sk-estimator input.sk-toggleable__control:checked~label.sk-toggleable__label {background-color: #d4ebff;}#sk-container-id-4 div.sk-label input.sk-toggleable__control:checked~label.sk-toggleable__label {background-color: #d4ebff;}#sk-container-id-4 input.sk-hidden--visually {border: 0;clip: rect(1px 1px 1px 1px);clip: rect(1px, 1px, 1px, 1px);height: 1px;margin: -1px;overflow: hidden;padding: 0;position: absolute;width: 1px;}#sk-container-id-4 div.sk-estimator {font-family: monospace;background-color: #f0f8ff;border: 1px dotted black;border-radius: 0.25em;box-sizing: border-box;margin-bottom: 0.5em;}#sk-container-id-4 div.sk-estimator:hover {background-color: #d4ebff;}#sk-container-id-4 div.sk-parallel-item::after {content: \"\";width: 100%;border-bottom: 1px solid gray;flex-grow: 1;}#sk-container-id-4 div.sk-label:hover label.sk-toggleable__label {background-color: #d4ebff;}#sk-container-id-4 div.sk-serial::before {content: \"\";position: absolute;border-left: 1px solid gray;box-sizing: border-box;top: 0;bottom: 0;left: 50%;z-index: 0;}#sk-container-id-4 div.sk-serial {display: flex;flex-direction: column;align-items: center;background-color: white;padding-right: 0.2em;padding-left: 0.2em;position: relative;}#sk-container-id-4 div.sk-item {position: relative;z-index: 1;}#sk-container-id-4 div.sk-parallel {display: flex;align-items: stretch;justify-content: center;background-color: white;position: relative;}#sk-container-id-4 div.sk-item::before, #sk-container-id-4 div.sk-parallel-item::before {content: \"\";position: absolute;border-left: 1px solid gray;box-sizing: border-box;top: 0;bottom: 0;left: 50%;z-index: -1;}#sk-container-id-4 div.sk-parallel-item {display: flex;flex-direction: column;z-index: 1;position: relative;background-color: white;}#sk-container-id-4 div.sk-parallel-item:first-child::after {align-self: flex-end;width: 50%;}#sk-container-id-4 div.sk-parallel-item:last-child::after {align-self: flex-start;width: 50%;}#sk-container-id-4 div.sk-parallel-item:only-child::after {width: 0;}#sk-container-id-4 div.sk-dashed-wrapped {border: 1px dashed gray;margin: 0 0.4em 0.5em 0.4em;box-sizing: border-box;padding-bottom: 0.4em;background-color: white;}#sk-container-id-4 div.sk-label label {font-family: monospace;font-weight: bold;display: inline-block;line-height: 1.2em;}#sk-container-id-4 div.sk-label-container {text-align: center;}#sk-container-id-4 div.sk-container {/* jupyter's `normalize.less` sets `[hidden] { display: none; }` but bootstrap.min.css set `[hidden] { display: none !important; }` so we also need the `!important` here to be able to override the default hidden behavior on the sphinx rendered scikit-learn.org. See: https://github.com/scikit-learn/scikit-learn/issues/21755 */display: inline-block !important;position: relative;}#sk-container-id-4 div.sk-text-repr-fallback {display: none;}</style><div id=\"sk-container-id-4\" class=\"sk-top-container\"><div class=\"sk-text-repr-fallback\"><pre>GridSearchCV(cv=10, estimator=Lasso(),\n",
              "             param_grid={&#x27;alpha&#x27;: array([1.e-04, 1.e-03, 1.e-02, 1.e-01, 1.e+00, 1.e+01])})</pre><b>In a Jupyter environment, please rerun this cell to show the HTML representation or trust the notebook. <br />On GitHub, the HTML representation is unable to render, please try loading this page with nbviewer.org.</b></div><div class=\"sk-container\" hidden><div class=\"sk-item sk-dashed-wrapped\"><div class=\"sk-label-container\"><div class=\"sk-label sk-toggleable\"><input class=\"sk-toggleable__control sk-hidden--visually\" id=\"sk-estimator-id-6\" type=\"checkbox\" ><label for=\"sk-estimator-id-6\" class=\"sk-toggleable__label sk-toggleable__label-arrow\">GridSearchCV</label><div class=\"sk-toggleable__content\"><pre>GridSearchCV(cv=10, estimator=Lasso(),\n",
              "             param_grid={&#x27;alpha&#x27;: array([1.e-04, 1.e-03, 1.e-02, 1.e-01, 1.e+00, 1.e+01])})</pre></div></div></div><div class=\"sk-parallel\"><div class=\"sk-parallel-item\"><div class=\"sk-item\"><div class=\"sk-label-container\"><div class=\"sk-label sk-toggleable\"><input class=\"sk-toggleable__control sk-hidden--visually\" id=\"sk-estimator-id-7\" type=\"checkbox\" ><label for=\"sk-estimator-id-7\" class=\"sk-toggleable__label sk-toggleable__label-arrow\">estimator: Lasso</label><div class=\"sk-toggleable__content\"><pre>Lasso()</pre></div></div></div><div class=\"sk-serial\"><div class=\"sk-item\"><div class=\"sk-estimator sk-toggleable\"><input class=\"sk-toggleable__control sk-hidden--visually\" id=\"sk-estimator-id-8\" type=\"checkbox\" ><label for=\"sk-estimator-id-8\" class=\"sk-toggleable__label sk-toggleable__label-arrow\">Lasso</label><div class=\"sk-toggleable__content\"><pre>Lasso()</pre></div></div></div></div></div></div></div></div></div></div>"
            ]
          },
          "metadata": {},
          "execution_count": 33
        }
      ]
    },
    {
      "cell_type": "markdown",
      "source": [
        "# Ridge Regression From scratch (5 points)"
      ],
      "metadata": {
        "id": "6vHBMK9pU_PW"
      }
    },
    {
      "cell_type": "markdown",
      "source": [
        "Train a ridge regression model using your own code and the following class."
      ],
      "metadata": {
        "id": "qkmTdCqlU_PW"
      }
    },
    {
      "cell_type": "code",
      "source": [
        "class RidgeRegression(Regression):\n",
        "    def __init__(self, lamda, learning_rate, iteration):\n",
        "        self.regularization = l2_regularization(lamda)\n",
        "        super(RidgeRegression, self).__init__(learning_rate, iteration, self.regularization)"
      ],
      "metadata": {
        "execution": {
          "iopub.status.busy": "2023-04-30T08:35:21.762634Z",
          "iopub.execute_input": "2023-04-30T08:35:21.763364Z",
          "iopub.status.idle": "2023-04-30T08:35:21.769134Z",
          "shell.execute_reply.started": "2023-04-30T08:35:21.763321Z",
          "shell.execute_reply": "2023-04-30T08:35:21.768198Z"
        },
        "trusted": true,
        "id": "ueIbohzQU_PW"
      },
      "execution_count": 21,
      "outputs": []
    },
    {
      "cell_type": "code",
      "source": [
        "rr_model_scratch = RidgeRegression(0.001, 0.01, 500)\n",
        "rr_model_scratch.train(x_train, y_train_reshaped)"
      ],
      "metadata": {
        "execution": {
          "iopub.status.busy": "2023-04-30T08:36:39.759220Z",
          "iopub.execute_input": "2023-04-30T08:36:39.759679Z",
          "iopub.status.idle": "2023-04-30T08:36:39.803215Z",
          "shell.execute_reply.started": "2023-04-30T08:36:39.759636Z",
          "shell.execute_reply": "2023-04-30T08:36:39.801482Z"
        },
        "trusted": true,
        "id": "Ows-DOCFU_PW",
        "colab": {
          "base_uri": "https://localhost:8080/"
        },
        "outputId": "77e559a2-ce09-444b-e352-9a2d9489fb6d"
      },
      "execution_count": 22,
      "outputs": [
        {
          "output_type": "stream",
          "name": "stdout",
          "text": [
            "The loss function for the iteration 10----->2005.927444951402 :)\n",
            "The loss function for the iteration 20----->1630.2430198948023 :)\n",
            "The loss function for the iteration 30----->1328.2041572889157 :)\n",
            "The loss function for the iteration 40----->1083.9149478904367 :)\n",
            "The loss function for the iteration 50----->885.804795202087 :)\n",
            "The loss function for the iteration 60----->724.8745234289274 :)\n",
            "The loss function for the iteration 70----->593.9701482305692 :)\n",
            "The loss function for the iteration 80----->487.35929951867234 :)\n",
            "The loss function for the iteration 90----->400.432108401373 :)\n",
            "The loss function for the iteration 100----->329.47335639419316 :)\n",
            "The loss function for the iteration 110----->271.4840297370371 :)\n",
            "The loss function for the iteration 120----->224.03998749550163 :)\n",
            "The loss function for the iteration 130----->185.17940159274642 :)\n",
            "The loss function for the iteration 140----->153.3128095508371 :)\n",
            "The loss function for the iteration 150----->127.15106618853514 :)\n",
            "The loss function for the iteration 160----->105.64752535649288 :)\n",
            "The loss function for the iteration 170----->87.95156951070892 :)\n",
            "The loss function for the iteration 180----->73.37120977345771 :)\n",
            "The loss function for the iteration 190----->61.3429497815281 :)\n",
            "The loss function for the iteration 200----->51.40747568779282 :)\n",
            "The loss function for the iteration 210----->43.19002564671032 :)\n",
            "The loss function for the iteration 220----->36.38452241505255 :)\n",
            "The loss function for the iteration 230----->30.740735542416697 :)\n",
            "The loss function for the iteration 240----->26.053885148158244 :)\n",
            "The loss function for the iteration 250----->22.156215335594307 :)\n",
            "The loss function for the iteration 260----->18.91015800747193 :)\n",
            "The loss function for the iteration 270----->16.20278202411375 :)\n",
            "The loss function for the iteration 280----->13.941282071563359 :)\n",
            "The loss function for the iteration 290----->12.049309271752032 :)\n",
            "The loss function for the iteration 300----->10.463983839443884 :)\n",
            "The loss function for the iteration 310----->9.133460853015574 :)\n",
            "The loss function for the iteration 320----->8.01494495514937 :)\n",
            "The loss function for the iteration 330----->7.07306972853132 :)\n",
            "The loss function for the iteration 340----->6.278573553124028 :)\n",
            "The loss function for the iteration 350----->5.607216706829749 :)\n",
            "The loss function for the iteration 360----->5.038894929533695 :)\n",
            "The loss function for the iteration 370----->4.5569131196003525 :)\n",
            "The loss function for the iteration 380----->4.147389663190051 :)\n",
            "The loss function for the iteration 390----->3.7987674242911122 :)\n",
            "The loss function for the iteration 400----->3.5014118994019965 :)\n",
            "The loss function for the iteration 410----->3.2472806681494064 :)\n",
            "The loss function for the iteration 420----->3.029651212965117 :)\n",
            "The loss function for the iteration 430----->2.8428965686626206 :)\n",
            "The loss function for the iteration 440----->2.6823002022251807 :)\n",
            "The loss function for the iteration 450----->2.543903099713491 :)\n",
            "The loss function for the iteration 460----->2.424377319836875 :)\n",
            "The loss function for the iteration 470----->2.320921318027365 :)\n",
            "The loss function for the iteration 480----->2.2311731957951917 :)\n",
            "The loss function for the iteration 490----->2.1531387240799735 :)\n",
            "The loss function for the iteration 500----->2.085131555677857 :)\n"
          ]
        }
      ]
    },
    {
      "cell_type": "markdown",
      "source": [
        "# Ridge Regression using scikit-learn (5 points)"
      ],
      "metadata": {
        "id": "etHAUbz3U_PW"
      }
    },
    {
      "cell_type": "markdown",
      "source": [
        "Use `sklearn` to train a Ridge Regression Model. To determine the best regularization coefficients, use grid-search (or other techniques you've learned till now)."
      ],
      "metadata": {
        "id": "-CHPali0U_PW"
      }
    },
    {
      "cell_type": "code",
      "source": [
        "rr_model_sklearn = Ridge()\n",
        "rr_model_sklearn.fit(x_train, y_train)"
      ],
      "metadata": {
        "execution": {
          "iopub.status.busy": "2023-04-30T08:37:26.807262Z",
          "iopub.execute_input": "2023-04-30T08:37:26.807683Z",
          "iopub.status.idle": "2023-04-30T08:37:26.832283Z",
          "shell.execute_reply.started": "2023-04-30T08:37:26.807621Z",
          "shell.execute_reply": "2023-04-30T08:37:26.830639Z"
        },
        "trusted": true,
        "id": "IJY3TMVAU_PW",
        "colab": {
          "base_uri": "https://localhost:8080/"
        },
        "outputId": "a2f88394-80c2-471b-e7c2-e2993c03f5ba"
      },
      "execution_count": 23,
      "outputs": [
        {
          "output_type": "execute_result",
          "data": {
            "text/plain": [
              "Ridge()"
            ],
            "text/html": [
              "<style>#sk-container-id-2 {color: black;background-color: white;}#sk-container-id-2 pre{padding: 0;}#sk-container-id-2 div.sk-toggleable {background-color: white;}#sk-container-id-2 label.sk-toggleable__label {cursor: pointer;display: block;width: 100%;margin-bottom: 0;padding: 0.3em;box-sizing: border-box;text-align: center;}#sk-container-id-2 label.sk-toggleable__label-arrow:before {content: \"▸\";float: left;margin-right: 0.25em;color: #696969;}#sk-container-id-2 label.sk-toggleable__label-arrow:hover:before {color: black;}#sk-container-id-2 div.sk-estimator:hover label.sk-toggleable__label-arrow:before {color: black;}#sk-container-id-2 div.sk-toggleable__content {max-height: 0;max-width: 0;overflow: hidden;text-align: left;background-color: #f0f8ff;}#sk-container-id-2 div.sk-toggleable__content pre {margin: 0.2em;color: black;border-radius: 0.25em;background-color: #f0f8ff;}#sk-container-id-2 input.sk-toggleable__control:checked~div.sk-toggleable__content {max-height: 200px;max-width: 100%;overflow: auto;}#sk-container-id-2 input.sk-toggleable__control:checked~label.sk-toggleable__label-arrow:before {content: \"▾\";}#sk-container-id-2 div.sk-estimator input.sk-toggleable__control:checked~label.sk-toggleable__label {background-color: #d4ebff;}#sk-container-id-2 div.sk-label input.sk-toggleable__control:checked~label.sk-toggleable__label {background-color: #d4ebff;}#sk-container-id-2 input.sk-hidden--visually {border: 0;clip: rect(1px 1px 1px 1px);clip: rect(1px, 1px, 1px, 1px);height: 1px;margin: -1px;overflow: hidden;padding: 0;position: absolute;width: 1px;}#sk-container-id-2 div.sk-estimator {font-family: monospace;background-color: #f0f8ff;border: 1px dotted black;border-radius: 0.25em;box-sizing: border-box;margin-bottom: 0.5em;}#sk-container-id-2 div.sk-estimator:hover {background-color: #d4ebff;}#sk-container-id-2 div.sk-parallel-item::after {content: \"\";width: 100%;border-bottom: 1px solid gray;flex-grow: 1;}#sk-container-id-2 div.sk-label:hover label.sk-toggleable__label {background-color: #d4ebff;}#sk-container-id-2 div.sk-serial::before {content: \"\";position: absolute;border-left: 1px solid gray;box-sizing: border-box;top: 0;bottom: 0;left: 50%;z-index: 0;}#sk-container-id-2 div.sk-serial {display: flex;flex-direction: column;align-items: center;background-color: white;padding-right: 0.2em;padding-left: 0.2em;position: relative;}#sk-container-id-2 div.sk-item {position: relative;z-index: 1;}#sk-container-id-2 div.sk-parallel {display: flex;align-items: stretch;justify-content: center;background-color: white;position: relative;}#sk-container-id-2 div.sk-item::before, #sk-container-id-2 div.sk-parallel-item::before {content: \"\";position: absolute;border-left: 1px solid gray;box-sizing: border-box;top: 0;bottom: 0;left: 50%;z-index: -1;}#sk-container-id-2 div.sk-parallel-item {display: flex;flex-direction: column;z-index: 1;position: relative;background-color: white;}#sk-container-id-2 div.sk-parallel-item:first-child::after {align-self: flex-end;width: 50%;}#sk-container-id-2 div.sk-parallel-item:last-child::after {align-self: flex-start;width: 50%;}#sk-container-id-2 div.sk-parallel-item:only-child::after {width: 0;}#sk-container-id-2 div.sk-dashed-wrapped {border: 1px dashed gray;margin: 0 0.4em 0.5em 0.4em;box-sizing: border-box;padding-bottom: 0.4em;background-color: white;}#sk-container-id-2 div.sk-label label {font-family: monospace;font-weight: bold;display: inline-block;line-height: 1.2em;}#sk-container-id-2 div.sk-label-container {text-align: center;}#sk-container-id-2 div.sk-container {/* jupyter's `normalize.less` sets `[hidden] { display: none; }` but bootstrap.min.css set `[hidden] { display: none !important; }` so we also need the `!important` here to be able to override the default hidden behavior on the sphinx rendered scikit-learn.org. See: https://github.com/scikit-learn/scikit-learn/issues/21755 */display: inline-block !important;position: relative;}#sk-container-id-2 div.sk-text-repr-fallback {display: none;}</style><div id=\"sk-container-id-2\" class=\"sk-top-container\"><div class=\"sk-text-repr-fallback\"><pre>Ridge()</pre><b>In a Jupyter environment, please rerun this cell to show the HTML representation or trust the notebook. <br />On GitHub, the HTML representation is unable to render, please try loading this page with nbviewer.org.</b></div><div class=\"sk-container\" hidden><div class=\"sk-item\"><div class=\"sk-estimator sk-toggleable\"><input class=\"sk-toggleable__control sk-hidden--visually\" id=\"sk-estimator-id-2\" type=\"checkbox\" checked><label for=\"sk-estimator-id-2\" class=\"sk-toggleable__label sk-toggleable__label-arrow\">Ridge</label><div class=\"sk-toggleable__content\"><pre>Ridge()</pre></div></div></div></div></div>"
            ]
          },
          "metadata": {},
          "execution_count": 23
        }
      ]
    },
    {
      "cell_type": "code",
      "source": [
        "param_grid = {'alpha': np.logspace(-4, 1, 6)}\n",
        "grid_ridge = GridSearchCV(Ridge(), param_grid, cv=10)\n",
        "grid_ridge.fit(x_train, y_train)"
      ],
      "metadata": {
        "colab": {
          "base_uri": "https://localhost:8080/"
        },
        "id": "7Z3hczxzlp19",
        "outputId": "154f75ca-74b1-4b96-fd15-4fc7fa59b9d4"
      },
      "execution_count": 34,
      "outputs": [
        {
          "output_type": "execute_result",
          "data": {
            "text/plain": [
              "GridSearchCV(cv=10, estimator=Ridge(),\n",
              "             param_grid={'alpha': array([1.e-04, 1.e-03, 1.e-02, 1.e-01, 1.e+00, 1.e+01])})"
            ],
            "text/html": [
              "<style>#sk-container-id-5 {color: black;background-color: white;}#sk-container-id-5 pre{padding: 0;}#sk-container-id-5 div.sk-toggleable {background-color: white;}#sk-container-id-5 label.sk-toggleable__label {cursor: pointer;display: block;width: 100%;margin-bottom: 0;padding: 0.3em;box-sizing: border-box;text-align: center;}#sk-container-id-5 label.sk-toggleable__label-arrow:before {content: \"▸\";float: left;margin-right: 0.25em;color: #696969;}#sk-container-id-5 label.sk-toggleable__label-arrow:hover:before {color: black;}#sk-container-id-5 div.sk-estimator:hover label.sk-toggleable__label-arrow:before {color: black;}#sk-container-id-5 div.sk-toggleable__content {max-height: 0;max-width: 0;overflow: hidden;text-align: left;background-color: #f0f8ff;}#sk-container-id-5 div.sk-toggleable__content pre {margin: 0.2em;color: black;border-radius: 0.25em;background-color: #f0f8ff;}#sk-container-id-5 input.sk-toggleable__control:checked~div.sk-toggleable__content {max-height: 200px;max-width: 100%;overflow: auto;}#sk-container-id-5 input.sk-toggleable__control:checked~label.sk-toggleable__label-arrow:before {content: \"▾\";}#sk-container-id-5 div.sk-estimator input.sk-toggleable__control:checked~label.sk-toggleable__label {background-color: #d4ebff;}#sk-container-id-5 div.sk-label input.sk-toggleable__control:checked~label.sk-toggleable__label {background-color: #d4ebff;}#sk-container-id-5 input.sk-hidden--visually {border: 0;clip: rect(1px 1px 1px 1px);clip: rect(1px, 1px, 1px, 1px);height: 1px;margin: -1px;overflow: hidden;padding: 0;position: absolute;width: 1px;}#sk-container-id-5 div.sk-estimator {font-family: monospace;background-color: #f0f8ff;border: 1px dotted black;border-radius: 0.25em;box-sizing: border-box;margin-bottom: 0.5em;}#sk-container-id-5 div.sk-estimator:hover {background-color: #d4ebff;}#sk-container-id-5 div.sk-parallel-item::after {content: \"\";width: 100%;border-bottom: 1px solid gray;flex-grow: 1;}#sk-container-id-5 div.sk-label:hover label.sk-toggleable__label {background-color: #d4ebff;}#sk-container-id-5 div.sk-serial::before {content: \"\";position: absolute;border-left: 1px solid gray;box-sizing: border-box;top: 0;bottom: 0;left: 50%;z-index: 0;}#sk-container-id-5 div.sk-serial {display: flex;flex-direction: column;align-items: center;background-color: white;padding-right: 0.2em;padding-left: 0.2em;position: relative;}#sk-container-id-5 div.sk-item {position: relative;z-index: 1;}#sk-container-id-5 div.sk-parallel {display: flex;align-items: stretch;justify-content: center;background-color: white;position: relative;}#sk-container-id-5 div.sk-item::before, #sk-container-id-5 div.sk-parallel-item::before {content: \"\";position: absolute;border-left: 1px solid gray;box-sizing: border-box;top: 0;bottom: 0;left: 50%;z-index: -1;}#sk-container-id-5 div.sk-parallel-item {display: flex;flex-direction: column;z-index: 1;position: relative;background-color: white;}#sk-container-id-5 div.sk-parallel-item:first-child::after {align-self: flex-end;width: 50%;}#sk-container-id-5 div.sk-parallel-item:last-child::after {align-self: flex-start;width: 50%;}#sk-container-id-5 div.sk-parallel-item:only-child::after {width: 0;}#sk-container-id-5 div.sk-dashed-wrapped {border: 1px dashed gray;margin: 0 0.4em 0.5em 0.4em;box-sizing: border-box;padding-bottom: 0.4em;background-color: white;}#sk-container-id-5 div.sk-label label {font-family: monospace;font-weight: bold;display: inline-block;line-height: 1.2em;}#sk-container-id-5 div.sk-label-container {text-align: center;}#sk-container-id-5 div.sk-container {/* jupyter's `normalize.less` sets `[hidden] { display: none; }` but bootstrap.min.css set `[hidden] { display: none !important; }` so we also need the `!important` here to be able to override the default hidden behavior on the sphinx rendered scikit-learn.org. See: https://github.com/scikit-learn/scikit-learn/issues/21755 */display: inline-block !important;position: relative;}#sk-container-id-5 div.sk-text-repr-fallback {display: none;}</style><div id=\"sk-container-id-5\" class=\"sk-top-container\"><div class=\"sk-text-repr-fallback\"><pre>GridSearchCV(cv=10, estimator=Ridge(),\n",
              "             param_grid={&#x27;alpha&#x27;: array([1.e-04, 1.e-03, 1.e-02, 1.e-01, 1.e+00, 1.e+01])})</pre><b>In a Jupyter environment, please rerun this cell to show the HTML representation or trust the notebook. <br />On GitHub, the HTML representation is unable to render, please try loading this page with nbviewer.org.</b></div><div class=\"sk-container\" hidden><div class=\"sk-item sk-dashed-wrapped\"><div class=\"sk-label-container\"><div class=\"sk-label sk-toggleable\"><input class=\"sk-toggleable__control sk-hidden--visually\" id=\"sk-estimator-id-9\" type=\"checkbox\" ><label for=\"sk-estimator-id-9\" class=\"sk-toggleable__label sk-toggleable__label-arrow\">GridSearchCV</label><div class=\"sk-toggleable__content\"><pre>GridSearchCV(cv=10, estimator=Ridge(),\n",
              "             param_grid={&#x27;alpha&#x27;: array([1.e-04, 1.e-03, 1.e-02, 1.e-01, 1.e+00, 1.e+01])})</pre></div></div></div><div class=\"sk-parallel\"><div class=\"sk-parallel-item\"><div class=\"sk-item\"><div class=\"sk-label-container\"><div class=\"sk-label sk-toggleable\"><input class=\"sk-toggleable__control sk-hidden--visually\" id=\"sk-estimator-id-10\" type=\"checkbox\" ><label for=\"sk-estimator-id-10\" class=\"sk-toggleable__label sk-toggleable__label-arrow\">estimator: Ridge</label><div class=\"sk-toggleable__content\"><pre>Ridge()</pre></div></div></div><div class=\"sk-serial\"><div class=\"sk-item\"><div class=\"sk-estimator sk-toggleable\"><input class=\"sk-toggleable__control sk-hidden--visually\" id=\"sk-estimator-id-11\" type=\"checkbox\" ><label for=\"sk-estimator-id-11\" class=\"sk-toggleable__label sk-toggleable__label-arrow\">Ridge</label><div class=\"sk-toggleable__content\"><pre>Ridge()</pre></div></div></div></div></div></div></div></div></div></div>"
            ]
          },
          "metadata": {},
          "execution_count": 34
        }
      ]
    },
    {
      "cell_type": "markdown",
      "source": [
        "# Evaluation (15 points)"
      ],
      "metadata": {
        "id": "bRGCZENmU_PW"
      }
    },
    {
      "cell_type": "markdown",
      "source": [
        "For each model (the 2 models trained using `sklearn` and the ones based on your code), predict the output for the testing samples."
      ],
      "metadata": {
        "id": "1KGVuWJUU_PW"
      }
    },
    {
      "cell_type": "code",
      "source": [
        "y_pred_lr_scratch = lr_model_scratch.predict(x_test)\n",
        "y_pred_lr_sklearn = lr_model_sklearn.predict(x_test)\n",
        "y_pred_rr_scratch = rr_model_scratch.predict(x_test)\n",
        "y_pred_rr_sklearn = rr_model_sklearn.predict(x_test)"
      ],
      "metadata": {
        "execution": {
          "iopub.status.busy": "2023-04-30T08:37:34.817713Z",
          "iopub.execute_input": "2023-04-30T08:37:34.818097Z",
          "iopub.status.idle": "2023-04-30T08:37:34.828388Z",
          "shell.execute_reply.started": "2023-04-30T08:37:34.818063Z",
          "shell.execute_reply": "2023-04-30T08:37:34.826441Z"
        },
        "trusted": true,
        "id": "JWkNVRW7U_PW"
      },
      "execution_count": 24,
      "outputs": []
    },
    {
      "cell_type": "code",
      "source": [
        "y_pred_lr_gs = grid_laso.predict(x_test)\n",
        "y_pred_rr_gs = grid_ridge.predict(x_test)"
      ],
      "metadata": {
        "id": "Zp4M9F5zklKt"
      },
      "execution_count": 35,
      "outputs": []
    },
    {
      "cell_type": "markdown",
      "source": [
        "Measure the performance of the models based on \"mean squared error\" and the \"coefficient of determination\" of the prediction."
      ],
      "metadata": {
        "id": "jm-OLTTvU_PX"
      }
    },
    {
      "cell_type": "code",
      "source": [
        "from sklearn.metrics import r2_score"
      ],
      "metadata": {
        "id": "8nISZkyEJKcX"
      },
      "execution_count": 25,
      "outputs": []
    },
    {
      "cell_type": "markdown",
      "source": [
        "### Lasso regression scratch"
      ],
      "metadata": {
        "id": "jkJ2gfIgk9C9"
      }
    },
    {
      "cell_type": "code",
      "source": [
        "mse_lr_scratch = mean_squared_error(y_test, y_pred_lr_scratch)\n",
        "r2_lr_scratch = r2_score(y_test, y_pred_lr_scratch)\n",
        "print(f'Mean squared error: {mse_lr_scratch:.2f}')\n",
        "print(f'Coefficient of determination (R^2): {r2_lr_scratch:.2f}')"
      ],
      "metadata": {
        "colab": {
          "base_uri": "https://localhost:8080/"
        },
        "id": "c4twFi5pJ9sq",
        "outputId": "39c0305f-5cb0-425e-97f3-4fc317046e32"
      },
      "execution_count": 26,
      "outputs": [
        {
          "output_type": "stream",
          "name": "stdout",
          "text": [
            "Mean squared error: 6.96\n",
            "Coefficient of determination (R^2): 0.89\n"
          ]
        }
      ]
    },
    {
      "cell_type": "markdown",
      "source": [
        "### Lasso regression sklearn"
      ],
      "metadata": {
        "id": "9EzhN_P7lFAL"
      }
    },
    {
      "cell_type": "code",
      "source": [
        "mse_lr_sklearn = mean_squared_error(y_test, y_pred_lr_sklearn)\n",
        "r2_lr_sklearn = r2_score(y_test, y_pred_lr_sklearn)\n",
        "print(f'Mean squared error: {mse_lr_sklearn:.2f}')\n",
        "print(f'Coefficient of determination (R^2): {r2_lr_sklearn:.2f}')"
      ],
      "metadata": {
        "execution": {
          "iopub.status.busy": "2023-04-30T08:37:38.137503Z",
          "iopub.execute_input": "2023-04-30T08:37:38.137975Z",
          "iopub.status.idle": "2023-04-30T08:37:38.147255Z",
          "shell.execute_reply.started": "2023-04-30T08:37:38.137931Z",
          "shell.execute_reply": "2023-04-30T08:37:38.145677Z"
        },
        "trusted": true,
        "id": "-MqKWn_WU_PX",
        "colab": {
          "base_uri": "https://localhost:8080/"
        },
        "outputId": "a91f4112-7825-4853-9c4b-cc14b0e09240"
      },
      "execution_count": 27,
      "outputs": [
        {
          "output_type": "stream",
          "name": "stdout",
          "text": [
            "Mean squared error: 14.38\n",
            "Coefficient of determination (R^2): 0.78\n"
          ]
        }
      ]
    },
    {
      "cell_type": "markdown",
      "source": [
        "### Lasso regression sklearn - grid search"
      ],
      "metadata": {
        "id": "0kf0sNFZlKOJ"
      }
    },
    {
      "cell_type": "code",
      "source": [
        "mse_lr_sklearn = mean_squared_error(y_test, y_pred_lr_gs)\n",
        "r2_lr_sklearn = r2_score(y_test, y_pred_lr_gs)\n",
        "print(f'Mean squared error: {mse_lr_sklearn:.2f}')\n",
        "print(f'Coefficient of determination (R^2): {r2_lr_sklearn:.2f}')"
      ],
      "metadata": {
        "colab": {
          "base_uri": "https://localhost:8080/"
        },
        "id": "RlWfpKqTk0yc",
        "outputId": "b5db628e-9e16-4886-e771-49c2c89e0078"
      },
      "execution_count": 32,
      "outputs": [
        {
          "output_type": "stream",
          "name": "stdout",
          "text": [
            "Mean squared error: 3.31\n",
            "Coefficient of determination (R^2): 0.95\n"
          ]
        }
      ]
    },
    {
      "cell_type": "markdown",
      "source": [
        "### Ridge regression scratch"
      ],
      "metadata": {
        "id": "8GlnJn45lQe_"
      }
    },
    {
      "cell_type": "code",
      "source": [
        "mse_rr_scratch = mean_squared_error(y_test, y_pred_rr_scratch)\n",
        "r2_rr_scratch = r2_score(y_test, y_pred_rr_scratch)\n",
        "print(f'Mean squared error: {mse_rr_scratch:.2f}')\n",
        "print(f'Coefficient of determination (R^2): {r2_rr_scratch:.2f}')"
      ],
      "metadata": {
        "colab": {
          "base_uri": "https://localhost:8080/"
        },
        "id": "qZl30lWsKIAg",
        "outputId": "83ed2d4c-26d9-4bc7-f561-26458a6bb11d"
      },
      "execution_count": 28,
      "outputs": [
        {
          "output_type": "stream",
          "name": "stdout",
          "text": [
            "Mean squared error: 19.93\n",
            "Coefficient of determination (R^2): 0.70\n"
          ]
        }
      ]
    },
    {
      "cell_type": "markdown",
      "source": [
        "### Ridge regression sklearn"
      ],
      "metadata": {
        "id": "7M7Tnn_LlVgL"
      }
    },
    {
      "cell_type": "code",
      "source": [
        "mse_rr_sklearn = mean_squared_error(y_test, y_pred_rr_sklearn)\n",
        "r2_rr_sklearn = r2_score(y_test, y_pred_rr_sklearn)\n",
        "print(f'Mean squared error: {mse_rr_sklearn:.2f}')\n",
        "print(f'Coefficient of determination (R^2): {r2_rr_sklearn:.2f}')"
      ],
      "metadata": {
        "colab": {
          "base_uri": "https://localhost:8080/"
        },
        "id": "GeIQ6SckJcEx",
        "outputId": "5d9055ec-80c2-4dc6-cf6f-fb71e0a420b8"
      },
      "execution_count": 29,
      "outputs": [
        {
          "output_type": "stream",
          "name": "stdout",
          "text": [
            "Mean squared error: 3.22\n",
            "Coefficient of determination (R^2): 0.95\n"
          ]
        }
      ]
    },
    {
      "cell_type": "markdown",
      "source": [
        "### Ridge regression sklearn - grid search"
      ],
      "metadata": {
        "id": "Xn7IOqNmlZeh"
      }
    },
    {
      "cell_type": "code",
      "source": [
        "mse_lr_sklearn = mean_squared_error(y_test, y_pred_rr_gs)\n",
        "r2_lr_sklearn = r2_score(y_test, y_pred_rr_gs)\n",
        "print(f'Mean squared error: {mse_lr_sklearn:.2f}')\n",
        "print(f'Coefficient of determination (R^2): {r2_lr_sklearn:.2f}')"
      ],
      "metadata": {
        "colab": {
          "base_uri": "https://localhost:8080/"
        },
        "id": "lf8RAbHxlfMO",
        "outputId": "bf37ad74-1aab-459b-d948-1432227bcbf1"
      },
      "execution_count": 36,
      "outputs": [
        {
          "output_type": "stream",
          "name": "stdout",
          "text": [
            "Mean squared error: 3.23\n",
            "Coefficient of determination (R^2): 0.95\n"
          ]
        }
      ]
    },
    {
      "cell_type": "markdown",
      "source": [
        "# Kaggle"
      ],
      "metadata": {
        "id": "RKvQNxCBd4bH"
      }
    },
    {
      "cell_type": "markdown",
      "source": [
        "Competition Link: https://www.kaggle.com/t/adbf95666e7c4f41a6be1129a9e4415c"
      ],
      "metadata": {
        "id": "SWVaPC-Yd6yb"
      }
    }
  ]
}